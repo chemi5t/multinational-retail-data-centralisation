{
 "cells": [
  {
   "cell_type": "code",
   "execution_count": 1,
   "metadata": {},
   "outputs": [],
   "source": [
    "from database_utils import DatabaseConnector as dc\n",
    "from data_extraction import DataExtractor as dex\n",
    "from data_cleaning import DataCleaning as dcl\n",
    "\n",
    "import pandas as pd\n",
    "import nbformat # save as .ipynb\n",
    "\n",
    "import yaml # to read .yaml. Help with read_db_creds\n",
    "from sqlalchemy import create_engine, inspect # this ORM will transform the python objects into SQL tables\n"
   ]
  },
  {
   "cell_type": "code",
   "execution_count": 2,
   "metadata": {},
   "outputs": [
    {
     "name": "stdout",
     "output_type": "stream",
     "text": [
      "Available Tables:  ['legacy_store_details', 'legacy_users', 'orders_table']\n",
      "Saved legacy_store_details DataFrame as legacy_store_details_data.csv\n",
      "Saved legacy_users DataFrame as legacy_users_data.csv\n",
      "Saved orders_table DataFrame as orders_table_data.csv\n"
     ]
    }
   ],
   "source": [
    "file_path='db_creds.yaml' # Step 1: Specify the correct file path\n",
    "database_connector = dc()\n",
    "credentials = database_connector.read_db_creds(file_path)    # Step 2: Read credentials\n",
    "engine = database_connector.init_db_engine(credentials)      # Step 3: Initialise database engine\n",
    "data_extractor = dex()\n",
    "\n",
    "# Rest of your code for extracting data and saving the notebook\n",
    "tables = data_extractor.list_db_tables(engine)   \n",
    "# Available Tables: ['legacy_store_details', 'legacy_users', 'orders_table']            \n",
    "print(\"Available Tables: \", tables)                          # Step 4: List all tables in the database\n",
    "for table_name in tables:\n",
    "\n",
    "    # Import data from the table into DataFrame\n",
    "    table_df = pd.read_sql(table_name, engine)\n",
    "\n",
    "    # Save the DataFrame as a CSV file\n",
    "    csv_filename = f\"{table_name}_data.csv\"\n",
    "    table_df.to_csv(csv_filename, index=False)\n",
    "    print(f\"Saved {table_name} DataFrame as {csv_filename}\")"
   ]
  },
  {
   "cell_type": "code",
   "execution_count": 7,
   "metadata": {},
   "outputs": [
    {
     "name": "stdout",
     "output_type": "stream",
     "text": [
      "Original value: 80r\n",
      "Matched value: 80\n",
      "80\n",
      "Original value: rt78\n",
      "Matched value: 78\n",
      "78\n",
      "Original value: 101\n",
      "Matched value: 101\n",
      "101\n"
     ]
    }
   ],
   "source": [
    "import re\n",
    "\n",
    "# Define a regular expression pattern\n",
    "integer_pattern = re.compile(r'\\d+')\n",
    "\n",
    "# Example values as a list\n",
    "values = ['80r', 'rt78', '101']\n",
    "\n",
    "# Iterate over each element in the list\n",
    "for value in values:\n",
    "    # Use search method to find the first match of the pattern in the string\n",
    "    match = integer_pattern.search(str(value))\n",
    "\n",
    "    # Check if a match is found\n",
    "    if match:\n",
    "        # Access the matched portion using group()\n",
    "        matched_value = match.group()\n",
    "        print(f\"Original value: {value}\")\n",
    "        print(f\"Matched value: {matched_value}\")\n",
    "        print(matched_value)\n",
    "    else:\n",
    "        print(f\"No match found for {value}\")\n"
   ]
  }
 ],
 "metadata": {
  "kernelspec": {
   "display_name": "mrdc_env",
   "language": "python",
   "name": "python3"
  },
  "language_info": {
   "codemirror_mode": {
    "name": "ipython",
    "version": 3
   },
   "file_extension": ".py",
   "mimetype": "text/x-python",
   "name": "python",
   "nbconvert_exporter": "python",
   "pygments_lexer": "ipython3",
   "version": "3.11.5"
  }
 },
 "nbformat": 4,
 "nbformat_minor": 2
}
