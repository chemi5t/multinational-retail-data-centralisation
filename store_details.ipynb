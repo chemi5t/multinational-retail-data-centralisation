{
 "cells": [
  {
   "cell_type": "code",
   "execution_count": null,
   "id": "0a6e1048",
   "metadata": {},
   "outputs": [],
   "source": [
    "import pandas as pd\n",
    "# Import data from 'store_details.csv' into DataFrame.\n",
    "table_name = 'store_details'\n",
    "csv_file_path = 'store_details.csv'\n",
    "store_details_df = pd.read_csv(csv_file_path)\n",
    "# Display the DataFrame\n",
    "display(store_details_df)"
   ]
  }
 ],
 "metadata": {},
 "nbformat": 4,
 "nbformat_minor": 5
}
