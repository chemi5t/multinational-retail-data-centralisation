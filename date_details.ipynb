{
 "cells": [
  {
   "cell_type": "code",
   "execution_count": null,
   "id": "2a6b17ba",
   "metadata": {},
   "outputs": [],
   "source": [
    "import pandas as pd\n",
    "# Import data from 'date_details.csv' into DataFrame.\n",
    "table_name = 'date_details'\n",
    "csv_file_path = 'date_details.csv'\n",
    "date_details_df = pd.read_csv(csv_file_path)\n",
    "# Display the DataFrame\n",
    "display(date_details_df)"
   ]
  }
 ],
 "metadata": {},
 "nbformat": 4,
 "nbformat_minor": 5
}
