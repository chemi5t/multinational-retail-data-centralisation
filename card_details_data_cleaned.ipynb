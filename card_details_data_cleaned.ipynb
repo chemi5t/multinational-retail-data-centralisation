{
 "cells": [
  {
   "cell_type": "code",
   "execution_count": 129,
   "id": "7a81853d",
   "metadata": {},
   "outputs": [
    {
     "data": {
      "text/html": [
       "<div>\n",
       "<style scoped>\n",
       "    .dataframe tbody tr th:only-of-type {\n",
       "        vertical-align: middle;\n",
       "    }\n",
       "\n",
       "    .dataframe tbody tr th {\n",
       "        vertical-align: top;\n",
       "    }\n",
       "\n",
       "    .dataframe thead th {\n",
       "        text-align: right;\n",
       "    }\n",
       "</style>\n",
       "<table border=\"1\" class=\"dataframe\">\n",
       "  <thead>\n",
       "    <tr style=\"text-align: right;\">\n",
       "      <th></th>\n",
       "      <th>card_number</th>\n",
       "      <th>expiry_date</th>\n",
       "      <th>card_provider</th>\n",
       "      <th>date_payment_confirmed</th>\n",
       "    </tr>\n",
       "  </thead>\n",
       "  <tbody>\n",
       "    <tr>\n",
       "      <th>0</th>\n",
       "      <td>30060773296197</td>\n",
       "      <td>09/26</td>\n",
       "      <td>Diners Club / Carte Blanche</td>\n",
       "      <td>2015-11-25</td>\n",
       "    </tr>\n",
       "    <tr>\n",
       "      <th>1</th>\n",
       "      <td>349624180933183</td>\n",
       "      <td>10/23</td>\n",
       "      <td>American Express</td>\n",
       "      <td>2001-06-18</td>\n",
       "    </tr>\n",
       "    <tr>\n",
       "      <th>2</th>\n",
       "      <td>3529023891650490</td>\n",
       "      <td>06/23</td>\n",
       "      <td>JCB 16 digit</td>\n",
       "      <td>2000-12-26</td>\n",
       "    </tr>\n",
       "    <tr>\n",
       "      <th>3</th>\n",
       "      <td>213142929492281</td>\n",
       "      <td>09/27</td>\n",
       "      <td>JCB 15 digit</td>\n",
       "      <td>2011-02-12</td>\n",
       "    </tr>\n",
       "    <tr>\n",
       "      <th>4</th>\n",
       "      <td>502067329974</td>\n",
       "      <td>10/25</td>\n",
       "      <td>Maestro</td>\n",
       "      <td>1997-03-13</td>\n",
       "    </tr>\n",
       "    <tr>\n",
       "      <th>...</th>\n",
       "      <td>...</td>\n",
       "      <td>...</td>\n",
       "      <td>...</td>\n",
       "      <td>...</td>\n",
       "    </tr>\n",
       "    <tr>\n",
       "      <th>15304</th>\n",
       "      <td>180036921556789</td>\n",
       "      <td>12/28</td>\n",
       "      <td>JCB 15 digit</td>\n",
       "      <td>1997-06-06</td>\n",
       "    </tr>\n",
       "    <tr>\n",
       "      <th>15305</th>\n",
       "      <td>180018030448512</td>\n",
       "      <td>11/24</td>\n",
       "      <td>JCB 15 digit</td>\n",
       "      <td>2004-06-16</td>\n",
       "    </tr>\n",
       "    <tr>\n",
       "      <th>15306</th>\n",
       "      <td>3569953313547220</td>\n",
       "      <td>04/24</td>\n",
       "      <td>JCB 16 digit</td>\n",
       "      <td>2020-02-05</td>\n",
       "    </tr>\n",
       "    <tr>\n",
       "      <th>15307</th>\n",
       "      <td>4444521712606810</td>\n",
       "      <td>06/27</td>\n",
       "      <td>VISA 16 digit</td>\n",
       "      <td>2008-06-16</td>\n",
       "    </tr>\n",
       "    <tr>\n",
       "      <th>15308</th>\n",
       "      <td>372031786522735</td>\n",
       "      <td>02/30</td>\n",
       "      <td>American Express</td>\n",
       "      <td>2009-02-04</td>\n",
       "    </tr>\n",
       "  </tbody>\n",
       "</table>\n",
       "<p>15309 rows × 4 columns</p>\n",
       "</div>"
      ],
      "text/plain": [
       "            card_number expiry_date                card_provider  \\\n",
       "0        30060773296197       09/26  Diners Club / Carte Blanche   \n",
       "1       349624180933183       10/23             American Express   \n",
       "2      3529023891650490       06/23                 JCB 16 digit   \n",
       "3       213142929492281       09/27                 JCB 15 digit   \n",
       "4          502067329974       10/25                      Maestro   \n",
       "...                 ...         ...                          ...   \n",
       "15304   180036921556789       12/28                 JCB 15 digit   \n",
       "15305   180018030448512       11/24                 JCB 15 digit   \n",
       "15306  3569953313547220       04/24                 JCB 16 digit   \n",
       "15307  4444521712606810       06/27                VISA 16 digit   \n",
       "15308   372031786522735       02/30             American Express   \n",
       "\n",
       "      date_payment_confirmed  \n",
       "0                 2015-11-25  \n",
       "1                 2001-06-18  \n",
       "2                 2000-12-26  \n",
       "3                 2011-02-12  \n",
       "4                 1997-03-13  \n",
       "...                      ...  \n",
       "15304             1997-06-06  \n",
       "15305             2004-06-16  \n",
       "15306             2020-02-05  \n",
       "15307             2008-06-16  \n",
       "15308             2009-02-04  \n",
       "\n",
       "[15309 rows x 4 columns]"
      ]
     },
     "metadata": {},
     "output_type": "display_data"
    }
   ],
   "source": [
    "import pandas as pd\n",
    "import missingno as msno\n",
    "import re\n",
    "from dateutil.parser import parse # to help with datatime edits\n",
    "import numpy as np\n",
    "\n",
    "# Import data from 'card_details.csv' into DataFrame.\n",
    "table_name = 'card_details'\n",
    "csv_file_path = 'card_details.csv'\n",
    "card_details_df = pd.read_csv(csv_file_path)\n",
    "# Display the DataFrame\n",
    "display(card_details_df)\n"
   ]
  },
  {
   "cell_type": "code",
   "execution_count": 130,
   "id": "3d4057e0",
   "metadata": {},
   "outputs": [],
   "source": [
    "card_details_original = card_details_df.copy()\n"
   ]
  },
  {
   "cell_type": "code",
   "execution_count": 131,
   "id": "b8e505ae",
   "metadata": {},
   "outputs": [
    {
     "name": "stdout",
     "output_type": "stream",
     "text": [
      "<class 'pandas.core.frame.DataFrame'>\n",
      "RangeIndex: 15309 entries, 0 to 15308\n",
      "Data columns (total 4 columns):\n",
      " #   Column                  Non-Null Count  Dtype \n",
      "---  ------                  --------------  ----- \n",
      " 0   card_number             15298 non-null  object\n",
      " 1   expiry_date             15298 non-null  object\n",
      " 2   card_provider           15298 non-null  object\n",
      " 3   date_payment_confirmed  15298 non-null  object\n",
      "dtypes: object(4)\n",
      "memory usage: 478.5+ KB\n"
     ]
    },
    {
     "data": {
      "text/plain": [
       "None"
      ]
     },
     "metadata": {},
     "output_type": "display_data"
    },
    {
     "data": {
      "text/html": [
       "<div>\n",
       "<style scoped>\n",
       "    .dataframe tbody tr th:only-of-type {\n",
       "        vertical-align: middle;\n",
       "    }\n",
       "\n",
       "    .dataframe tbody tr th {\n",
       "        vertical-align: top;\n",
       "    }\n",
       "\n",
       "    .dataframe thead th {\n",
       "        text-align: right;\n",
       "    }\n",
       "</style>\n",
       "<table border=\"1\" class=\"dataframe\">\n",
       "  <thead>\n",
       "    <tr style=\"text-align: right;\">\n",
       "      <th></th>\n",
       "      <th>card_number</th>\n",
       "      <th>expiry_date</th>\n",
       "      <th>card_provider</th>\n",
       "      <th>date_payment_confirmed</th>\n",
       "    </tr>\n",
       "  </thead>\n",
       "  <tbody>\n",
       "    <tr>\n",
       "      <th>count</th>\n",
       "      <td>15298</td>\n",
       "      <td>15298</td>\n",
       "      <td>15298</td>\n",
       "      <td>15298</td>\n",
       "    </tr>\n",
       "    <tr>\n",
       "      <th>unique</th>\n",
       "      <td>15298</td>\n",
       "      <td>135</td>\n",
       "      <td>24</td>\n",
       "      <td>8269</td>\n",
       "    </tr>\n",
       "    <tr>\n",
       "      <th>top</th>\n",
       "      <td>30060773296197</td>\n",
       "      <td>12/29</td>\n",
       "      <td>VISA 16 digit</td>\n",
       "      <td>1998-02-25</td>\n",
       "    </tr>\n",
       "    <tr>\n",
       "      <th>freq</th>\n",
       "      <td>1</td>\n",
       "      <td>163</td>\n",
       "      <td>2426</td>\n",
       "      <td>8</td>\n",
       "    </tr>\n",
       "  </tbody>\n",
       "</table>\n",
       "</div>"
      ],
      "text/plain": [
       "           card_number expiry_date  card_provider date_payment_confirmed\n",
       "count            15298       15298          15298                  15298\n",
       "unique           15298         135             24                   8269\n",
       "top     30060773296197       12/29  VISA 16 digit             1998-02-25\n",
       "freq                 1         163           2426                      8"
      ]
     },
     "metadata": {},
     "output_type": "display_data"
    }
   ],
   "source": [
    "display(card_details_df.info())\n",
    "display(card_details_df.describe())"
   ]
  },
  {
   "cell_type": "markdown",
   "id": "7d3ef003",
   "metadata": {},
   "source": [
    "# Run test block"
   ]
  },
  {
   "cell_type": "code",
   "execution_count": 132,
   "id": "9302f19c",
   "metadata": {},
   "outputs": [
    {
     "name": "stderr",
     "output_type": "stream",
     "text": [
      "C:\\Users\\chemi\\AppData\\Local\\Temp\\ipykernel_15408\\2147815981.py:6: SettingWithCopyWarning: \n",
      "A value is trying to be set on a copy of a slice from a DataFrame.\n",
      "Try using .loc[row_indexer,col_indexer] = value instead\n",
      "\n",
      "See the caveats in the documentation: https://pandas.pydata.org/pandas-docs/stable/user_guide/indexing.html#returning-a-view-versus-a-copy\n",
      "  card_details_df_filtered['expiry_date'] = pd.to_datetime(card_details_df_filtered['expiry_date'], format='%m/%y', errors='coerce')\n",
      "C:\\Users\\chemi\\AppData\\Local\\Temp\\ipykernel_15408\\2147815981.py:9: SettingWithCopyWarning: \n",
      "A value is trying to be set on a copy of a slice from a DataFrame.\n",
      "Try using .loc[row_indexer,col_indexer] = value instead\n",
      "\n",
      "See the caveats in the documentation: https://pandas.pydata.org/pandas-docs/stable/user_guide/indexing.html#returning-a-view-versus-a-copy\n",
      "  card_details_df_filtered['expiry_date'] = card_details_df_filtered['expiry_date'].dt.strftime('%m/%y')\n"
     ]
    },
    {
     "data": {
      "text/html": [
       "<div>\n",
       "<style scoped>\n",
       "    .dataframe tbody tr th:only-of-type {\n",
       "        vertical-align: middle;\n",
       "    }\n",
       "\n",
       "    .dataframe tbody tr th {\n",
       "        vertical-align: top;\n",
       "    }\n",
       "\n",
       "    .dataframe thead th {\n",
       "        text-align: right;\n",
       "    }\n",
       "</style>\n",
       "<table border=\"1\" class=\"dataframe\">\n",
       "  <thead>\n",
       "    <tr style=\"text-align: right;\">\n",
       "      <th></th>\n",
       "      <th>card_number</th>\n",
       "      <th>expiry_date</th>\n",
       "      <th>card_provider</th>\n",
       "      <th>date_payment_confirmed</th>\n",
       "    </tr>\n",
       "  </thead>\n",
       "  <tbody>\n",
       "    <tr>\n",
       "      <th>0</th>\n",
       "      <td>30060773296197</td>\n",
       "      <td>09/26</td>\n",
       "      <td>Diners Club / Carte Blanche</td>\n",
       "      <td>2015-11-25</td>\n",
       "    </tr>\n",
       "    <tr>\n",
       "      <th>1</th>\n",
       "      <td>349624180933183</td>\n",
       "      <td>10/23</td>\n",
       "      <td>American Express</td>\n",
       "      <td>2001-06-18</td>\n",
       "    </tr>\n",
       "    <tr>\n",
       "      <th>2</th>\n",
       "      <td>3529023891650490</td>\n",
       "      <td>06/23</td>\n",
       "      <td>JCB 16 digit</td>\n",
       "      <td>2000-12-26</td>\n",
       "    </tr>\n",
       "    <tr>\n",
       "      <th>3</th>\n",
       "      <td>213142929492281</td>\n",
       "      <td>09/27</td>\n",
       "      <td>JCB 15 digit</td>\n",
       "      <td>2011-02-12</td>\n",
       "    </tr>\n",
       "    <tr>\n",
       "      <th>4</th>\n",
       "      <td>502067329974</td>\n",
       "      <td>10/25</td>\n",
       "      <td>Maestro</td>\n",
       "      <td>1997-03-13</td>\n",
       "    </tr>\n",
       "    <tr>\n",
       "      <th>...</th>\n",
       "      <td>...</td>\n",
       "      <td>...</td>\n",
       "      <td>...</td>\n",
       "      <td>...</td>\n",
       "    </tr>\n",
       "    <tr>\n",
       "      <th>15304</th>\n",
       "      <td>180036921556789</td>\n",
       "      <td>12/28</td>\n",
       "      <td>JCB 15 digit</td>\n",
       "      <td>1997-06-06</td>\n",
       "    </tr>\n",
       "    <tr>\n",
       "      <th>15305</th>\n",
       "      <td>180018030448512</td>\n",
       "      <td>11/24</td>\n",
       "      <td>JCB 15 digit</td>\n",
       "      <td>2004-06-16</td>\n",
       "    </tr>\n",
       "    <tr>\n",
       "      <th>15306</th>\n",
       "      <td>3569953313547220</td>\n",
       "      <td>04/24</td>\n",
       "      <td>JCB 16 digit</td>\n",
       "      <td>2020-02-05</td>\n",
       "    </tr>\n",
       "    <tr>\n",
       "      <th>15307</th>\n",
       "      <td>4444521712606810</td>\n",
       "      <td>06/27</td>\n",
       "      <td>VISA 16 digit</td>\n",
       "      <td>2008-06-16</td>\n",
       "    </tr>\n",
       "    <tr>\n",
       "      <th>15308</th>\n",
       "      <td>372031786522735</td>\n",
       "      <td>02/30</td>\n",
       "      <td>American Express</td>\n",
       "      <td>2009-02-04</td>\n",
       "    </tr>\n",
       "  </tbody>\n",
       "</table>\n",
       "<p>15284 rows × 4 columns</p>\n",
       "</div>"
      ],
      "text/plain": [
       "            card_number expiry_date                card_provider  \\\n",
       "0        30060773296197       09/26  Diners Club / Carte Blanche   \n",
       "1       349624180933183       10/23             American Express   \n",
       "2      3529023891650490       06/23                 JCB 16 digit   \n",
       "3       213142929492281       09/27                 JCB 15 digit   \n",
       "4          502067329974       10/25                      Maestro   \n",
       "...                 ...         ...                          ...   \n",
       "15304   180036921556789       12/28                 JCB 15 digit   \n",
       "15305   180018030448512       11/24                 JCB 15 digit   \n",
       "15306  3569953313547220       04/24                 JCB 16 digit   \n",
       "15307  4444521712606810       06/27                VISA 16 digit   \n",
       "15308   372031786522735       02/30             American Express   \n",
       "\n",
       "      date_payment_confirmed  \n",
       "0                 2015-11-25  \n",
       "1                 2001-06-18  \n",
       "2                 2000-12-26  \n",
       "3                 2011-02-12  \n",
       "4                 1997-03-13  \n",
       "...                      ...  \n",
       "15304             1997-06-06  \n",
       "15305             2004-06-16  \n",
       "15306             2020-02-05  \n",
       "15307             2008-06-16  \n",
       "15308             2009-02-04  \n",
       "\n",
       "[15284 rows x 4 columns]"
      ]
     },
     "metadata": {},
     "output_type": "display_data"
    },
    {
     "data": {
      "text/plain": [
       "card_number               0\n",
       "expiry_date               0\n",
       "card_provider             0\n",
       "date_payment_confirmed    0\n",
       "dtype: int64"
      ]
     },
     "metadata": {},
     "output_type": "display_data"
    },
    {
     "name": "stdout",
     "output_type": "stream",
     "text": [
      "Number of entries with '?': 0 \n",
      "\n",
      "<class 'pandas.core.frame.DataFrame'>\n",
      "Index: 15284 entries, 0 to 15308\n",
      "Data columns (total 4 columns):\n",
      " #   Column                  Non-Null Count  Dtype         \n",
      "---  ------                  --------------  -----         \n",
      " 0   card_number             15284 non-null  string        \n",
      " 1   expiry_date             15284 non-null  object        \n",
      " 2   card_provider           15284 non-null  category      \n",
      " 3   date_payment_confirmed  15284 non-null  datetime64[ns]\n",
      "dtypes: category(1), datetime64[ns](1), object(1), string(1)\n",
      "memory usage: 492.9+ KB\n"
     ]
    }
   ],
   "source": [
    "# Remove rows where \"card_number\" is null\n",
    "# card_details_df_filtered = card_details_df.dropna(subset=['card_number'])\n",
    "card_details_df_filtered = card_details_df.dropna(how='all')\n",
    "\n",
    "# Convert 'expiry_date' to datetime format\n",
    "card_details_df_filtered['expiry_date'] = pd.to_datetime(card_details_df_filtered['expiry_date'], format='%m/%y', errors='coerce')\n",
    "\n",
    "# Format 'expiry_date' for display (month/year)\n",
    "card_details_df_filtered['expiry_date'] = card_details_df_filtered['expiry_date'].dt.strftime('%m/%y')\n",
    "\n",
    "\n",
    "# Remove rows where \"expiry_date\" is null\n",
    "card_details_df_filtered = card_details_df_filtered.dropna(subset=['expiry_date'])\n",
    "\n",
    "\n",
    "# Convert 'date_payment_confirmed' to datetime format\n",
    "card_details_df_filtered['date_payment_confirmed'] = card_details_df_filtered['date_payment_confirmed'].apply(parse)\n",
    "card_details_df_filtered['date_payment_confirmed'] = pd.to_datetime(card_details_df_filtered['date_payment_confirmed'], format='%y-%m-%d', errors='coerce')\n",
    "\n",
    "# Convert 'card_provider' to datatype 'category'\n",
    "card_details_df_filtered['card_provider'] = card_details_df_filtered['card_provider'].astype('category')\n",
    "\n",
    "\n",
    "# Remove '?' from 'card_number' column\n",
    "card_details_df_filtered['card_number'] = card_details_df_filtered['card_number'].astype('str').apply(lambda x: x.replace(\"?\", ''))\n",
    "card_details_df_filtered['card_number'] = card_details_df_filtered['card_number'].astype('string')\n",
    "\n",
    "display(card_details_df_filtered)\n",
    "\n",
    "display(card_details_df_filtered.isnull().sum())\n",
    "\n",
    "# Check for the presence of '?' in 'card_number' column\n",
    "count_with_question_mark = card_details_df_filtered['card_number'].str.contains('\\?')\n",
    "\n",
    "# Count the number of True values (entries with '?')\n",
    "count_with_question_mark = len(card_details_df_filtered[count_with_question_mark])\n",
    "\n",
    "# Display the count\n",
    "print(\"Number of entries with '?':\", count_with_question_mark, \"\\n\")\n",
    "\n",
    "card_details_df_filtered.info()"
   ]
  },
  {
   "cell_type": "markdown",
   "id": "79429564",
   "metadata": {},
   "source": [
    "# Run test block"
   ]
  },
  {
   "cell_type": "code",
   "execution_count": 133,
   "id": "0ceec2b0",
   "metadata": {},
   "outputs": [],
   "source": [
    "# # Remove rows where \"card_number\" is null\n",
    "# card_details_df_filtered = card_details_df.dropna(subset=['card_number'])\n",
    "\n",
    "# # Convert 'expiry_date' to datetime format\n",
    "# card_details_df_filtered['expiry_date'] = pd.to_datetime(card_details_df_filtered['expiry_date'], format='%m/%y', errors='coerce')\n",
    "\n",
    "# # Remove rows where \"expiry_date\" is null\n",
    "# card_details_df_filtered = card_details_df_filtered.dropna(subset=['expiry_date'])\n",
    "\n",
    "# # Convert 'date_payment_confirmed' to datetime format\n",
    "# card_details_df_filtered['date_payment_confirmed'] = card_details_df_filtered['date_payment_confirmed'].apply(parse)\n",
    "# card_details_df_filtered['date_payment_confirmed'] = pd.to_datetime(card_details_df_filtered['date_payment_confirmed'], format='%y-%m-%d', errors='coerce')\n",
    "\n",
    "# card_details_df_filtered['card_provider'] = card_details_df_filtered['card_provider'].astype('category')\n",
    "\n",
    "# display(card_details_df_filtered.info())"
   ]
  },
  {
   "cell_type": "markdown",
   "id": "660a4e79",
   "metadata": {},
   "source": [
    "# Run the block below to test the cleanining method"
   ]
  },
  {
   "cell_type": "code",
   "execution_count": 134,
   "id": "a34a4200",
   "metadata": {},
   "outputs": [],
   "source": [
    "# # Show the rows where \"card_number\" isnull\n",
    "# nulls_in_card_number = card_details_df[\"card_number\"].isnull()\n",
    "# card_details_df_filtered = card_details_df[~nulls_in_card_number]\n",
    "# display(card_details_df_filtered.info())\n",
    "\n",
    "# # Remove '?' from 'card_number' column\n",
    "# card_details_df_filtered['card_number'] = card_details_df_filtered['card_number'].str.replace('?', '')\n",
    "# display(card_details_df_filtered.info())\n",
    "\n",
    "# # Check for entries that match a numeric pattern\n",
    "# card_details_df_filtered = card_details_df_filtered[card_details_df_filtered['card_number'].str.isnumeric()]\n",
    "# display(card_details_df_filtered.info())\n",
    "\n",
    "# card_details_df_filtered['card_number'] = card_details_df_filtered['card_number'].astype('string')\n",
    "# display(card_details_df_filtered.info())\n",
    "\n",
    "# # Convert 'expiry_date' to datetime format\n",
    "# card_details_df_filtered['expiry_date'] = pd.to_datetime(card_details_df_filtered['expiry_date'], format='%m/%y', errors='coerce')\n",
    "# display(card_details_df_filtered.info())\n",
    "\n",
    "# # Convert 'date_payment_confirmed' to datetime format\n",
    "# card_details_df_filtered['date_payment_confirmed'] = card_details_df_filtered['date_payment_confirmed'].apply(parse)\n",
    "# display(card_details_df_filtered.info())\n",
    "\n",
    "# card_details_df_filtered['date_payment_confirmed'] = pd.to_datetime(card_details_df_filtered['date_payment_confirmed'], format='%y-%m-%d', errors='coerce')\n",
    "# display(card_details_df_filtered.info())\n",
    "\n",
    "# card_details_df_filtered['card_provider'] = card_details_df_filtered['card_provider'].astype('category')\n",
    "# display(card_details_df_filtered.info())\n",
    "# display(card_details_df_filtered)"
   ]
  },
  {
   "cell_type": "markdown",
   "id": "0a3ac5bc",
   "metadata": {},
   "source": [
    "# Check and drop NULL rows from df"
   ]
  },
  {
   "cell_type": "code",
   "execution_count": 135,
   "id": "5afec5fd",
   "metadata": {},
   "outputs": [],
   "source": [
    "# # Show the rows where \"card_number\" isnull\n",
    "# print(\"Show the rows where \\\"card_number\\\" isnull:\\n\")\n",
    "# nulls_in_card_number = card_details_df[\"card_number\"].isnull()\n",
    "# card_details_df_isnull = card_details_df[nulls_in_card_number]\n",
    "# display(card_details_df_isnull)\n",
    "# print(\"The table abovw shows rows with no data - this will need to be removed.\\n\")\n",
    "\n",
    "# # Display information about the DataFrame\n",
    "# print(\"card_details_df_isnull.info().\\n\")\n",
    "# display(card_details_df_isnull.info())"
   ]
  },
  {
   "cell_type": "code",
   "execution_count": 136,
   "id": "93544844",
   "metadata": {},
   "outputs": [],
   "source": [
    "# # Remove rows where \"card_number\" is null\n",
    "# print(\"Removing rows where \\\"card_number\\\" is null:\\n\")\n",
    "# card_details_df_filtered = card_details_df.dropna(how='all')\n",
    "\n",
    "# # Display information about the cleaned DataFrame\n",
    "# print(\"card_details_df_filtered.info().\\n\")\n",
    "# display(card_details_df_filtered.info())\n"
   ]
  },
  {
   "cell_type": "code",
   "execution_count": 137,
   "id": "a3005903",
   "metadata": {},
   "outputs": [],
   "source": [
    "# print(\"Show df excluding the NUlls found in card_number:\\n\")\n",
    "# card_details_df_filtered = card_details_df[~nulls_in_card_number]\n",
    "# card_details_df_filtered"
   ]
  },
  {
   "cell_type": "code",
   "execution_count": 138,
   "id": "590ffd52",
   "metadata": {},
   "outputs": [],
   "source": [
    "# card_details_df_filtered.info()"
   ]
  },
  {
   "cell_type": "markdown",
   "id": "f503aa80",
   "metadata": {},
   "source": [
    "# Visual check for missing data"
   ]
  },
  {
   "cell_type": "code",
   "execution_count": 139,
   "id": "7007e5b7",
   "metadata": {},
   "outputs": [
    {
     "data": {
      "text/plain": [
       "<Axes: >"
      ]
     },
     "execution_count": 139,
     "metadata": {},
     "output_type": "execute_result"
    },
    {
     "data": {
      "image/png": "[encoded data removed]",
      "text/plain": [
       "<Figure size 2500x1000 with 2 Axes>"
      ]
     },
     "metadata": {},
     "output_type": "display_data"
    }
   ],
   "source": [
    "# Visualising Missing Data\n",
    "import missingno as msno\n",
    "\n",
    "msno.matrix(card_details_df_filtered)"
   ]
  },
  {
   "cell_type": "code",
   "execution_count": 140,
   "id": "1d68e765",
   "metadata": {},
   "outputs": [
    {
     "name": "stdout",
     "output_type": "stream",
     "text": [
      "<class 'pandas.core.frame.DataFrame'>\n",
      "Index: 15284 entries, 0 to 15308\n",
      "Data columns (total 4 columns):\n",
      " #   Column                  Non-Null Count  Dtype         \n",
      "---  ------                  --------------  -----         \n",
      " 0   card_number             15284 non-null  string        \n",
      " 1   expiry_date             15284 non-null  object        \n",
      " 2   card_provider           15284 non-null  category      \n",
      " 3   date_payment_confirmed  15284 non-null  datetime64[ns]\n",
      "dtypes: category(1), datetime64[ns](1), object(1), string(1)\n",
      "memory usage: 492.9+ KB\n"
     ]
    }
   ],
   "source": [
    "card_details_df_filtered.info()"
   ]
  },
  {
   "cell_type": "markdown",
   "id": "d76f7a6a",
   "metadata": {},
   "source": [
    "# Checking of card_number column"
   ]
  },
  {
   "cell_type": "markdown",
   "id": "49dbd7e4",
   "metadata": {},
   "source": []
  },
  {
   "cell_type": "code",
   "execution_count": 141,
   "id": "000ba817",
   "metadata": {},
   "outputs": [],
   "source": [
    "# # Check for entries that do not match a numeric pattern\n",
    "# non_numeric_entries = card_details_df_filtered[~card_details_df_filtered['card_number'].str.isnumeric()]\n",
    "\n",
    "# # Display the results\n",
    "# print(\"Entries with non-numeric characters:\")\n",
    "# display(non_numeric_entries)\n",
    "# display(non_numeric_entries.info())\n",
    "# display(non_numeric_entries.describe())\n"
   ]
  },
  {
   "cell_type": "code",
   "execution_count": 142,
   "id": "2f3c62b7",
   "metadata": {},
   "outputs": [
    {
     "name": "stdout",
     "output_type": "stream",
     "text": [
      "Number of entries with '?': 0 \n",
      "\n",
      "'?' replaced in card_number column.\n",
      "\n"
     ]
    },
    {
     "data": {
      "text/html": [
       "<div>\n",
       "<style scoped>\n",
       "    .dataframe tbody tr th:only-of-type {\n",
       "        vertical-align: middle;\n",
       "    }\n",
       "\n",
       "    .dataframe tbody tr th {\n",
       "        vertical-align: top;\n",
       "    }\n",
       "\n",
       "    .dataframe thead th {\n",
       "        text-align: right;\n",
       "    }\n",
       "</style>\n",
       "<table border=\"1\" class=\"dataframe\">\n",
       "  <thead>\n",
       "    <tr style=\"text-align: right;\">\n",
       "      <th></th>\n",
       "      <th>card_number</th>\n",
       "      <th>expiry_date</th>\n",
       "      <th>card_provider</th>\n",
       "      <th>date_payment_confirmed</th>\n",
       "    </tr>\n",
       "  </thead>\n",
       "  <tbody>\n",
       "    <tr>\n",
       "      <th>0</th>\n",
       "      <td>30060773296197</td>\n",
       "      <td>09/26</td>\n",
       "      <td>Diners Club / Carte Blanche</td>\n",
       "      <td>2015-11-25</td>\n",
       "    </tr>\n",
       "    <tr>\n",
       "      <th>1</th>\n",
       "      <td>349624180933183</td>\n",
       "      <td>10/23</td>\n",
       "      <td>American Express</td>\n",
       "      <td>2001-06-18</td>\n",
       "    </tr>\n",
       "    <tr>\n",
       "      <th>2</th>\n",
       "      <td>3529023891650490</td>\n",
       "      <td>06/23</td>\n",
       "      <td>JCB 16 digit</td>\n",
       "      <td>2000-12-26</td>\n",
       "    </tr>\n",
       "    <tr>\n",
       "      <th>3</th>\n",
       "      <td>213142929492281</td>\n",
       "      <td>09/27</td>\n",
       "      <td>JCB 15 digit</td>\n",
       "      <td>2011-02-12</td>\n",
       "    </tr>\n",
       "    <tr>\n",
       "      <th>4</th>\n",
       "      <td>502067329974</td>\n",
       "      <td>10/25</td>\n",
       "      <td>Maestro</td>\n",
       "      <td>1997-03-13</td>\n",
       "    </tr>\n",
       "    <tr>\n",
       "      <th>...</th>\n",
       "      <td>...</td>\n",
       "      <td>...</td>\n",
       "      <td>...</td>\n",
       "      <td>...</td>\n",
       "    </tr>\n",
       "    <tr>\n",
       "      <th>15304</th>\n",
       "      <td>180036921556789</td>\n",
       "      <td>12/28</td>\n",
       "      <td>JCB 15 digit</td>\n",
       "      <td>1997-06-06</td>\n",
       "    </tr>\n",
       "    <tr>\n",
       "      <th>15305</th>\n",
       "      <td>180018030448512</td>\n",
       "      <td>11/24</td>\n",
       "      <td>JCB 15 digit</td>\n",
       "      <td>2004-06-16</td>\n",
       "    </tr>\n",
       "    <tr>\n",
       "      <th>15306</th>\n",
       "      <td>3569953313547220</td>\n",
       "      <td>04/24</td>\n",
       "      <td>JCB 16 digit</td>\n",
       "      <td>2020-02-05</td>\n",
       "    </tr>\n",
       "    <tr>\n",
       "      <th>15307</th>\n",
       "      <td>4444521712606810</td>\n",
       "      <td>06/27</td>\n",
       "      <td>VISA 16 digit</td>\n",
       "      <td>2008-06-16</td>\n",
       "    </tr>\n",
       "    <tr>\n",
       "      <th>15308</th>\n",
       "      <td>372031786522735</td>\n",
       "      <td>02/30</td>\n",
       "      <td>American Express</td>\n",
       "      <td>2009-02-04</td>\n",
       "    </tr>\n",
       "  </tbody>\n",
       "</table>\n",
       "<p>15284 rows × 4 columns</p>\n",
       "</div>"
      ],
      "text/plain": [
       "            card_number expiry_date                card_provider  \\\n",
       "0        30060773296197       09/26  Diners Club / Carte Blanche   \n",
       "1       349624180933183       10/23             American Express   \n",
       "2      3529023891650490       06/23                 JCB 16 digit   \n",
       "3       213142929492281       09/27                 JCB 15 digit   \n",
       "4          502067329974       10/25                      Maestro   \n",
       "...                 ...         ...                          ...   \n",
       "15304   180036921556789       12/28                 JCB 15 digit   \n",
       "15305   180018030448512       11/24                 JCB 15 digit   \n",
       "15306  3569953313547220       04/24                 JCB 16 digit   \n",
       "15307  4444521712606810       06/27                VISA 16 digit   \n",
       "15308   372031786522735       02/30             American Express   \n",
       "\n",
       "      date_payment_confirmed  \n",
       "0                 2015-11-25  \n",
       "1                 2001-06-18  \n",
       "2                 2000-12-26  \n",
       "3                 2011-02-12  \n",
       "4                 1997-03-13  \n",
       "...                      ...  \n",
       "15304             1997-06-06  \n",
       "15305             2004-06-16  \n",
       "15306             2020-02-05  \n",
       "15307             2008-06-16  \n",
       "15308             2009-02-04  \n",
       "\n",
       "[15284 rows x 4 columns]"
      ]
     },
     "metadata": {},
     "output_type": "display_data"
    },
    {
     "name": "stdout",
     "output_type": "stream",
     "text": [
      "<class 'pandas.core.frame.DataFrame'>\n",
      "Index: 15284 entries, 0 to 15308\n",
      "Data columns (total 4 columns):\n",
      " #   Column                  Non-Null Count  Dtype         \n",
      "---  ------                  --------------  -----         \n",
      " 0   card_number             15284 non-null  string        \n",
      " 1   expiry_date             15284 non-null  object        \n",
      " 2   card_provider           15284 non-null  category      \n",
      " 3   date_payment_confirmed  15284 non-null  datetime64[ns]\n",
      "dtypes: category(1), datetime64[ns](1), object(1), string(1)\n",
      "memory usage: 492.9+ KB\n"
     ]
    },
    {
     "data": {
      "text/plain": [
       "None"
      ]
     },
     "metadata": {},
     "output_type": "display_data"
    }
   ],
   "source": [
    "# Check for the presence of '?' in 'card_number' column\n",
    "count_with_question_mark = card_details_df_filtered['card_number'].str.contains('\\?')\n",
    "\n",
    "# Count the number of True values (entries with '?')\n",
    "count_with_question_mark = len(card_details_df_filtered[count_with_question_mark])\n",
    "\n",
    "# Display the count\n",
    "print(\"Number of entries with '?':\", count_with_question_mark, \"\\n\")\n",
    "\n",
    "# Remove '?' from 'card_number' column\n",
    "card_details_df_filtered['card_number'] = card_details_df_filtered['card_number'].str.replace('?', '')\n",
    "print(\"'?' replaced in card_number column.\\n\")\n",
    "\n",
    "# # Check for entries that do not match a numeric pattern\n",
    "# non_numeric_entries = card_details_df_filtered[~card_details_df_filtered['card_number'].str.isnumeric()]\n",
    "\n",
    "# # Display the results\n",
    "# print(\"Entries with non-numeric pattern in card_number column to exclude from df:\\n\")\n",
    "# display(non_numeric_entries)\n",
    "# display(non_numeric_entries.info())\n",
    "# display(non_numeric_entries.describe())\n",
    "\n",
    "# # Check for entries that do match a numeric pattern\n",
    "# print(\"Entries with numeric characters:\\n\")\n",
    "# card_details_df_filtered = card_details_df_filtered[card_details_df_filtered['card_number'].str.isnumeric()]\n",
    "card_details_df_filtered['card_number'] = card_details_df_filtered['card_number'].astype('string')\n",
    "display(card_details_df_filtered)\n",
    "display(card_details_df_filtered.info())"
   ]
  },
  {
   "cell_type": "markdown",
   "id": "03d07bf0",
   "metadata": {},
   "source": [
    "# Check expiry_date column"
   ]
  },
  {
   "cell_type": "code",
   "execution_count": 143,
   "id": "99b7438a",
   "metadata": {},
   "outputs": [
    {
     "data": {
      "text/plain": [
       "array(['09/26', '10/23', '06/23', '09/27', '10/25', '11/23', '07/27',\n",
       "       '02/29', '02/24', '07/23', '10/28', '11/27', '11/31', '10/29',\n",
       "       '01/29', '01/26', '02/32', '10/26', '08/28', '09/32', '05/30',\n",
       "       '02/23', '06/28', '07/24', '07/31', '10/30', '03/32', '12/30',\n",
       "       '10/31', '12/25', '06/24', '04/32', '05/28', '08/23', '08/27',\n",
       "       '08/26', '03/29', '06/25', '07/30', '01/24', '06/31', '03/24',\n",
       "       '02/25', '01/23', '02/30', '03/27', '07/26', '09/25', '07/28',\n",
       "       '03/28', '08/24', '06/29', '06/30', '04/23', '12/29', '03/23',\n",
       "       '05/27', '04/28', '05/26', '07/32', '10/24', '01/32', '11/26',\n",
       "       '02/28', '08/25', '02/31', '12/22', '07/29', '07/25', '05/31',\n",
       "       '04/24', '05/25', '06/32', '05/32', '12/27', '09/31', '01/31',\n",
       "       '11/25', '12/28', '10/27', '03/26', '03/31', '04/31', '08/29',\n",
       "       '01/28', '09/30', '04/27', '04/29', '08/30', '12/23', '11/29',\n",
       "       '09/23', '09/29', '09/28', '01/27', '05/24', '08/31', '03/25',\n",
       "       '11/24', '04/30', '09/24', '01/30', '04/26', '12/26', '04/25',\n",
       "       '12/31', '08/32', '03/30', '11/30', '02/27', '10/32', '06/27',\n",
       "       '02/26', '11/32', '05/23', '05/29', '11/22', '06/26', '11/28',\n",
       "       '12/24', '01/25'], dtype=object)"
      ]
     },
     "execution_count": 143,
     "metadata": {},
     "output_type": "execute_result"
    }
   ],
   "source": [
    "card_details_df_filtered['expiry_date'].unique()"
   ]
  },
  {
   "cell_type": "code",
   "execution_count": 144,
   "id": "0d3515b1",
   "metadata": {},
   "outputs": [
    {
     "data": {
      "text/plain": [
       "0"
      ]
     },
     "execution_count": 144,
     "metadata": {},
     "output_type": "execute_result"
    }
   ],
   "source": [
    "card_details_df_filtered['expiry_date'].isnull().sum()"
   ]
  },
  {
   "cell_type": "code",
   "execution_count": 145,
   "id": "5443d3bb",
   "metadata": {},
   "outputs": [
    {
     "name": "stdout",
     "output_type": "stream",
     "text": [
      "<class 'pandas.core.frame.DataFrame'>\n",
      "Index: 15284 entries, 0 to 15308\n",
      "Data columns (total 4 columns):\n",
      " #   Column                  Non-Null Count  Dtype         \n",
      "---  ------                  --------------  -----         \n",
      " 0   card_number             15284 non-null  string        \n",
      " 1   expiry_date             15284 non-null  string        \n",
      " 2   card_provider           15284 non-null  category      \n",
      " 3   date_payment_confirmed  15284 non-null  datetime64[ns]\n",
      "dtypes: category(1), datetime64[ns](1), string(2)\n",
      "memory usage: 492.9 KB\n"
     ]
    },
    {
     "data": {
      "text/plain": [
       "None"
      ]
     },
     "metadata": {},
     "output_type": "display_data"
    },
    {
     "data": {
      "text/html": [
       "<div>\n",
       "<style scoped>\n",
       "    .dataframe tbody tr th:only-of-type {\n",
       "        vertical-align: middle;\n",
       "    }\n",
       "\n",
       "    .dataframe tbody tr th {\n",
       "        vertical-align: top;\n",
       "    }\n",
       "\n",
       "    .dataframe thead th {\n",
       "        text-align: right;\n",
       "    }\n",
       "</style>\n",
       "<table border=\"1\" class=\"dataframe\">\n",
       "  <thead>\n",
       "    <tr style=\"text-align: right;\">\n",
       "      <th></th>\n",
       "      <th>card_number</th>\n",
       "      <th>expiry_date</th>\n",
       "      <th>card_provider</th>\n",
       "      <th>date_payment_confirmed</th>\n",
       "    </tr>\n",
       "  </thead>\n",
       "  <tbody>\n",
       "    <tr>\n",
       "      <th>0</th>\n",
       "      <td>30060773296197</td>\n",
       "      <td>09/26</td>\n",
       "      <td>Diners Club / Carte Blanche</td>\n",
       "      <td>2015-11-25</td>\n",
       "    </tr>\n",
       "    <tr>\n",
       "      <th>1</th>\n",
       "      <td>349624180933183</td>\n",
       "      <td>10/23</td>\n",
       "      <td>American Express</td>\n",
       "      <td>2001-06-18</td>\n",
       "    </tr>\n",
       "    <tr>\n",
       "      <th>2</th>\n",
       "      <td>3529023891650490</td>\n",
       "      <td>06/23</td>\n",
       "      <td>JCB 16 digit</td>\n",
       "      <td>2000-12-26</td>\n",
       "    </tr>\n",
       "    <tr>\n",
       "      <th>3</th>\n",
       "      <td>213142929492281</td>\n",
       "      <td>09/27</td>\n",
       "      <td>JCB 15 digit</td>\n",
       "      <td>2011-02-12</td>\n",
       "    </tr>\n",
       "    <tr>\n",
       "      <th>4</th>\n",
       "      <td>502067329974</td>\n",
       "      <td>10/25</td>\n",
       "      <td>Maestro</td>\n",
       "      <td>1997-03-13</td>\n",
       "    </tr>\n",
       "    <tr>\n",
       "      <th>...</th>\n",
       "      <td>...</td>\n",
       "      <td>...</td>\n",
       "      <td>...</td>\n",
       "      <td>...</td>\n",
       "    </tr>\n",
       "    <tr>\n",
       "      <th>15304</th>\n",
       "      <td>180036921556789</td>\n",
       "      <td>12/28</td>\n",
       "      <td>JCB 15 digit</td>\n",
       "      <td>1997-06-06</td>\n",
       "    </tr>\n",
       "    <tr>\n",
       "      <th>15305</th>\n",
       "      <td>180018030448512</td>\n",
       "      <td>11/24</td>\n",
       "      <td>JCB 15 digit</td>\n",
       "      <td>2004-06-16</td>\n",
       "    </tr>\n",
       "    <tr>\n",
       "      <th>15306</th>\n",
       "      <td>3569953313547220</td>\n",
       "      <td>04/24</td>\n",
       "      <td>JCB 16 digit</td>\n",
       "      <td>2020-02-05</td>\n",
       "    </tr>\n",
       "    <tr>\n",
       "      <th>15307</th>\n",
       "      <td>4444521712606810</td>\n",
       "      <td>06/27</td>\n",
       "      <td>VISA 16 digit</td>\n",
       "      <td>2008-06-16</td>\n",
       "    </tr>\n",
       "    <tr>\n",
       "      <th>15308</th>\n",
       "      <td>372031786522735</td>\n",
       "      <td>02/30</td>\n",
       "      <td>American Express</td>\n",
       "      <td>2009-02-04</td>\n",
       "    </tr>\n",
       "  </tbody>\n",
       "</table>\n",
       "<p>15284 rows × 4 columns</p>\n",
       "</div>"
      ],
      "text/plain": [
       "            card_number expiry_date                card_provider  \\\n",
       "0        30060773296197       09/26  Diners Club / Carte Blanche   \n",
       "1       349624180933183       10/23             American Express   \n",
       "2      3529023891650490       06/23                 JCB 16 digit   \n",
       "3       213142929492281       09/27                 JCB 15 digit   \n",
       "4          502067329974       10/25                      Maestro   \n",
       "...                 ...         ...                          ...   \n",
       "15304   180036921556789       12/28                 JCB 15 digit   \n",
       "15305   180018030448512       11/24                 JCB 15 digit   \n",
       "15306  3569953313547220       04/24                 JCB 16 digit   \n",
       "15307  4444521712606810       06/27                VISA 16 digit   \n",
       "15308   372031786522735       02/30             American Express   \n",
       "\n",
       "      date_payment_confirmed  \n",
       "0                 2015-11-25  \n",
       "1                 2001-06-18  \n",
       "2                 2000-12-26  \n",
       "3                 2011-02-12  \n",
       "4                 1997-03-13  \n",
       "...                      ...  \n",
       "15304             1997-06-06  \n",
       "15305             2004-06-16  \n",
       "15306             2020-02-05  \n",
       "15307             2008-06-16  \n",
       "15308             2009-02-04  \n",
       "\n",
       "[15284 rows x 4 columns]"
      ]
     },
     "metadata": {},
     "output_type": "display_data"
    }
   ],
   "source": [
    "# Convert 'expiry_date' to datetime format\n",
    "card_details_df_filtered['expiry_date'] = pd.to_datetime(card_details_df_filtered['expiry_date'], format='%m/%y', errors='coerce')\n",
    "\n",
    "# Format 'expiry_date' for display (month/year)\n",
    "card_details_df_filtered['expiry_date'] = card_details_df_filtered['expiry_date'].dt.strftime('%m/%y').astype('string')\n",
    "\n",
    "# Display the updated DataFrame information\n",
    "display(card_details_df_filtered.info())\n",
    "display(card_details_df_filtered)\n",
    "\n",
    "\n",
    "# card_details_df_filtered['expiry_date'].apply(pd.to_datetime, errors='coerce')\n"
   ]
  },
  {
   "cell_type": "code",
   "execution_count": null,
   "id": "14ba379c",
   "metadata": {},
   "outputs": [],
   "source": []
  },
  {
   "cell_type": "code",
   "execution_count": 146,
   "id": "1decae02",
   "metadata": {},
   "outputs": [
    {
     "data": {
      "text/plain": [
       "<StringArray>\n",
       "['09/26', '10/23', '06/23', '09/27', '10/25', '11/23', '07/27', '02/29',\n",
       " '02/24', '07/23',\n",
       " ...\n",
       " '06/27', '02/26', '11/32', '05/23', '05/29', '11/22', '06/26', '11/28',\n",
       " '12/24', '01/25']\n",
       "Length: 121, dtype: string"
      ]
     },
     "execution_count": 146,
     "metadata": {},
     "output_type": "execute_result"
    }
   ],
   "source": [
    "card_details_df_filtered['expiry_date'].unique()"
   ]
  },
  {
   "cell_type": "code",
   "execution_count": 147,
   "id": "cd595d80",
   "metadata": {},
   "outputs": [
    {
     "data": {
      "text/plain": [
       "card_number               0\n",
       "expiry_date               0\n",
       "card_provider             0\n",
       "date_payment_confirmed    0\n",
       "dtype: int64"
      ]
     },
     "execution_count": 147,
     "metadata": {},
     "output_type": "execute_result"
    }
   ],
   "source": [
    "card_details_df_filtered.isnull().sum()"
   ]
  },
  {
   "cell_type": "code",
   "execution_count": 148,
   "id": "d181cbbe",
   "metadata": {},
   "outputs": [
    {
     "name": "stdout",
     "output_type": "stream",
     "text": [
      "<class 'pandas.core.frame.DataFrame'>\n",
      "Index: 15284 entries, 0 to 15308\n",
      "Data columns (total 4 columns):\n",
      " #   Column                  Non-Null Count  Dtype         \n",
      "---  ------                  --------------  -----         \n",
      " 0   card_number             15284 non-null  string        \n",
      " 1   expiry_date             15284 non-null  string        \n",
      " 2   card_provider           15284 non-null  category      \n",
      " 3   date_payment_confirmed  15284 non-null  datetime64[ns]\n",
      "dtypes: category(1), datetime64[ns](1), string(2)\n",
      "memory usage: 492.9 KB\n"
     ]
    },
    {
     "data": {
      "text/plain": [
       "None"
      ]
     },
     "metadata": {},
     "output_type": "display_data"
    }
   ],
   "source": [
    "display(card_details_df_filtered.info())"
   ]
  },
  {
   "cell_type": "code",
   "execution_count": 149,
   "id": "74e32d76",
   "metadata": {},
   "outputs": [
    {
     "name": "stdout",
     "output_type": "stream",
     "text": [
      "Removing rows where \"expiry_date\" is null:\n",
      "\n",
      "card_details_df_filtered.info().\n",
      "\n",
      "<class 'pandas.core.frame.DataFrame'>\n",
      "Index: 15284 entries, 0 to 15308\n",
      "Data columns (total 4 columns):\n",
      " #   Column                  Non-Null Count  Dtype         \n",
      "---  ------                  --------------  -----         \n",
      " 0   card_number             15284 non-null  string        \n",
      " 1   expiry_date             15284 non-null  string        \n",
      " 2   card_provider           15284 non-null  category      \n",
      " 3   date_payment_confirmed  15284 non-null  datetime64[ns]\n",
      "dtypes: category(1), datetime64[ns](1), string(2)\n",
      "memory usage: 492.9 KB\n"
     ]
    },
    {
     "data": {
      "text/plain": [
       "None"
      ]
     },
     "metadata": {},
     "output_type": "display_data"
    }
   ],
   "source": [
    "# Remove rows where \"expiry_date\" is null\n",
    "print(\"Removing rows where \\\"expiry_date\\\" is null:\\n\")\n",
    "card_details_df_filtered = card_details_df_filtered.dropna(subset=['expiry_date'])\n",
    "\n",
    "# Display information about the cleaned DataFrame\n",
    "print(\"card_details_df_filtered.info().\\n\")\n",
    "display(card_details_df_filtered.info())"
   ]
  },
  {
   "cell_type": "markdown",
   "id": "30fedf99",
   "metadata": {},
   "source": [
    "# Check date_payment_confirmed"
   ]
  },
  {
   "cell_type": "code",
   "execution_count": 150,
   "id": "b34407e4",
   "metadata": {},
   "outputs": [
    {
     "name": "stdout",
     "output_type": "stream",
     "text": [
      "Need to convert date_payment_confirmed to datetime64[ns].\n",
      "\n",
      "<class 'pandas.core.frame.DataFrame'>\n",
      "Index: 15284 entries, 0 to 15308\n",
      "Data columns (total 4 columns):\n",
      " #   Column                  Non-Null Count  Dtype         \n",
      "---  ------                  --------------  -----         \n",
      " 0   card_number             15284 non-null  string        \n",
      " 1   expiry_date             15284 non-null  string        \n",
      " 2   card_provider           15284 non-null  category      \n",
      " 3   date_payment_confirmed  15284 non-null  datetime64[ns]\n",
      "dtypes: category(1), datetime64[ns](1), string(2)\n",
      "memory usage: 492.9 KB\n"
     ]
    },
    {
     "data": {
      "text/plain": [
       "None"
      ]
     },
     "metadata": {},
     "output_type": "display_data"
    },
    {
     "name": "stdout",
     "output_type": "stream",
     "text": [
      "Converted date_payment_confirmed to datetime64[ns].\n",
      "\n"
     ]
    },
    {
     "ename": "TypeError",
     "evalue": "Parser must be a string or character stream, not Timestamp",
     "output_type": "error",
     "traceback": [
      "\u001b[1;31m---------------------------------------------------------------------------\u001b[0m",
      "\u001b[1;31mTypeError\u001b[0m                                 Traceback (most recent call last)",
      "Cell \u001b[1;32mIn[150], line 5\u001b[0m\n\u001b[0;32m      3\u001b[0m display(card_details_df_filtered\u001b[38;5;241m.\u001b[39minfo())\n\u001b[0;32m      4\u001b[0m \u001b[38;5;28mprint\u001b[39m(\u001b[38;5;124m\"\u001b[39m\u001b[38;5;124mConverted date_payment_confirmed to datetime64[ns].\u001b[39m\u001b[38;5;130;01m\\n\u001b[39;00m\u001b[38;5;124m\"\u001b[39m)\n\u001b[1;32m----> 5\u001b[0m card_details_df_filtered[\u001b[38;5;124m'\u001b[39m\u001b[38;5;124mdate_payment_confirmed\u001b[39m\u001b[38;5;124m'\u001b[39m] \u001b[38;5;241m=\u001b[39m \u001b[43mcard_details_df_filtered\u001b[49m\u001b[43m[\u001b[49m\u001b[38;5;124;43m'\u001b[39;49m\u001b[38;5;124;43mdate_payment_confirmed\u001b[39;49m\u001b[38;5;124;43m'\u001b[39;49m\u001b[43m]\u001b[49m\u001b[38;5;241;43m.\u001b[39;49m\u001b[43mapply\u001b[49m\u001b[43m(\u001b[49m\u001b[43mparse\u001b[49m\u001b[43m)\u001b[49m\n\u001b[0;32m      6\u001b[0m display(card_details_df_filtered\u001b[38;5;241m.\u001b[39minfo())\n\u001b[0;32m      7\u001b[0m \u001b[38;5;66;03m# card_details_df_filtered['date_payment_confirmed'] = pd.to_datetime(card_details_df_filtered['date_payment_confirmed'], format='%y-%m-%d', errors='coerce')\u001b[39;00m\n",
      "File \u001b[1;32mc:\\Users\\chemi\\miniconda3\\envs\\mrdc_env\\Lib\\site-packages\\pandas\\core\\series.py:4760\u001b[0m, in \u001b[0;36mSeries.apply\u001b[1;34m(self, func, convert_dtype, args, by_row, **kwargs)\u001b[0m\n\u001b[0;32m   4625\u001b[0m \u001b[38;5;28;01mdef\u001b[39;00m \u001b[38;5;21mapply\u001b[39m(\n\u001b[0;32m   4626\u001b[0m     \u001b[38;5;28mself\u001b[39m,\n\u001b[0;32m   4627\u001b[0m     func: AggFuncType,\n\u001b[1;32m   (...)\u001b[0m\n\u001b[0;32m   4632\u001b[0m     \u001b[38;5;241m*\u001b[39m\u001b[38;5;241m*\u001b[39mkwargs,\n\u001b[0;32m   4633\u001b[0m ) \u001b[38;5;241m-\u001b[39m\u001b[38;5;241m>\u001b[39m DataFrame \u001b[38;5;241m|\u001b[39m Series:\n\u001b[0;32m   4634\u001b[0m \u001b[38;5;250m    \u001b[39m\u001b[38;5;124;03m\"\"\"\u001b[39;00m\n\u001b[0;32m   4635\u001b[0m \u001b[38;5;124;03m    Invoke function on values of Series.\u001b[39;00m\n\u001b[0;32m   4636\u001b[0m \n\u001b[1;32m   (...)\u001b[0m\n\u001b[0;32m   4751\u001b[0m \u001b[38;5;124;03m    dtype: float64\u001b[39;00m\n\u001b[0;32m   4752\u001b[0m \u001b[38;5;124;03m    \"\"\"\u001b[39;00m\n\u001b[0;32m   4753\u001b[0m     \u001b[38;5;28;01mreturn\u001b[39;00m \u001b[43mSeriesApply\u001b[49m\u001b[43m(\u001b[49m\n\u001b[0;32m   4754\u001b[0m \u001b[43m        \u001b[49m\u001b[38;5;28;43mself\u001b[39;49m\u001b[43m,\u001b[49m\n\u001b[0;32m   4755\u001b[0m \u001b[43m        \u001b[49m\u001b[43mfunc\u001b[49m\u001b[43m,\u001b[49m\n\u001b[0;32m   4756\u001b[0m \u001b[43m        \u001b[49m\u001b[43mconvert_dtype\u001b[49m\u001b[38;5;241;43m=\u001b[39;49m\u001b[43mconvert_dtype\u001b[49m\u001b[43m,\u001b[49m\n\u001b[0;32m   4757\u001b[0m \u001b[43m        \u001b[49m\u001b[43mby_row\u001b[49m\u001b[38;5;241;43m=\u001b[39;49m\u001b[43mby_row\u001b[49m\u001b[43m,\u001b[49m\n\u001b[0;32m   4758\u001b[0m \u001b[43m        \u001b[49m\u001b[43margs\u001b[49m\u001b[38;5;241;43m=\u001b[39;49m\u001b[43margs\u001b[49m\u001b[43m,\u001b[49m\n\u001b[0;32m   4759\u001b[0m \u001b[43m        \u001b[49m\u001b[43mkwargs\u001b[49m\u001b[38;5;241;43m=\u001b[39;49m\u001b[43mkwargs\u001b[49m\u001b[43m,\u001b[49m\n\u001b[1;32m-> 4760\u001b[0m \u001b[43m    \u001b[49m\u001b[43m)\u001b[49m\u001b[38;5;241;43m.\u001b[39;49m\u001b[43mapply\u001b[49m\u001b[43m(\u001b[49m\u001b[43m)\u001b[49m\n",
      "File \u001b[1;32mc:\\Users\\chemi\\miniconda3\\envs\\mrdc_env\\Lib\\site-packages\\pandas\\core\\apply.py:1207\u001b[0m, in \u001b[0;36mSeriesApply.apply\u001b[1;34m(self)\u001b[0m\n\u001b[0;32m   1204\u001b[0m     \u001b[38;5;28;01mreturn\u001b[39;00m \u001b[38;5;28mself\u001b[39m\u001b[38;5;241m.\u001b[39mapply_compat()\n\u001b[0;32m   1206\u001b[0m \u001b[38;5;66;03m# self.func is Callable\u001b[39;00m\n\u001b[1;32m-> 1207\u001b[0m \u001b[38;5;28;01mreturn\u001b[39;00m \u001b[38;5;28;43mself\u001b[39;49m\u001b[38;5;241;43m.\u001b[39;49m\u001b[43mapply_standard\u001b[49m\u001b[43m(\u001b[49m\u001b[43m)\u001b[49m\n",
      "File \u001b[1;32mc:\\Users\\chemi\\miniconda3\\envs\\mrdc_env\\Lib\\site-packages\\pandas\\core\\apply.py:1287\u001b[0m, in \u001b[0;36mSeriesApply.apply_standard\u001b[1;34m(self)\u001b[0m\n\u001b[0;32m   1281\u001b[0m \u001b[38;5;66;03m# row-wise access\u001b[39;00m\n\u001b[0;32m   1282\u001b[0m \u001b[38;5;66;03m# apply doesn't have a `na_action` keyword and for backward compat reasons\u001b[39;00m\n\u001b[0;32m   1283\u001b[0m \u001b[38;5;66;03m# we need to give `na_action=\"ignore\"` for categorical data.\u001b[39;00m\n\u001b[0;32m   1284\u001b[0m \u001b[38;5;66;03m# TODO: remove the `na_action=\"ignore\"` when that default has been changed in\u001b[39;00m\n\u001b[0;32m   1285\u001b[0m \u001b[38;5;66;03m#  Categorical (GH51645).\u001b[39;00m\n\u001b[0;32m   1286\u001b[0m action \u001b[38;5;241m=\u001b[39m \u001b[38;5;124m\"\u001b[39m\u001b[38;5;124mignore\u001b[39m\u001b[38;5;124m\"\u001b[39m \u001b[38;5;28;01mif\u001b[39;00m \u001b[38;5;28misinstance\u001b[39m(obj\u001b[38;5;241m.\u001b[39mdtype, CategoricalDtype) \u001b[38;5;28;01melse\u001b[39;00m \u001b[38;5;28;01mNone\u001b[39;00m\n\u001b[1;32m-> 1287\u001b[0m mapped \u001b[38;5;241m=\u001b[39m \u001b[43mobj\u001b[49m\u001b[38;5;241;43m.\u001b[39;49m\u001b[43m_map_values\u001b[49m\u001b[43m(\u001b[49m\n\u001b[0;32m   1288\u001b[0m \u001b[43m    \u001b[49m\u001b[43mmapper\u001b[49m\u001b[38;5;241;43m=\u001b[39;49m\u001b[43mcurried\u001b[49m\u001b[43m,\u001b[49m\u001b[43m \u001b[49m\u001b[43mna_action\u001b[49m\u001b[38;5;241;43m=\u001b[39;49m\u001b[43maction\u001b[49m\u001b[43m,\u001b[49m\u001b[43m \u001b[49m\u001b[43mconvert\u001b[49m\u001b[38;5;241;43m=\u001b[39;49m\u001b[38;5;28;43mself\u001b[39;49m\u001b[38;5;241;43m.\u001b[39;49m\u001b[43mconvert_dtype\u001b[49m\n\u001b[0;32m   1289\u001b[0m \u001b[43m\u001b[49m\u001b[43m)\u001b[49m\n\u001b[0;32m   1291\u001b[0m \u001b[38;5;28;01mif\u001b[39;00m \u001b[38;5;28mlen\u001b[39m(mapped) \u001b[38;5;129;01mand\u001b[39;00m \u001b[38;5;28misinstance\u001b[39m(mapped[\u001b[38;5;241m0\u001b[39m], ABCSeries):\n\u001b[0;32m   1292\u001b[0m     \u001b[38;5;66;03m# GH#43986 Need to do list(mapped) in order to get treated as nested\u001b[39;00m\n\u001b[0;32m   1293\u001b[0m     \u001b[38;5;66;03m#  See also GH#25959 regarding EA support\u001b[39;00m\n\u001b[0;32m   1294\u001b[0m     \u001b[38;5;28;01mreturn\u001b[39;00m obj\u001b[38;5;241m.\u001b[39m_constructor_expanddim(\u001b[38;5;28mlist\u001b[39m(mapped), index\u001b[38;5;241m=\u001b[39mobj\u001b[38;5;241m.\u001b[39mindex)\n",
      "File \u001b[1;32mc:\\Users\\chemi\\miniconda3\\envs\\mrdc_env\\Lib\\site-packages\\pandas\\core\\base.py:919\u001b[0m, in \u001b[0;36mIndexOpsMixin._map_values\u001b[1;34m(self, mapper, na_action, convert)\u001b[0m\n\u001b[0;32m    916\u001b[0m arr \u001b[38;5;241m=\u001b[39m \u001b[38;5;28mself\u001b[39m\u001b[38;5;241m.\u001b[39m_values\n\u001b[0;32m    918\u001b[0m \u001b[38;5;28;01mif\u001b[39;00m \u001b[38;5;28misinstance\u001b[39m(arr, ExtensionArray):\n\u001b[1;32m--> 919\u001b[0m     \u001b[38;5;28;01mreturn\u001b[39;00m \u001b[43marr\u001b[49m\u001b[38;5;241;43m.\u001b[39;49m\u001b[43mmap\u001b[49m\u001b[43m(\u001b[49m\u001b[43mmapper\u001b[49m\u001b[43m,\u001b[49m\u001b[43m \u001b[49m\u001b[43mna_action\u001b[49m\u001b[38;5;241;43m=\u001b[39;49m\u001b[43mna_action\u001b[49m\u001b[43m)\u001b[49m\n\u001b[0;32m    921\u001b[0m \u001b[38;5;28;01mreturn\u001b[39;00m algorithms\u001b[38;5;241m.\u001b[39mmap_array(arr, mapper, na_action\u001b[38;5;241m=\u001b[39mna_action, convert\u001b[38;5;241m=\u001b[39mconvert)\n",
      "File \u001b[1;32mc:\\Users\\chemi\\miniconda3\\envs\\mrdc_env\\Lib\\site-packages\\pandas\\core\\arrays\\_mixins.py:80\u001b[0m, in \u001b[0;36mravel_compat.<locals>.method\u001b[1;34m(self, *args, **kwargs)\u001b[0m\n\u001b[0;32m     77\u001b[0m \u001b[38;5;129m@wraps\u001b[39m(meth)\n\u001b[0;32m     78\u001b[0m \u001b[38;5;28;01mdef\u001b[39;00m \u001b[38;5;21mmethod\u001b[39m(\u001b[38;5;28mself\u001b[39m, \u001b[38;5;241m*\u001b[39margs, \u001b[38;5;241m*\u001b[39m\u001b[38;5;241m*\u001b[39mkwargs):\n\u001b[0;32m     79\u001b[0m     \u001b[38;5;28;01mif\u001b[39;00m \u001b[38;5;28mself\u001b[39m\u001b[38;5;241m.\u001b[39mndim \u001b[38;5;241m==\u001b[39m \u001b[38;5;241m1\u001b[39m:\n\u001b[1;32m---> 80\u001b[0m         \u001b[38;5;28;01mreturn\u001b[39;00m \u001b[43mmeth\u001b[49m\u001b[43m(\u001b[49m\u001b[38;5;28;43mself\u001b[39;49m\u001b[43m,\u001b[49m\u001b[43m \u001b[49m\u001b[38;5;241;43m*\u001b[39;49m\u001b[43margs\u001b[49m\u001b[43m,\u001b[49m\u001b[43m \u001b[49m\u001b[38;5;241;43m*\u001b[39;49m\u001b[38;5;241;43m*\u001b[39;49m\u001b[43mkwargs\u001b[49m\u001b[43m)\u001b[49m\n\u001b[0;32m     82\u001b[0m     flags \u001b[38;5;241m=\u001b[39m \u001b[38;5;28mself\u001b[39m\u001b[38;5;241m.\u001b[39m_ndarray\u001b[38;5;241m.\u001b[39mflags\n\u001b[0;32m     83\u001b[0m     flat \u001b[38;5;241m=\u001b[39m \u001b[38;5;28mself\u001b[39m\u001b[38;5;241m.\u001b[39mravel(\u001b[38;5;124m\"\u001b[39m\u001b[38;5;124mK\u001b[39m\u001b[38;5;124m\"\u001b[39m)\n",
      "File \u001b[1;32mc:\\Users\\chemi\\miniconda3\\envs\\mrdc_env\\Lib\\site-packages\\pandas\\core\\arrays\\datetimelike.py:723\u001b[0m, in \u001b[0;36mDatetimeLikeArrayMixin.map\u001b[1;34m(self, mapper, na_action)\u001b[0m\n\u001b[0;32m    719\u001b[0m \u001b[38;5;129m@ravel_compat\u001b[39m\n\u001b[0;32m    720\u001b[0m \u001b[38;5;28;01mdef\u001b[39;00m \u001b[38;5;21mmap\u001b[39m(\u001b[38;5;28mself\u001b[39m, mapper, na_action\u001b[38;5;241m=\u001b[39m\u001b[38;5;28;01mNone\u001b[39;00m):\n\u001b[0;32m    721\u001b[0m     \u001b[38;5;28;01mfrom\u001b[39;00m \u001b[38;5;21;01mpandas\u001b[39;00m \u001b[38;5;28;01mimport\u001b[39;00m Index\n\u001b[1;32m--> 723\u001b[0m     result \u001b[38;5;241m=\u001b[39m \u001b[43mmap_array\u001b[49m\u001b[43m(\u001b[49m\u001b[38;5;28;43mself\u001b[39;49m\u001b[43m,\u001b[49m\u001b[43m \u001b[49m\u001b[43mmapper\u001b[49m\u001b[43m,\u001b[49m\u001b[43m \u001b[49m\u001b[43mna_action\u001b[49m\u001b[38;5;241;43m=\u001b[39;49m\u001b[43mna_action\u001b[49m\u001b[43m)\u001b[49m\n\u001b[0;32m    724\u001b[0m     result \u001b[38;5;241m=\u001b[39m Index(result)\n\u001b[0;32m    726\u001b[0m     \u001b[38;5;28;01mif\u001b[39;00m \u001b[38;5;28misinstance\u001b[39m(result, ABCMultiIndex):\n",
      "File \u001b[1;32mc:\\Users\\chemi\\miniconda3\\envs\\mrdc_env\\Lib\\site-packages\\pandas\\core\\algorithms.py:1814\u001b[0m, in \u001b[0;36mmap_array\u001b[1;34m(arr, mapper, na_action, convert)\u001b[0m\n\u001b[0;32m   1812\u001b[0m values \u001b[38;5;241m=\u001b[39m arr\u001b[38;5;241m.\u001b[39mastype(\u001b[38;5;28mobject\u001b[39m, copy\u001b[38;5;241m=\u001b[39m\u001b[38;5;28;01mFalse\u001b[39;00m)\n\u001b[0;32m   1813\u001b[0m \u001b[38;5;28;01mif\u001b[39;00m na_action \u001b[38;5;129;01mis\u001b[39;00m \u001b[38;5;28;01mNone\u001b[39;00m:\n\u001b[1;32m-> 1814\u001b[0m     \u001b[38;5;28;01mreturn\u001b[39;00m \u001b[43mlib\u001b[49m\u001b[38;5;241;43m.\u001b[39;49m\u001b[43mmap_infer\u001b[49m\u001b[43m(\u001b[49m\u001b[43mvalues\u001b[49m\u001b[43m,\u001b[49m\u001b[43m \u001b[49m\u001b[43mmapper\u001b[49m\u001b[43m,\u001b[49m\u001b[43m \u001b[49m\u001b[43mconvert\u001b[49m\u001b[38;5;241;43m=\u001b[39;49m\u001b[43mconvert\u001b[49m\u001b[43m)\u001b[49m\n\u001b[0;32m   1815\u001b[0m \u001b[38;5;28;01melse\u001b[39;00m:\n\u001b[0;32m   1816\u001b[0m     \u001b[38;5;28;01mreturn\u001b[39;00m lib\u001b[38;5;241m.\u001b[39mmap_infer_mask(\n\u001b[0;32m   1817\u001b[0m         values, mapper, mask\u001b[38;5;241m=\u001b[39misna(values)\u001b[38;5;241m.\u001b[39mview(np\u001b[38;5;241m.\u001b[39muint8), convert\u001b[38;5;241m=\u001b[39mconvert\n\u001b[0;32m   1818\u001b[0m     )\n",
      "File \u001b[1;32mlib.pyx:2920\u001b[0m, in \u001b[0;36mpandas._libs.lib.map_infer\u001b[1;34m()\u001b[0m\n",
      "File \u001b[1;32mc:\\Users\\chemi\\miniconda3\\envs\\mrdc_env\\Lib\\site-packages\\dateutil\\parser\\_parser.py:1368\u001b[0m, in \u001b[0;36mparse\u001b[1;34m(timestr, parserinfo, **kwargs)\u001b[0m\n\u001b[0;32m   1366\u001b[0m     \u001b[38;5;28;01mreturn\u001b[39;00m parser(parserinfo)\u001b[38;5;241m.\u001b[39mparse(timestr, \u001b[38;5;241m*\u001b[39m\u001b[38;5;241m*\u001b[39mkwargs)\n\u001b[0;32m   1367\u001b[0m \u001b[38;5;28;01melse\u001b[39;00m:\n\u001b[1;32m-> 1368\u001b[0m     \u001b[38;5;28;01mreturn\u001b[39;00m \u001b[43mDEFAULTPARSER\u001b[49m\u001b[38;5;241;43m.\u001b[39;49m\u001b[43mparse\u001b[49m\u001b[43m(\u001b[49m\u001b[43mtimestr\u001b[49m\u001b[43m,\u001b[49m\u001b[43m \u001b[49m\u001b[38;5;241;43m*\u001b[39;49m\u001b[38;5;241;43m*\u001b[39;49m\u001b[43mkwargs\u001b[49m\u001b[43m)\u001b[49m\n",
      "File \u001b[1;32mc:\\Users\\chemi\\miniconda3\\envs\\mrdc_env\\Lib\\site-packages\\dateutil\\parser\\_parser.py:640\u001b[0m, in \u001b[0;36mparser.parse\u001b[1;34m(self, timestr, default, ignoretz, tzinfos, **kwargs)\u001b[0m\n\u001b[0;32m    636\u001b[0m \u001b[38;5;28;01mif\u001b[39;00m default \u001b[38;5;129;01mis\u001b[39;00m \u001b[38;5;28;01mNone\u001b[39;00m:\n\u001b[0;32m    637\u001b[0m     default \u001b[38;5;241m=\u001b[39m datetime\u001b[38;5;241m.\u001b[39mdatetime\u001b[38;5;241m.\u001b[39mnow()\u001b[38;5;241m.\u001b[39mreplace(hour\u001b[38;5;241m=\u001b[39m\u001b[38;5;241m0\u001b[39m, minute\u001b[38;5;241m=\u001b[39m\u001b[38;5;241m0\u001b[39m,\n\u001b[0;32m    638\u001b[0m                                               second\u001b[38;5;241m=\u001b[39m\u001b[38;5;241m0\u001b[39m, microsecond\u001b[38;5;241m=\u001b[39m\u001b[38;5;241m0\u001b[39m)\n\u001b[1;32m--> 640\u001b[0m res, skipped_tokens \u001b[38;5;241m=\u001b[39m \u001b[38;5;28;43mself\u001b[39;49m\u001b[38;5;241;43m.\u001b[39;49m\u001b[43m_parse\u001b[49m\u001b[43m(\u001b[49m\u001b[43mtimestr\u001b[49m\u001b[43m,\u001b[49m\u001b[43m \u001b[49m\u001b[38;5;241;43m*\u001b[39;49m\u001b[38;5;241;43m*\u001b[39;49m\u001b[43mkwargs\u001b[49m\u001b[43m)\u001b[49m\n\u001b[0;32m    642\u001b[0m \u001b[38;5;28;01mif\u001b[39;00m res \u001b[38;5;129;01mis\u001b[39;00m \u001b[38;5;28;01mNone\u001b[39;00m:\n\u001b[0;32m    643\u001b[0m     \u001b[38;5;28;01mraise\u001b[39;00m ParserError(\u001b[38;5;124m\"\u001b[39m\u001b[38;5;124mUnknown string format: \u001b[39m\u001b[38;5;132;01m%s\u001b[39;00m\u001b[38;5;124m\"\u001b[39m, timestr)\n",
      "File \u001b[1;32mc:\\Users\\chemi\\miniconda3\\envs\\mrdc_env\\Lib\\site-packages\\dateutil\\parser\\_parser.py:719\u001b[0m, in \u001b[0;36mparser._parse\u001b[1;34m(self, timestr, dayfirst, yearfirst, fuzzy, fuzzy_with_tokens)\u001b[0m\n\u001b[0;32m    716\u001b[0m     yearfirst \u001b[38;5;241m=\u001b[39m info\u001b[38;5;241m.\u001b[39myearfirst\n\u001b[0;32m    718\u001b[0m res \u001b[38;5;241m=\u001b[39m \u001b[38;5;28mself\u001b[39m\u001b[38;5;241m.\u001b[39m_result()\n\u001b[1;32m--> 719\u001b[0m l \u001b[38;5;241m=\u001b[39m \u001b[43m_timelex\u001b[49m\u001b[38;5;241;43m.\u001b[39;49m\u001b[43msplit\u001b[49m\u001b[43m(\u001b[49m\u001b[43mtimestr\u001b[49m\u001b[43m)\u001b[49m         \u001b[38;5;66;03m# Splits the timestr into tokens\u001b[39;00m\n\u001b[0;32m    721\u001b[0m skipped_idxs \u001b[38;5;241m=\u001b[39m []\n\u001b[0;32m    723\u001b[0m \u001b[38;5;66;03m# year/month/day list\u001b[39;00m\n",
      "File \u001b[1;32mc:\\Users\\chemi\\miniconda3\\envs\\mrdc_env\\Lib\\site-packages\\dateutil\\parser\\_parser.py:201\u001b[0m, in \u001b[0;36m_timelex.split\u001b[1;34m(cls, s)\u001b[0m\n\u001b[0;32m    199\u001b[0m \u001b[38;5;129m@classmethod\u001b[39m\n\u001b[0;32m    200\u001b[0m \u001b[38;5;28;01mdef\u001b[39;00m \u001b[38;5;21msplit\u001b[39m(\u001b[38;5;28mcls\u001b[39m, s):\n\u001b[1;32m--> 201\u001b[0m     \u001b[38;5;28;01mreturn\u001b[39;00m \u001b[38;5;28mlist\u001b[39m(\u001b[38;5;28;43mcls\u001b[39;49m\u001b[43m(\u001b[49m\u001b[43ms\u001b[49m\u001b[43m)\u001b[49m)\n",
      "File \u001b[1;32mc:\\Users\\chemi\\miniconda3\\envs\\mrdc_env\\Lib\\site-packages\\dateutil\\parser\\_parser.py:69\u001b[0m, in \u001b[0;36m_timelex.__init__\u001b[1;34m(self, instream)\u001b[0m\n\u001b[0;32m     67\u001b[0m     instream \u001b[38;5;241m=\u001b[39m StringIO(instream)\n\u001b[0;32m     68\u001b[0m \u001b[38;5;28;01melif\u001b[39;00m \u001b[38;5;28mgetattr\u001b[39m(instream, \u001b[38;5;124m'\u001b[39m\u001b[38;5;124mread\u001b[39m\u001b[38;5;124m'\u001b[39m, \u001b[38;5;28;01mNone\u001b[39;00m) \u001b[38;5;129;01mis\u001b[39;00m \u001b[38;5;28;01mNone\u001b[39;00m:\n\u001b[1;32m---> 69\u001b[0m     \u001b[38;5;28;01mraise\u001b[39;00m \u001b[38;5;167;01mTypeError\u001b[39;00m(\u001b[38;5;124m'\u001b[39m\u001b[38;5;124mParser must be a string or character stream, not \u001b[39m\u001b[38;5;124m'\u001b[39m\n\u001b[0;32m     70\u001b[0m                     \u001b[38;5;124m'\u001b[39m\u001b[38;5;132;01m{itype}\u001b[39;00m\u001b[38;5;124m'\u001b[39m\u001b[38;5;241m.\u001b[39mformat(itype\u001b[38;5;241m=\u001b[39minstream\u001b[38;5;241m.\u001b[39m\u001b[38;5;18m__class__\u001b[39m\u001b[38;5;241m.\u001b[39m\u001b[38;5;18m__name__\u001b[39m))\n\u001b[0;32m     72\u001b[0m \u001b[38;5;28mself\u001b[39m\u001b[38;5;241m.\u001b[39minstream \u001b[38;5;241m=\u001b[39m instream\n\u001b[0;32m     73\u001b[0m \u001b[38;5;28mself\u001b[39m\u001b[38;5;241m.\u001b[39mcharstack \u001b[38;5;241m=\u001b[39m []\n",
      "\u001b[1;31mTypeError\u001b[0m: Parser must be a string or character stream, not Timestamp"
     ]
    }
   ],
   "source": [
    "# Convert 'date_payment_confirmed' to datetime format\n",
    "print(\"Need to convert date_payment_confirmed to datetime64[ns].\\n\")\n",
    "display(card_details_df_filtered.info())\n",
    "print(\"Converted date_payment_confirmed to datetime64[ns].\\n\")\n",
    "card_details_df_filtered['date_payment_confirmed'] = card_details_df_filtered['date_payment_confirmed'].apply(parse)\n",
    "display(card_details_df_filtered.info())\n",
    "# card_details_df_filtered['date_payment_confirmed'] = pd.to_datetime(card_details_df_filtered['date_payment_confirmed'], format='%y-%m-%d', errors='coerce')\n",
    "card_details_df_filtered['date_payment_confirmed'].apply(pd.to_datetime, format='%y-%m-%d', errors='coerce')\n",
    "\n",
    "display(card_details_df_filtered)\n",
    "\n"
   ]
  },
  {
   "cell_type": "code",
   "execution_count": null,
   "id": "ad4ce349",
   "metadata": {},
   "outputs": [
    {
     "data": {
      "text/plain": [
       "<DatetimeArray>\n",
       "['2015-11-25 00:00:00', '2001-06-18 00:00:00', '2000-12-26 00:00:00',\n",
       " '2011-02-12 00:00:00', '1997-03-13 00:00:00', '2003-08-25 00:00:00',\n",
       " '2006-12-11 00:00:00', '1995-08-24 00:00:00', '1998-10-23 00:00:00',\n",
       " '2011-04-30 00:00:00',\n",
       " ...\n",
       " '2006-07-06 00:00:00', '1993-10-13 00:00:00', '1993-08-15 00:00:00',\n",
       " '2020-08-04 00:00:00', '2011-12-29 00:00:00', '2008-02-28 00:00:00',\n",
       " '1995-11-17 00:00:00', '2017-05-30 00:00:00', '2004-06-16 00:00:00',\n",
       " '2009-02-04 00:00:00']\n",
       "Length: 8250, dtype: datetime64[ns]"
      ]
     },
     "execution_count": 79,
     "metadata": {},
     "output_type": "execute_result"
    }
   ],
   "source": [
    "card_details_df_filtered['date_payment_confirmed'].unique()"
   ]
  },
  {
   "cell_type": "markdown",
   "id": "8f77b1c0",
   "metadata": {},
   "source": [
    "# Check card_provider\t"
   ]
  },
  {
   "cell_type": "code",
   "execution_count": null,
   "id": "36710c72",
   "metadata": {},
   "outputs": [
    {
     "data": {
      "text/plain": [
       "array(['Diners Club / Carte Blanche', 'American Express', 'JCB 16 digit',\n",
       "       'JCB 15 digit', 'Maestro', 'Mastercard', 'Discover',\n",
       "       'VISA 19 digit', 'VISA 16 digit', 'VISA 13 digit'], dtype=object)"
      ]
     },
     "execution_count": 80,
     "metadata": {},
     "output_type": "execute_result"
    }
   ],
   "source": [
    "card_details_df_filtered['card_provider'].unique()"
   ]
  },
  {
   "cell_type": "code",
   "execution_count": null,
   "id": "838346f7",
   "metadata": {},
   "outputs": [
    {
     "name": "stdout",
     "output_type": "stream",
     "text": [
      "<class 'pandas.core.frame.DataFrame'>\n",
      "Index: 15284 entries, 0 to 15308\n",
      "Data columns (total 4 columns):\n",
      " #   Column                  Non-Null Count  Dtype         \n",
      "---  ------                  --------------  -----         \n",
      " 0   card_number             15284 non-null  string        \n",
      " 1   expiry_date             15284 non-null  string        \n",
      " 2   card_provider           15284 non-null  category      \n",
      " 3   date_payment_confirmed  15284 non-null  datetime64[ns]\n",
      "dtypes: category(1), datetime64[ns](1), string(2)\n",
      "memory usage: 492.9 KB\n"
     ]
    },
    {
     "data": {
      "text/plain": [
       "None"
      ]
     },
     "metadata": {},
     "output_type": "display_data"
    }
   ],
   "source": [
    "card_details_df_filtered['card_provider'] = card_details_df_filtered['card_provider'].astype('category')\n",
    "display(card_details_df_filtered.info())"
   ]
  },
  {
   "cell_type": "code",
   "execution_count": null,
   "id": "4036af8a",
   "metadata": {},
   "outputs": [],
   "source": [
    "# visa_19_digit_rows = card_details_df_filtered[card_details_df_filtered['card_provider'] == 'VISA 19 digit']\n",
    "# display(visa_19_digit_rows)\n"
   ]
  },
  {
   "cell_type": "markdown",
   "id": "02383ef5",
   "metadata": {},
   "source": [
    "# Checking for duplicated rows"
   ]
  },
  {
   "cell_type": "code",
   "execution_count": null,
   "id": "c3a561af",
   "metadata": {},
   "outputs": [
    {
     "name": "stdout",
     "output_type": "stream",
     "text": [
      "Empty DataFrame\n",
      "Columns: [card_number, expiry_date, card_provider, date_payment_confirmed]\n",
      "Index: []\n"
     ]
    }
   ],
   "source": [
    "duplicates = card_details_df_filtered.duplicated()\n",
    "print(card_details_df_filtered[duplicates])"
   ]
  },
  {
   "cell_type": "markdown",
   "id": "4f2a8b2f",
   "metadata": {},
   "source": [
    "# Testing the card_details_data_cleaned.csv"
   ]
  },
  {
   "cell_type": "code",
   "execution_count": null,
   "id": "de319e45",
   "metadata": {},
   "outputs": [
    {
     "data": {
      "text/html": [
       "<div>\n",
       "<style scoped>\n",
       "    .dataframe tbody tr th:only-of-type {\n",
       "        vertical-align: middle;\n",
       "    }\n",
       "\n",
       "    .dataframe tbody tr th {\n",
       "        vertical-align: top;\n",
       "    }\n",
       "\n",
       "    .dataframe thead th {\n",
       "        text-align: right;\n",
       "    }\n",
       "</style>\n",
       "<table border=\"1\" class=\"dataframe\">\n",
       "  <thead>\n",
       "    <tr style=\"text-align: right;\">\n",
       "      <th></th>\n",
       "      <th>card_number</th>\n",
       "      <th>expiry_date</th>\n",
       "      <th>card_provider</th>\n",
       "      <th>date_payment_confirmed</th>\n",
       "    </tr>\n",
       "  </thead>\n",
       "  <tbody>\n",
       "    <tr>\n",
       "      <th>0</th>\n",
       "      <td>30060773296197</td>\n",
       "      <td>09/26</td>\n",
       "      <td>Diners Club / Carte Blanche</td>\n",
       "      <td>2015-11-25</td>\n",
       "    </tr>\n",
       "    <tr>\n",
       "      <th>1</th>\n",
       "      <td>349624180933183</td>\n",
       "      <td>10/23</td>\n",
       "      <td>American Express</td>\n",
       "      <td>2001-06-18</td>\n",
       "    </tr>\n",
       "    <tr>\n",
       "      <th>2</th>\n",
       "      <td>3529023891650490</td>\n",
       "      <td>06/23</td>\n",
       "      <td>JCB 16 digit</td>\n",
       "      <td>2000-12-26</td>\n",
       "    </tr>\n",
       "    <tr>\n",
       "      <th>3</th>\n",
       "      <td>213142929492281</td>\n",
       "      <td>09/27</td>\n",
       "      <td>JCB 15 digit</td>\n",
       "      <td>2011-02-12</td>\n",
       "    </tr>\n",
       "    <tr>\n",
       "      <th>4</th>\n",
       "      <td>502067329974</td>\n",
       "      <td>10/25</td>\n",
       "      <td>Maestro</td>\n",
       "      <td>1997-03-13</td>\n",
       "    </tr>\n",
       "    <tr>\n",
       "      <th>...</th>\n",
       "      <td>...</td>\n",
       "      <td>...</td>\n",
       "      <td>...</td>\n",
       "      <td>...</td>\n",
       "    </tr>\n",
       "    <tr>\n",
       "      <th>15279</th>\n",
       "      <td>180036921556789</td>\n",
       "      <td>12/28</td>\n",
       "      <td>JCB 15 digit</td>\n",
       "      <td>1997-06-06</td>\n",
       "    </tr>\n",
       "    <tr>\n",
       "      <th>15280</th>\n",
       "      <td>180018030448512</td>\n",
       "      <td>11/24</td>\n",
       "      <td>JCB 15 digit</td>\n",
       "      <td>2004-06-16</td>\n",
       "    </tr>\n",
       "    <tr>\n",
       "      <th>15281</th>\n",
       "      <td>3569953313547220</td>\n",
       "      <td>04/24</td>\n",
       "      <td>JCB 16 digit</td>\n",
       "      <td>2020-02-05</td>\n",
       "    </tr>\n",
       "    <tr>\n",
       "      <th>15282</th>\n",
       "      <td>4444521712606810</td>\n",
       "      <td>06/27</td>\n",
       "      <td>VISA 16 digit</td>\n",
       "      <td>2008-06-16</td>\n",
       "    </tr>\n",
       "    <tr>\n",
       "      <th>15283</th>\n",
       "      <td>372031786522735</td>\n",
       "      <td>02/30</td>\n",
       "      <td>American Express</td>\n",
       "      <td>2009-02-04</td>\n",
       "    </tr>\n",
       "  </tbody>\n",
       "</table>\n",
       "<p>15284 rows × 4 columns</p>\n",
       "</div>"
      ],
      "text/plain": [
       "            card_number expiry_date                card_provider  \\\n",
       "0        30060773296197       09/26  Diners Club / Carte Blanche   \n",
       "1       349624180933183       10/23             American Express   \n",
       "2      3529023891650490       06/23                 JCB 16 digit   \n",
       "3       213142929492281       09/27                 JCB 15 digit   \n",
       "4          502067329974       10/25                      Maestro   \n",
       "...                 ...         ...                          ...   \n",
       "15279   180036921556789       12/28                 JCB 15 digit   \n",
       "15280   180018030448512       11/24                 JCB 15 digit   \n",
       "15281  3569953313547220       04/24                 JCB 16 digit   \n",
       "15282  4444521712606810       06/27                VISA 16 digit   \n",
       "15283   372031786522735       02/30             American Express   \n",
       "\n",
       "      date_payment_confirmed  \n",
       "0                 2015-11-25  \n",
       "1                 2001-06-18  \n",
       "2                 2000-12-26  \n",
       "3                 2011-02-12  \n",
       "4                 1997-03-13  \n",
       "...                      ...  \n",
       "15279             1997-06-06  \n",
       "15280             2004-06-16  \n",
       "15281             2020-02-05  \n",
       "15282             2008-06-16  \n",
       "15283             2009-02-04  \n",
       "\n",
       "[15284 rows x 4 columns]"
      ]
     },
     "metadata": {},
     "output_type": "display_data"
    },
    {
     "name": "stdout",
     "output_type": "stream",
     "text": [
      "<class 'pandas.core.frame.DataFrame'>\n",
      "RangeIndex: 15284 entries, 0 to 15283\n",
      "Data columns (total 4 columns):\n",
      " #   Column                  Non-Null Count  Dtype \n",
      "---  ------                  --------------  ----- \n",
      " 0   card_number             15284 non-null  int64 \n",
      " 1   expiry_date             15284 non-null  object\n",
      " 2   card_provider           15284 non-null  object\n",
      " 3   date_payment_confirmed  15284 non-null  object\n",
      "dtypes: int64(1), object(3)\n",
      "memory usage: 477.8+ KB\n"
     ]
    },
    {
     "data": {
      "text/plain": [
       "None"
      ]
     },
     "metadata": {},
     "output_type": "display_data"
    }
   ],
   "source": [
    "card_details_df2 = pd.read_csv('card_details_data_cleaned.csv')\n",
    "display(card_details_df2)\n",
    "display(card_details_df2.info())"
   ]
  }
 ],
 "metadata": {
  "kernelspec": {
   "display_name": "mrdc_env",
   "language": "python",
   "name": "python3"
  },
  "language_info": {
   "codemirror_mode": {
    "name": "ipython",
    "version": 3
   },
   "file_extension": ".py",
   "mimetype": "text/x-python",
   "name": "python",
   "nbconvert_exporter": "python",
   "pygments_lexer": "ipython3",
   "version": "3.11.5"
  }
 },
 "nbformat": 4,
 "nbformat_minor": 5
}
