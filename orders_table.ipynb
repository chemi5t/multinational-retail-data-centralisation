{
 "cells": [
  {
   "cell_type": "code",
   "execution_count": null,
   "id": "49446354",
   "metadata": {},
   "outputs": [],
   "source": [
    "import pandas as pd\n",
    "from database_utils import DatabaseConnector as dc\n",
    "\n",
    "database_connector = dc()\n",
    "credentials = database_connector.read_db_creds('db_creds.yaml')\n",
    "engine, _ = database_connector.init_db_engine(credentials)\n",
    "\n",
    "# Import data from 'orders_table' table into DataFrame\n",
    "orders_table_df = pd.read_sql('orders_table', engine)\n",
    "\n",
    "# Display the DataFrame\n",
    "orders_table_df"
   ]
  }
 ],
 "metadata": {},
 "nbformat": 4,
 "nbformat_minor": 5
}
