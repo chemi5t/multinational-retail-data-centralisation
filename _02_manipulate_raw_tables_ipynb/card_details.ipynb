{
 "cells": [
  {
   "cell_type": "code",
   "execution_count": null,
   "id": "407b2cb3",
   "metadata": {},
   "outputs": [],
   "source": [
    "import pandas as pd\n",
    "# Import data from '_01_raw_tables_csv\\card_details.csv' into DataFrame.\n",
    "table_name = 'card_details'\n",
    "csv_file_path = '_01_raw_tables_csv\\card_details.csv'\n",
    "card_details_df = pd.read_csv(csv_file_path)\n",
    "# Display the DataFrame\n",
    "display(card_details_df)"
   ]
  }
 ],
 "metadata": {},
 "nbformat": 4,
 "nbformat_minor": 5
}
