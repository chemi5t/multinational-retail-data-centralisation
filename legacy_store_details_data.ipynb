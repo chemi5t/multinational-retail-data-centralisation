{
 "cells": [
  {
   "cell_type": "code",
   "execution_count": 950,
   "id": "52221b1d",
   "metadata": {},
   "outputs": [
    {
     "data": {
      "text/html": [
       "<div>\n",
       "<style scoped>\n",
       "    .dataframe tbody tr th:only-of-type {\n",
       "        vertical-align: middle;\n",
       "    }\n",
       "\n",
       "    .dataframe tbody tr th {\n",
       "        vertical-align: top;\n",
       "    }\n",
       "\n",
       "    .dataframe thead th {\n",
       "        text-align: right;\n",
       "    }\n",
       "</style>\n",
       "<table border=\"1\" class=\"dataframe\">\n",
       "  <thead>\n",
       "    <tr style=\"text-align: right;\">\n",
       "      <th></th>\n",
       "      <th>index</th>\n",
       "      <th>address</th>\n",
       "      <th>longitude</th>\n",
       "      <th>lat</th>\n",
       "      <th>locality</th>\n",
       "      <th>store_code</th>\n",
       "      <th>staff_numbers</th>\n",
       "      <th>opening_date</th>\n",
       "      <th>store_type</th>\n",
       "      <th>latitude</th>\n",
       "      <th>country_code</th>\n",
       "      <th>continent</th>\n",
       "    </tr>\n",
       "  </thead>\n",
       "  <tbody>\n",
       "    <tr>\n",
       "      <th>0</th>\n",
       "      <td>1</td>\n",
       "      <td>Flat 72W\\nSally isle\\nEast Deantown\\nE7B 8EB, ...</td>\n",
       "      <td>51.62907</td>\n",
       "      <td>None</td>\n",
       "      <td>High Wycombe</td>\n",
       "      <td>HI-9B97EE4E</td>\n",
       "      <td>34</td>\n",
       "      <td>1996-10-25</td>\n",
       "      <td>Local</td>\n",
       "      <td>-0.74934</td>\n",
       "      <td>GB</td>\n",
       "      <td>Europe</td>\n",
       "    </tr>\n",
       "    <tr>\n",
       "      <th>1</th>\n",
       "      <td>2</td>\n",
       "      <td>Heckerstraße 4/5\\n50491 Säckingen, Landshut</td>\n",
       "      <td>48.52961</td>\n",
       "      <td>None</td>\n",
       "      <td>Landshut</td>\n",
       "      <td>LA-0772C7B9</td>\n",
       "      <td>92</td>\n",
       "      <td>2013-04-12</td>\n",
       "      <td>Super Store</td>\n",
       "      <td>12.16179</td>\n",
       "      <td>DE</td>\n",
       "      <td>Europe</td>\n",
       "    </tr>\n",
       "    <tr>\n",
       "      <th>2</th>\n",
       "      <td>3</td>\n",
       "      <td>5 Harrison tunnel\\nSouth Lydia\\nWC9 2BE, Westbury</td>\n",
       "      <td>51.26</td>\n",
       "      <td>None</td>\n",
       "      <td>Westbury</td>\n",
       "      <td>WE-1DE82CEE</td>\n",
       "      <td>69</td>\n",
       "      <td>2014-01-02</td>\n",
       "      <td>Super Store</td>\n",
       "      <td>-2.1875</td>\n",
       "      <td>GB</td>\n",
       "      <td>Europe</td>\n",
       "    </tr>\n",
       "    <tr>\n",
       "      <th>3</th>\n",
       "      <td>4</td>\n",
       "      <td>Studio 6\\nStephen landing\\nSouth Simon\\nB77 2W...</td>\n",
       "      <td>53.0233</td>\n",
       "      <td>None</td>\n",
       "      <td>Belper</td>\n",
       "      <td>BE-18074576</td>\n",
       "      <td>35</td>\n",
       "      <td>2019-09-09</td>\n",
       "      <td>Local</td>\n",
       "      <td>-1.48119</td>\n",
       "      <td>GB</td>\n",
       "      <td>Europe</td>\n",
       "    </tr>\n",
       "    <tr>\n",
       "      <th>4</th>\n",
       "      <td>5</td>\n",
       "      <td>Flat 92u\\nChristian harbors\\nPort Charlotte\\nN...</td>\n",
       "      <td>53.38333</td>\n",
       "      <td>None</td>\n",
       "      <td>Gainsborough</td>\n",
       "      <td>GA-CAD01AC2</td>\n",
       "      <td>36</td>\n",
       "      <td>1995-05-15</td>\n",
       "      <td>Local</td>\n",
       "      <td>-0.76667</td>\n",
       "      <td>GB</td>\n",
       "      <td>Europe</td>\n",
       "    </tr>\n",
       "    <tr>\n",
       "      <th>...</th>\n",
       "      <td>...</td>\n",
       "      <td>...</td>\n",
       "      <td>...</td>\n",
       "      <td>...</td>\n",
       "      <td>...</td>\n",
       "      <td>...</td>\n",
       "      <td>...</td>\n",
       "      <td>...</td>\n",
       "      <td>...</td>\n",
       "      <td>...</td>\n",
       "      <td>...</td>\n",
       "      <td>...</td>\n",
       "    </tr>\n",
       "    <tr>\n",
       "      <th>446</th>\n",
       "      <td>446</td>\n",
       "      <td>Täschestraße 25\\n39039 Nördlingen, Kirchlengern</td>\n",
       "      <td>52.2</td>\n",
       "      <td>None</td>\n",
       "      <td>Kirchlengern</td>\n",
       "      <td>KI-78096E8C</td>\n",
       "      <td>61</td>\n",
       "      <td>2005-05-12</td>\n",
       "      <td>Super Store</td>\n",
       "      <td>8.63333</td>\n",
       "      <td>DE</td>\n",
       "      <td>Europe</td>\n",
       "    </tr>\n",
       "    <tr>\n",
       "      <th>447</th>\n",
       "      <td>447</td>\n",
       "      <td>K0ODETRLS3</td>\n",
       "      <td>K8CXLZDP07</td>\n",
       "      <td>UXMWDMX1LC</td>\n",
       "      <td>3VHFDNP8ET</td>\n",
       "      <td>9D4LK7X4LZ</td>\n",
       "      <td>D23PCWSM6S</td>\n",
       "      <td>36IIMAQD58</td>\n",
       "      <td>NN04B3F6UQ</td>\n",
       "      <td>JZP8MIJTPZ</td>\n",
       "      <td>B3EH2ZGQAV</td>\n",
       "      <td>1WZB1TE1HL</td>\n",
       "    </tr>\n",
       "    <tr>\n",
       "      <th>448</th>\n",
       "      <td>448</td>\n",
       "      <td>Studio 8\\nMoss mall\\nWest Linda\\nM0E 6XR, High...</td>\n",
       "      <td>51.62907</td>\n",
       "      <td>None</td>\n",
       "      <td>High Wycombe</td>\n",
       "      <td>HI-EEA7AE62</td>\n",
       "      <td>33</td>\n",
       "      <td>1998-05-14</td>\n",
       "      <td>Local</td>\n",
       "      <td>-0.74934</td>\n",
       "      <td>GB</td>\n",
       "      <td>Europe</td>\n",
       "    </tr>\n",
       "    <tr>\n",
       "      <th>449</th>\n",
       "      <td>449</td>\n",
       "      <td>Baumplatz 6\\n80114 Kötzting, Bretten</td>\n",
       "      <td>49.03685</td>\n",
       "      <td>None</td>\n",
       "      <td>Bretten</td>\n",
       "      <td>BR-662EC74C</td>\n",
       "      <td>35</td>\n",
       "      <td>2020-10-17</td>\n",
       "      <td>Local</td>\n",
       "      <td>8.70745</td>\n",
       "      <td>DE</td>\n",
       "      <td>Europe</td>\n",
       "    </tr>\n",
       "    <tr>\n",
       "      <th>450</th>\n",
       "      <td>450</td>\n",
       "      <td>Gotthilf-Rose-Straße 7/3\\n45457 Feuchtwangen, ...</td>\n",
       "      <td>50.64336</td>\n",
       "      <td>None</td>\n",
       "      <td>Bad Honnef</td>\n",
       "      <td>BA-B4AED588</td>\n",
       "      <td>36</td>\n",
       "      <td>2001-05-12</td>\n",
       "      <td>Local</td>\n",
       "      <td>7.2278</td>\n",
       "      <td>DE</td>\n",
       "      <td>eeEurope</td>\n",
       "    </tr>\n",
       "  </tbody>\n",
       "</table>\n",
       "<p>451 rows × 12 columns</p>\n",
       "</div>"
      ],
      "text/plain": [
       "     index                                            address   longitude  \\\n",
       "0        1  Flat 72W\\nSally isle\\nEast Deantown\\nE7B 8EB, ...    51.62907   \n",
       "1        2        Heckerstraße 4/5\\n50491 Säckingen, Landshut    48.52961   \n",
       "2        3  5 Harrison tunnel\\nSouth Lydia\\nWC9 2BE, Westbury       51.26   \n",
       "3        4  Studio 6\\nStephen landing\\nSouth Simon\\nB77 2W...     53.0233   \n",
       "4        5  Flat 92u\\nChristian harbors\\nPort Charlotte\\nN...    53.38333   \n",
       "..     ...                                                ...         ...   \n",
       "446    446    Täschestraße 25\\n39039 Nördlingen, Kirchlengern        52.2   \n",
       "447    447                                         K0ODETRLS3  K8CXLZDP07   \n",
       "448    448  Studio 8\\nMoss mall\\nWest Linda\\nM0E 6XR, High...    51.62907   \n",
       "449    449               Baumplatz 6\\n80114 Kötzting, Bretten    49.03685   \n",
       "450    450  Gotthilf-Rose-Straße 7/3\\n45457 Feuchtwangen, ...    50.64336   \n",
       "\n",
       "            lat      locality   store_code staff_numbers opening_date  \\\n",
       "0          None  High Wycombe  HI-9B97EE4E            34   1996-10-25   \n",
       "1          None      Landshut  LA-0772C7B9            92   2013-04-12   \n",
       "2          None      Westbury  WE-1DE82CEE            69   2014-01-02   \n",
       "3          None        Belper  BE-18074576            35   2019-09-09   \n",
       "4          None  Gainsborough  GA-CAD01AC2            36   1995-05-15   \n",
       "..          ...           ...          ...           ...          ...   \n",
       "446        None  Kirchlengern  KI-78096E8C            61   2005-05-12   \n",
       "447  UXMWDMX1LC    3VHFDNP8ET   9D4LK7X4LZ    D23PCWSM6S   36IIMAQD58   \n",
       "448        None  High Wycombe  HI-EEA7AE62            33   1998-05-14   \n",
       "449        None       Bretten  BR-662EC74C            35   2020-10-17   \n",
       "450        None    Bad Honnef  BA-B4AED588            36   2001-05-12   \n",
       "\n",
       "      store_type    latitude country_code   continent  \n",
       "0          Local    -0.74934           GB      Europe  \n",
       "1    Super Store    12.16179           DE      Europe  \n",
       "2    Super Store     -2.1875           GB      Europe  \n",
       "3          Local    -1.48119           GB      Europe  \n",
       "4          Local    -0.76667           GB      Europe  \n",
       "..           ...         ...          ...         ...  \n",
       "446  Super Store     8.63333           DE      Europe  \n",
       "447   NN04B3F6UQ  JZP8MIJTPZ   B3EH2ZGQAV  1WZB1TE1HL  \n",
       "448        Local    -0.74934           GB      Europe  \n",
       "449        Local     8.70745           DE      Europe  \n",
       "450        Local      7.2278           DE    eeEurope  \n",
       "\n",
       "[451 rows x 12 columns]"
      ]
     },
     "metadata": {},
     "output_type": "display_data"
    }
   ],
   "source": [
    "import pandas as pd\n",
    "from database_utils import DatabaseConnector as dc\n",
    "\n",
    "import numpy as np\n",
    "import nbformat\n",
    "import plotly.express as px\n",
    "import missingno as msno\n",
    "\n",
    "\n",
    "database_connector = dc()\n",
    "credentials = database_connector.read_db_creds('db_creds.yaml')\n",
    "engine = database_connector.init_db_engine(credentials)\n",
    "\n",
    "# Import data from 'legacy_store_details' table into DataFrame\n",
    "legacy_store_details_df = pd.read_sql('legacy_store_details', engine)\n",
    "\n",
    "# Display the DataFrame\n",
    "display(legacy_store_details_df)\n"
   ]
  },
  {
   "cell_type": "code",
   "execution_count": 951,
   "metadata": {},
   "outputs": [
    {
     "name": "stdout",
     "output_type": "stream",
     "text": [
      "Display the DataFrame details:\n",
      "\n",
      "<class 'pandas.core.frame.DataFrame'>\n",
      "RangeIndex: 451 entries, 0 to 450\n",
      "Data columns (total 12 columns):\n",
      " #   Column         Non-Null Count  Dtype \n",
      "---  ------         --------------  ----- \n",
      " 0   index          451 non-null    int64 \n",
      " 1   address        451 non-null    object\n",
      " 2   longitude      451 non-null    object\n",
      " 3   lat            11 non-null     object\n",
      " 4   locality       451 non-null    object\n",
      " 5   store_code     451 non-null    object\n",
      " 6   staff_numbers  451 non-null    object\n",
      " 7   opening_date   451 non-null    object\n",
      " 8   store_type     451 non-null    object\n",
      " 9   latitude       450 non-null    object\n",
      " 10  country_code   451 non-null    object\n",
      " 11  continent      451 non-null    object\n",
      "dtypes: int64(1), object(11)\n",
      "memory usage: 42.4+ KB\n",
      "None \n",
      "\n"
     ]
    },
    {
     "data": {
      "text/html": [
       "<div>\n",
       "<style scoped>\n",
       "    .dataframe tbody tr th:only-of-type {\n",
       "        vertical-align: middle;\n",
       "    }\n",
       "\n",
       "    .dataframe tbody tr th {\n",
       "        vertical-align: top;\n",
       "    }\n",
       "\n",
       "    .dataframe thead th {\n",
       "        text-align: right;\n",
       "    }\n",
       "</style>\n",
       "<table border=\"1\" class=\"dataframe\">\n",
       "  <thead>\n",
       "    <tr style=\"text-align: right;\">\n",
       "      <th></th>\n",
       "      <th>index</th>\n",
       "      <th>address</th>\n",
       "      <th>longitude</th>\n",
       "      <th>lat</th>\n",
       "      <th>locality</th>\n",
       "      <th>store_code</th>\n",
       "      <th>staff_numbers</th>\n",
       "      <th>opening_date</th>\n",
       "      <th>store_type</th>\n",
       "      <th>latitude</th>\n",
       "      <th>country_code</th>\n",
       "      <th>continent</th>\n",
       "    </tr>\n",
       "  </thead>\n",
       "  <tbody>\n",
       "    <tr>\n",
       "      <th>count</th>\n",
       "      <td>451.000000</td>\n",
       "      <td>451</td>\n",
       "      <td>451</td>\n",
       "      <td>11</td>\n",
       "      <td>451</td>\n",
       "      <td>451</td>\n",
       "      <td>451</td>\n",
       "      <td>451</td>\n",
       "      <td>451</td>\n",
       "      <td>450</td>\n",
       "      <td>451</td>\n",
       "      <td>451</td>\n",
       "    </tr>\n",
       "    <tr>\n",
       "      <th>unique</th>\n",
       "      <td>NaN</td>\n",
       "      <td>449</td>\n",
       "      <td>125</td>\n",
       "      <td>9</td>\n",
       "      <td>125</td>\n",
       "      <td>449</td>\n",
       "      <td>114</td>\n",
       "      <td>440</td>\n",
       "      <td>13</td>\n",
       "      <td>124</td>\n",
       "      <td>11</td>\n",
       "      <td>12</td>\n",
       "    </tr>\n",
       "    <tr>\n",
       "      <th>top</th>\n",
       "      <td>NaN</td>\n",
       "      <td>NULL</td>\n",
       "      <td>53.46506</td>\n",
       "      <td>NULL</td>\n",
       "      <td>Chapletown</td>\n",
       "      <td>NULL</td>\n",
       "      <td>20</td>\n",
       "      <td>2004-01-23</td>\n",
       "      <td>Local</td>\n",
       "      <td>-1.47217</td>\n",
       "      <td>GB</td>\n",
       "      <td>Europe</td>\n",
       "    </tr>\n",
       "    <tr>\n",
       "      <th>freq</th>\n",
       "      <td>NaN</td>\n",
       "      <td>3</td>\n",
       "      <td>14</td>\n",
       "      <td>3</td>\n",
       "      <td>14</td>\n",
       "      <td>3</td>\n",
       "      <td>18</td>\n",
       "      <td>3</td>\n",
       "      <td>255</td>\n",
       "      <td>14</td>\n",
       "      <td>266</td>\n",
       "      <td>383</td>\n",
       "    </tr>\n",
       "    <tr>\n",
       "      <th>mean</th>\n",
       "      <td>225.000000</td>\n",
       "      <td>NaN</td>\n",
       "      <td>NaN</td>\n",
       "      <td>NaN</td>\n",
       "      <td>NaN</td>\n",
       "      <td>NaN</td>\n",
       "      <td>NaN</td>\n",
       "      <td>NaN</td>\n",
       "      <td>NaN</td>\n",
       "      <td>NaN</td>\n",
       "      <td>NaN</td>\n",
       "      <td>NaN</td>\n",
       "    </tr>\n",
       "    <tr>\n",
       "      <th>std</th>\n",
       "      <td>130.336743</td>\n",
       "      <td>NaN</td>\n",
       "      <td>NaN</td>\n",
       "      <td>NaN</td>\n",
       "      <td>NaN</td>\n",
       "      <td>NaN</td>\n",
       "      <td>NaN</td>\n",
       "      <td>NaN</td>\n",
       "      <td>NaN</td>\n",
       "      <td>NaN</td>\n",
       "      <td>NaN</td>\n",
       "      <td>NaN</td>\n",
       "    </tr>\n",
       "    <tr>\n",
       "      <th>min</th>\n",
       "      <td>0.000000</td>\n",
       "      <td>NaN</td>\n",
       "      <td>NaN</td>\n",
       "      <td>NaN</td>\n",
       "      <td>NaN</td>\n",
       "      <td>NaN</td>\n",
       "      <td>NaN</td>\n",
       "      <td>NaN</td>\n",
       "      <td>NaN</td>\n",
       "      <td>NaN</td>\n",
       "      <td>NaN</td>\n",
       "      <td>NaN</td>\n",
       "    </tr>\n",
       "    <tr>\n",
       "      <th>25%</th>\n",
       "      <td>112.500000</td>\n",
       "      <td>NaN</td>\n",
       "      <td>NaN</td>\n",
       "      <td>NaN</td>\n",
       "      <td>NaN</td>\n",
       "      <td>NaN</td>\n",
       "      <td>NaN</td>\n",
       "      <td>NaN</td>\n",
       "      <td>NaN</td>\n",
       "      <td>NaN</td>\n",
       "      <td>NaN</td>\n",
       "      <td>NaN</td>\n",
       "    </tr>\n",
       "    <tr>\n",
       "      <th>50%</th>\n",
       "      <td>225.000000</td>\n",
       "      <td>NaN</td>\n",
       "      <td>NaN</td>\n",
       "      <td>NaN</td>\n",
       "      <td>NaN</td>\n",
       "      <td>NaN</td>\n",
       "      <td>NaN</td>\n",
       "      <td>NaN</td>\n",
       "      <td>NaN</td>\n",
       "      <td>NaN</td>\n",
       "      <td>NaN</td>\n",
       "      <td>NaN</td>\n",
       "    </tr>\n",
       "    <tr>\n",
       "      <th>75%</th>\n",
       "      <td>337.500000</td>\n",
       "      <td>NaN</td>\n",
       "      <td>NaN</td>\n",
       "      <td>NaN</td>\n",
       "      <td>NaN</td>\n",
       "      <td>NaN</td>\n",
       "      <td>NaN</td>\n",
       "      <td>NaN</td>\n",
       "      <td>NaN</td>\n",
       "      <td>NaN</td>\n",
       "      <td>NaN</td>\n",
       "      <td>NaN</td>\n",
       "    </tr>\n",
       "    <tr>\n",
       "      <th>max</th>\n",
       "      <td>450.000000</td>\n",
       "      <td>NaN</td>\n",
       "      <td>NaN</td>\n",
       "      <td>NaN</td>\n",
       "      <td>NaN</td>\n",
       "      <td>NaN</td>\n",
       "      <td>NaN</td>\n",
       "      <td>NaN</td>\n",
       "      <td>NaN</td>\n",
       "      <td>NaN</td>\n",
       "      <td>NaN</td>\n",
       "      <td>NaN</td>\n",
       "    </tr>\n",
       "  </tbody>\n",
       "</table>\n",
       "</div>"
      ],
      "text/plain": [
       "             index address longitude   lat    locality store_code  \\\n",
       "count   451.000000     451       451    11         451        451   \n",
       "unique         NaN     449       125     9         125        449   \n",
       "top            NaN    NULL  53.46506  NULL  Chapletown       NULL   \n",
       "freq           NaN       3        14     3          14          3   \n",
       "mean    225.000000     NaN       NaN   NaN         NaN        NaN   \n",
       "std     130.336743     NaN       NaN   NaN         NaN        NaN   \n",
       "min       0.000000     NaN       NaN   NaN         NaN        NaN   \n",
       "25%     112.500000     NaN       NaN   NaN         NaN        NaN   \n",
       "50%     225.000000     NaN       NaN   NaN         NaN        NaN   \n",
       "75%     337.500000     NaN       NaN   NaN         NaN        NaN   \n",
       "max     450.000000     NaN       NaN   NaN         NaN        NaN   \n",
       "\n",
       "       staff_numbers opening_date store_type  latitude country_code continent  \n",
       "count            451          451        451       450          451       451  \n",
       "unique           114          440         13       124           11        12  \n",
       "top               20   2004-01-23      Local  -1.47217           GB    Europe  \n",
       "freq              18            3        255        14          266       383  \n",
       "mean             NaN          NaN        NaN       NaN          NaN       NaN  \n",
       "std              NaN          NaN        NaN       NaN          NaN       NaN  \n",
       "min              NaN          NaN        NaN       NaN          NaN       NaN  \n",
       "25%              NaN          NaN        NaN       NaN          NaN       NaN  \n",
       "50%              NaN          NaN        NaN       NaN          NaN       NaN  \n",
       "75%              NaN          NaN        NaN       NaN          NaN       NaN  \n",
       "max              NaN          NaN        NaN       NaN          NaN       NaN  "
      ]
     },
     "metadata": {},
     "output_type": "display_data"
    }
   ],
   "source": [
    "# Make a copy of the DataFrame\n",
    "legacy_store_details_df_original = legacy_store_details_df.copy()\n",
    "\n",
    "print(\"Display the DataFrame details:\\n\")\n",
    "print(legacy_store_details_df.info(), \"\\n\")\n",
    "display(legacy_store_details_df.describe(include='all'))"
   ]
  },
  {
   "cell_type": "code",
   "execution_count": 952,
   "metadata": {},
   "outputs": [
    {
     "data": {
      "text/html": [
       "<div>\n",
       "<style scoped>\n",
       "    .dataframe tbody tr th:only-of-type {\n",
       "        vertical-align: middle;\n",
       "    }\n",
       "\n",
       "    .dataframe tbody tr th {\n",
       "        vertical-align: top;\n",
       "    }\n",
       "\n",
       "    .dataframe thead th {\n",
       "        text-align: right;\n",
       "    }\n",
       "</style>\n",
       "<table border=\"1\" class=\"dataframe\">\n",
       "  <thead>\n",
       "    <tr style=\"text-align: right;\">\n",
       "      <th></th>\n",
       "      <th>index</th>\n",
       "    </tr>\n",
       "  </thead>\n",
       "  <tbody>\n",
       "    <tr>\n",
       "      <th>count</th>\n",
       "      <td>451.000000</td>\n",
       "    </tr>\n",
       "    <tr>\n",
       "      <th>mean</th>\n",
       "      <td>225.000000</td>\n",
       "    </tr>\n",
       "    <tr>\n",
       "      <th>std</th>\n",
       "      <td>130.336743</td>\n",
       "    </tr>\n",
       "    <tr>\n",
       "      <th>min</th>\n",
       "      <td>0.000000</td>\n",
       "    </tr>\n",
       "    <tr>\n",
       "      <th>25%</th>\n",
       "      <td>112.500000</td>\n",
       "    </tr>\n",
       "    <tr>\n",
       "      <th>50%</th>\n",
       "      <td>225.000000</td>\n",
       "    </tr>\n",
       "    <tr>\n",
       "      <th>75%</th>\n",
       "      <td>337.500000</td>\n",
       "    </tr>\n",
       "    <tr>\n",
       "      <th>max</th>\n",
       "      <td>450.000000</td>\n",
       "    </tr>\n",
       "  </tbody>\n",
       "</table>\n",
       "</div>"
      ],
      "text/plain": [
       "            index\n",
       "count  451.000000\n",
       "mean   225.000000\n",
       "std    130.336743\n",
       "min      0.000000\n",
       "25%    112.500000\n",
       "50%    225.000000\n",
       "75%    337.500000\n",
       "max    450.000000"
      ]
     },
     "metadata": {},
     "output_type": "display_data"
    }
   ],
   "source": [
    "display(legacy_store_details_df.describe())"
   ]
  },
  {
   "cell_type": "code",
   "execution_count": 953,
   "metadata": {},
   "outputs": [
    {
     "name": "stdout",
     "output_type": "stream",
     "text": [
      "Check how many missing values each column has:\n",
      "\n",
      "     index  address  longitude    lat  locality  store_code  staff_numbers  \\\n",
      "0    False    False      False   True     False       False          False   \n",
      "1    False    False      False   True     False       False          False   \n",
      "2    False    False      False   True     False       False          False   \n",
      "3    False    False      False   True     False       False          False   \n",
      "4    False    False      False   True     False       False          False   \n",
      "..     ...      ...        ...    ...       ...         ...            ...   \n",
      "446  False    False      False   True     False       False          False   \n",
      "447  False    False      False  False     False       False          False   \n",
      "448  False    False      False   True     False       False          False   \n",
      "449  False    False      False   True     False       False          False   \n",
      "450  False    False      False   True     False       False          False   \n",
      "\n",
      "     opening_date  store_type  latitude  country_code  continent  \n",
      "0           False       False     False         False      False  \n",
      "1           False       False     False         False      False  \n",
      "2           False       False     False         False      False  \n",
      "3           False       False     False         False      False  \n",
      "4           False       False     False         False      False  \n",
      "..            ...         ...       ...           ...        ...  \n",
      "446         False       False     False         False      False  \n",
      "447         False       False     False         False      False  \n",
      "448         False       False     False         False      False  \n",
      "449         False       False     False         False      False  \n",
      "450         False       False     False         False      False  \n",
      "\n",
      "[451 rows x 12 columns] \n",
      "\n",
      "Number of missing values in each column:\n",
      "\n"
     ]
    },
    {
     "data": {
      "text/plain": [
       "index              0\n",
       "address            0\n",
       "longitude          0\n",
       "lat              440\n",
       "locality           0\n",
       "store_code         0\n",
       "staff_numbers      0\n",
       "opening_date       0\n",
       "store_type         0\n",
       "latitude           1\n",
       "country_code       0\n",
       "continent          0\n",
       "dtype: int64"
      ]
     },
     "metadata": {},
     "output_type": "display_data"
    }
   ],
   "source": [
    "print(\"Check how many missing values each column has:\\n\")\n",
    "legacy_store_details_df_isnull = legacy_store_details_df.isnull()  # .isna() is the same as .isnull()\n",
    "print(legacy_store_details_df_isnull, \"\\n\")\n",
    "\n",
    "print(\"Number of missing values in each column:\\n\")\n",
    "display(legacy_store_details_df_isnull.sum())"
   ]
  },
  {
   "cell_type": "code",
   "execution_count": 954,
   "metadata": {},
   "outputs": [
    {
     "name": "stdout",
     "output_type": "stream",
     "text": [
      "Percentage of missing values in each column:\n",
      "\n",
      "index             0.000000\n",
      "address           0.000000\n",
      "longitude         0.000000\n",
      "lat              97.560976\n",
      "locality          0.000000\n",
      "store_code        0.000000\n",
      "staff_numbers     0.000000\n",
      "opening_date      0.000000\n",
      "store_type        0.000000\n",
      "latitude          0.221729\n",
      "country_code      0.000000\n",
      "continent         0.000000\n",
      "dtype: float64\n"
     ]
    }
   ],
   "source": [
    "# Check the percentage of nulls in each column\n",
    "missing_percentage_each_column = (legacy_store_details_df.isnull().sum() / legacy_store_details_df.shape[0]) * 100\n",
    "print(\"Percentage of missing values in each column:\\n\")\n",
    "print(missing_percentage_each_column)"
   ]
  },
  {
   "cell_type": "code",
   "execution_count": 955,
   "metadata": {},
   "outputs": [
    {
     "data": {
      "text/plain": [
       "<Axes: >"
      ]
     },
     "execution_count": 955,
     "metadata": {},
     "output_type": "execute_result"
    },
    {
     "data": {
      "image/png": "[encoded data removed]",
      "text/plain": [
       "<Figure size 2500x1000 with 2 Axes>"
      ]
     },
     "metadata": {},
     "output_type": "display_data"
    }
   ],
   "source": [
    "# Visualising Missing Data\n",
    "import missingno as msno\n",
    "\n",
    "msno.matrix(legacy_store_details_df)"
   ]
  },
  {
   "cell_type": "code",
   "execution_count": 956,
   "metadata": {},
   "outputs": [
    {
     "name": "stdout",
     "output_type": "stream",
     "text": [
      "Show the rows where \"lat\" is notnull:\n",
      "\n"
     ]
    },
    {
     "data": {
      "text/html": [
       "<div>\n",
       "<style scoped>\n",
       "    .dataframe tbody tr th:only-of-type {\n",
       "        vertical-align: middle;\n",
       "    }\n",
       "\n",
       "    .dataframe tbody tr th {\n",
       "        vertical-align: top;\n",
       "    }\n",
       "\n",
       "    .dataframe thead th {\n",
       "        text-align: right;\n",
       "    }\n",
       "</style>\n",
       "<table border=\"1\" class=\"dataframe\">\n",
       "  <thead>\n",
       "    <tr style=\"text-align: right;\">\n",
       "      <th></th>\n",
       "      <th>index</th>\n",
       "      <th>address</th>\n",
       "      <th>longitude</th>\n",
       "      <th>lat</th>\n",
       "      <th>locality</th>\n",
       "      <th>store_code</th>\n",
       "      <th>staff_numbers</th>\n",
       "      <th>opening_date</th>\n",
       "      <th>store_type</th>\n",
       "      <th>latitude</th>\n",
       "      <th>country_code</th>\n",
       "      <th>continent</th>\n",
       "    </tr>\n",
       "  </thead>\n",
       "  <tbody>\n",
       "    <tr>\n",
       "      <th>47</th>\n",
       "      <td>0</td>\n",
       "      <td>N/A</td>\n",
       "      <td>N/A</td>\n",
       "      <td>N/A</td>\n",
       "      <td>N/A</td>\n",
       "      <td>WEB-1388012W</td>\n",
       "      <td>325</td>\n",
       "      <td>2010-06-12</td>\n",
       "      <td>Web Portal</td>\n",
       "      <td>None</td>\n",
       "      <td>GB</td>\n",
       "      <td>Europe</td>\n",
       "    </tr>\n",
       "    <tr>\n",
       "      <th>63</th>\n",
       "      <td>63</td>\n",
       "      <td>6FWDZHD7PW</td>\n",
       "      <td>1ZVU03X2P6</td>\n",
       "      <td>13KJZ890JH</td>\n",
       "      <td>9IBH8Y4Z0S</td>\n",
       "      <td>NRQKZWJ9OZ</td>\n",
       "      <td>BIP8K8JJW2</td>\n",
       "      <td>ZCXWWKF45G</td>\n",
       "      <td>QP74AHEQT0</td>\n",
       "      <td>1CJ5OAU4BR</td>\n",
       "      <td>YELVM536YT</td>\n",
       "      <td>QMAVR5H3LD</td>\n",
       "    </tr>\n",
       "    <tr>\n",
       "      <th>172</th>\n",
       "      <td>172</td>\n",
       "      <td>UBCIFQLSNY</td>\n",
       "      <td>Q1TJY8H1ZH</td>\n",
       "      <td>2XE1OWOC23</td>\n",
       "      <td>1T6B406CI8</td>\n",
       "      <td>QIUU9SVP51</td>\n",
       "      <td>SKBXAXF5G5</td>\n",
       "      <td>7AHXLXIUEF</td>\n",
       "      <td>O0QJIRC943</td>\n",
       "      <td>3ZR3F89D97</td>\n",
       "      <td>FP8DLXQVGH</td>\n",
       "      <td>LU3E036ZD9</td>\n",
       "    </tr>\n",
       "    <tr>\n",
       "      <th>217</th>\n",
       "      <td>217</td>\n",
       "      <td>NULL</td>\n",
       "      <td>NULL</td>\n",
       "      <td>NULL</td>\n",
       "      <td>NULL</td>\n",
       "      <td>NULL</td>\n",
       "      <td>NULL</td>\n",
       "      <td>NULL</td>\n",
       "      <td>NULL</td>\n",
       "      <td>NULL</td>\n",
       "      <td>NULL</td>\n",
       "      <td>NULL</td>\n",
       "    </tr>\n",
       "    <tr>\n",
       "      <th>231</th>\n",
       "      <td>231</td>\n",
       "      <td>RC99UKMZB2</td>\n",
       "      <td>2YBZ1440V6</td>\n",
       "      <td>OXVE5QR07O</td>\n",
       "      <td>6LVWPU1G64</td>\n",
       "      <td>Y8J0Z2W8O9</td>\n",
       "      <td>2429OB3LMM</td>\n",
       "      <td>0OLAK2I6NS</td>\n",
       "      <td>50IB01SFAZ</td>\n",
       "      <td>L13EQEQODP</td>\n",
       "      <td>HMHIFNLOBN</td>\n",
       "      <td>5586JCLARW</td>\n",
       "    </tr>\n",
       "    <tr>\n",
       "      <th>333</th>\n",
       "      <td>333</td>\n",
       "      <td>X349GIDWKU</td>\n",
       "      <td>O7NF1FZ74Y</td>\n",
       "      <td>VKA5I8H32X</td>\n",
       "      <td>RX9TCP2RGB</td>\n",
       "      <td>ISEE8A57FE</td>\n",
       "      <td>74BY7HSB6P</td>\n",
       "      <td>A3PMVM800J</td>\n",
       "      <td>0RSNUU3DF5</td>\n",
       "      <td>J3BPB68Z1J</td>\n",
       "      <td>F3AO8V2LHU</td>\n",
       "      <td>GFJQ2AAEQ8</td>\n",
       "    </tr>\n",
       "    <tr>\n",
       "      <th>381</th>\n",
       "      <td>381</td>\n",
       "      <td>ZBGB54ID4H</td>\n",
       "      <td>SKO4NMRNNF</td>\n",
       "      <td>LACCWDI0SB</td>\n",
       "      <td>CQMHKI78BX</td>\n",
       "      <td>T0R2CQBDUS</td>\n",
       "      <td>GT1FO6YGD4</td>\n",
       "      <td>GMMB02LA9V</td>\n",
       "      <td>B4KVQB3P5Y</td>\n",
       "      <td>AJHOMDOHZ4</td>\n",
       "      <td>OH20I92LX3</td>\n",
       "      <td>SLQBD982C0</td>\n",
       "    </tr>\n",
       "    <tr>\n",
       "      <th>405</th>\n",
       "      <td>405</td>\n",
       "      <td>NULL</td>\n",
       "      <td>NULL</td>\n",
       "      <td>NULL</td>\n",
       "      <td>NULL</td>\n",
       "      <td>NULL</td>\n",
       "      <td>NULL</td>\n",
       "      <td>NULL</td>\n",
       "      <td>NULL</td>\n",
       "      <td>NULL</td>\n",
       "      <td>NULL</td>\n",
       "      <td>NULL</td>\n",
       "    </tr>\n",
       "    <tr>\n",
       "      <th>414</th>\n",
       "      <td>414</td>\n",
       "      <td>XTUAV57DP4</td>\n",
       "      <td>ID819KG3X5</td>\n",
       "      <td>A3O5CBWAMD</td>\n",
       "      <td>RY6K0AUE7F</td>\n",
       "      <td>TUOKF5HAAQ</td>\n",
       "      <td>FRTGHAA34B</td>\n",
       "      <td>13PIY8GD1H</td>\n",
       "      <td>X0FE7E2EOG</td>\n",
       "      <td>AE7EEW4HSS</td>\n",
       "      <td>OYVW925ZL8</td>\n",
       "      <td>XQ953VS0FG</td>\n",
       "    </tr>\n",
       "    <tr>\n",
       "      <th>437</th>\n",
       "      <td>437</td>\n",
       "      <td>NULL</td>\n",
       "      <td>NULL</td>\n",
       "      <td>NULL</td>\n",
       "      <td>NULL</td>\n",
       "      <td>NULL</td>\n",
       "      <td>NULL</td>\n",
       "      <td>NULL</td>\n",
       "      <td>NULL</td>\n",
       "      <td>NULL</td>\n",
       "      <td>NULL</td>\n",
       "      <td>NULL</td>\n",
       "    </tr>\n",
       "    <tr>\n",
       "      <th>447</th>\n",
       "      <td>447</td>\n",
       "      <td>K0ODETRLS3</td>\n",
       "      <td>K8CXLZDP07</td>\n",
       "      <td>UXMWDMX1LC</td>\n",
       "      <td>3VHFDNP8ET</td>\n",
       "      <td>9D4LK7X4LZ</td>\n",
       "      <td>D23PCWSM6S</td>\n",
       "      <td>36IIMAQD58</td>\n",
       "      <td>NN04B3F6UQ</td>\n",
       "      <td>JZP8MIJTPZ</td>\n",
       "      <td>B3EH2ZGQAV</td>\n",
       "      <td>1WZB1TE1HL</td>\n",
       "    </tr>\n",
       "  </tbody>\n",
       "</table>\n",
       "</div>"
      ],
      "text/plain": [
       "     index     address   longitude         lat    locality    store_code  \\\n",
       "47       0         N/A         N/A         N/A         N/A  WEB-1388012W   \n",
       "63      63  6FWDZHD7PW  1ZVU03X2P6  13KJZ890JH  9IBH8Y4Z0S    NRQKZWJ9OZ   \n",
       "172    172  UBCIFQLSNY  Q1TJY8H1ZH  2XE1OWOC23  1T6B406CI8    QIUU9SVP51   \n",
       "217    217        NULL        NULL        NULL        NULL          NULL   \n",
       "231    231  RC99UKMZB2  2YBZ1440V6  OXVE5QR07O  6LVWPU1G64    Y8J0Z2W8O9   \n",
       "333    333  X349GIDWKU  O7NF1FZ74Y  VKA5I8H32X  RX9TCP2RGB    ISEE8A57FE   \n",
       "381    381  ZBGB54ID4H  SKO4NMRNNF  LACCWDI0SB  CQMHKI78BX    T0R2CQBDUS   \n",
       "405    405        NULL        NULL        NULL        NULL          NULL   \n",
       "414    414  XTUAV57DP4  ID819KG3X5  A3O5CBWAMD  RY6K0AUE7F    TUOKF5HAAQ   \n",
       "437    437        NULL        NULL        NULL        NULL          NULL   \n",
       "447    447  K0ODETRLS3  K8CXLZDP07  UXMWDMX1LC  3VHFDNP8ET    9D4LK7X4LZ   \n",
       "\n",
       "    staff_numbers opening_date  store_type    latitude country_code  \\\n",
       "47            325   2010-06-12  Web Portal        None           GB   \n",
       "63     BIP8K8JJW2   ZCXWWKF45G  QP74AHEQT0  1CJ5OAU4BR   YELVM536YT   \n",
       "172    SKBXAXF5G5   7AHXLXIUEF  O0QJIRC943  3ZR3F89D97   FP8DLXQVGH   \n",
       "217          NULL         NULL        NULL        NULL         NULL   \n",
       "231    2429OB3LMM   0OLAK2I6NS  50IB01SFAZ  L13EQEQODP   HMHIFNLOBN   \n",
       "333    74BY7HSB6P   A3PMVM800J  0RSNUU3DF5  J3BPB68Z1J   F3AO8V2LHU   \n",
       "381    GT1FO6YGD4   GMMB02LA9V  B4KVQB3P5Y  AJHOMDOHZ4   OH20I92LX3   \n",
       "405          NULL         NULL        NULL        NULL         NULL   \n",
       "414    FRTGHAA34B   13PIY8GD1H  X0FE7E2EOG  AE7EEW4HSS   OYVW925ZL8   \n",
       "437          NULL         NULL        NULL        NULL         NULL   \n",
       "447    D23PCWSM6S   36IIMAQD58  NN04B3F6UQ  JZP8MIJTPZ   B3EH2ZGQAV   \n",
       "\n",
       "      continent  \n",
       "47       Europe  \n",
       "63   QMAVR5H3LD  \n",
       "172  LU3E036ZD9  \n",
       "217        NULL  \n",
       "231  5586JCLARW  \n",
       "333  GFJQ2AAEQ8  \n",
       "381  SLQBD982C0  \n",
       "405        NULL  \n",
       "414  XQ953VS0FG  \n",
       "437        NULL  \n",
       "447  1WZB1TE1HL  "
      ]
     },
     "metadata": {},
     "output_type": "display_data"
    },
    {
     "name": "stdout",
     "output_type": "stream",
     "text": [
      "<class 'pandas.core.frame.DataFrame'>\n",
      "Index: 11 entries, 47 to 447\n",
      "Data columns (total 12 columns):\n",
      " #   Column         Non-Null Count  Dtype \n",
      "---  ------         --------------  ----- \n",
      " 0   index          11 non-null     int64 \n",
      " 1   address        11 non-null     object\n",
      " 2   longitude      11 non-null     object\n",
      " 3   lat            11 non-null     object\n",
      " 4   locality       11 non-null     object\n",
      " 5   store_code     11 non-null     object\n",
      " 6   staff_numbers  11 non-null     object\n",
      " 7   opening_date   11 non-null     object\n",
      " 8   store_type     11 non-null     object\n",
      " 9   latitude       10 non-null     object\n",
      " 10  country_code   11 non-null     object\n",
      " 11  continent      11 non-null     object\n",
      "dtypes: int64(1), object(11)\n",
      "memory usage: 1.1+ KB\n"
     ]
    },
    {
     "data": {
      "text/plain": [
       "None"
      ]
     },
     "metadata": {},
     "output_type": "display_data"
    },
    {
     "name": "stdout",
     "output_type": "stream",
     "text": [
      "The above show rows where data was found in the \"lat\" column. It can be seen the rows do not have useful data and the rows are to be removed.\n",
      "\n"
     ]
    }
   ],
   "source": [
    "import pandas as pd\n",
    "\n",
    "# Show the rows where \"lat\" is notnull\n",
    "print(\"Show the rows where \\\"lat\\\" is notnull:\\n\")\n",
    "legacy_store_details_df_lat_notnull = legacy_store_details_df[legacy_store_details_df[\"lat\"].notnull()]\n",
    "display(legacy_store_details_df_lat_notnull)\n",
    "\n",
    "# Display information about the DataFrame\n",
    "display(legacy_store_details_df_lat_notnull.info())\n",
    "\n",
    "print(\"The above show rows where data was found in the \\\"lat\\\" column. It can be seen the rows do not have useful data and the rows are to be removed.\\n\")"
   ]
  },
  {
   "cell_type": "code",
   "execution_count": 957,
   "metadata": {},
   "outputs": [
    {
     "name": "stdout",
     "output_type": "stream",
     "text": [
      "Filtered DataFrame with rows removed:\n",
      "\n"
     ]
    },
    {
     "data": {
      "text/html": [
       "<div>\n",
       "<style scoped>\n",
       "    .dataframe tbody tr th:only-of-type {\n",
       "        vertical-align: middle;\n",
       "    }\n",
       "\n",
       "    .dataframe tbody tr th {\n",
       "        vertical-align: top;\n",
       "    }\n",
       "\n",
       "    .dataframe thead th {\n",
       "        text-align: right;\n",
       "    }\n",
       "</style>\n",
       "<table border=\"1\" class=\"dataframe\">\n",
       "  <thead>\n",
       "    <tr style=\"text-align: right;\">\n",
       "      <th></th>\n",
       "      <th>index</th>\n",
       "      <th>address</th>\n",
       "      <th>longitude</th>\n",
       "      <th>lat</th>\n",
       "      <th>locality</th>\n",
       "      <th>store_code</th>\n",
       "      <th>staff_numbers</th>\n",
       "      <th>opening_date</th>\n",
       "      <th>store_type</th>\n",
       "      <th>latitude</th>\n",
       "      <th>country_code</th>\n",
       "      <th>continent</th>\n",
       "    </tr>\n",
       "  </thead>\n",
       "  <tbody>\n",
       "    <tr>\n",
       "      <th>0</th>\n",
       "      <td>1</td>\n",
       "      <td>Flat 72W\\nSally isle\\nEast Deantown\\nE7B 8EB, ...</td>\n",
       "      <td>51.62907</td>\n",
       "      <td>None</td>\n",
       "      <td>High Wycombe</td>\n",
       "      <td>HI-9B97EE4E</td>\n",
       "      <td>34</td>\n",
       "      <td>1996-10-25</td>\n",
       "      <td>Local</td>\n",
       "      <td>-0.74934</td>\n",
       "      <td>GB</td>\n",
       "      <td>Europe</td>\n",
       "    </tr>\n",
       "    <tr>\n",
       "      <th>1</th>\n",
       "      <td>2</td>\n",
       "      <td>Heckerstraße 4/5\\n50491 Säckingen, Landshut</td>\n",
       "      <td>48.52961</td>\n",
       "      <td>None</td>\n",
       "      <td>Landshut</td>\n",
       "      <td>LA-0772C7B9</td>\n",
       "      <td>92</td>\n",
       "      <td>2013-04-12</td>\n",
       "      <td>Super Store</td>\n",
       "      <td>12.16179</td>\n",
       "      <td>DE</td>\n",
       "      <td>Europe</td>\n",
       "    </tr>\n",
       "    <tr>\n",
       "      <th>2</th>\n",
       "      <td>3</td>\n",
       "      <td>5 Harrison tunnel\\nSouth Lydia\\nWC9 2BE, Westbury</td>\n",
       "      <td>51.26</td>\n",
       "      <td>None</td>\n",
       "      <td>Westbury</td>\n",
       "      <td>WE-1DE82CEE</td>\n",
       "      <td>69</td>\n",
       "      <td>2014-01-02</td>\n",
       "      <td>Super Store</td>\n",
       "      <td>-2.1875</td>\n",
       "      <td>GB</td>\n",
       "      <td>Europe</td>\n",
       "    </tr>\n",
       "    <tr>\n",
       "      <th>3</th>\n",
       "      <td>4</td>\n",
       "      <td>Studio 6\\nStephen landing\\nSouth Simon\\nB77 2W...</td>\n",
       "      <td>53.0233</td>\n",
       "      <td>None</td>\n",
       "      <td>Belper</td>\n",
       "      <td>BE-18074576</td>\n",
       "      <td>35</td>\n",
       "      <td>2019-09-09</td>\n",
       "      <td>Local</td>\n",
       "      <td>-1.48119</td>\n",
       "      <td>GB</td>\n",
       "      <td>Europe</td>\n",
       "    </tr>\n",
       "    <tr>\n",
       "      <th>4</th>\n",
       "      <td>5</td>\n",
       "      <td>Flat 92u\\nChristian harbors\\nPort Charlotte\\nN...</td>\n",
       "      <td>53.38333</td>\n",
       "      <td>None</td>\n",
       "      <td>Gainsborough</td>\n",
       "      <td>GA-CAD01AC2</td>\n",
       "      <td>36</td>\n",
       "      <td>1995-05-15</td>\n",
       "      <td>Local</td>\n",
       "      <td>-0.76667</td>\n",
       "      <td>GB</td>\n",
       "      <td>Europe</td>\n",
       "    </tr>\n",
       "    <tr>\n",
       "      <th>...</th>\n",
       "      <td>...</td>\n",
       "      <td>...</td>\n",
       "      <td>...</td>\n",
       "      <td>...</td>\n",
       "      <td>...</td>\n",
       "      <td>...</td>\n",
       "      <td>...</td>\n",
       "      <td>...</td>\n",
       "      <td>...</td>\n",
       "      <td>...</td>\n",
       "      <td>...</td>\n",
       "      <td>...</td>\n",
       "    </tr>\n",
       "    <tr>\n",
       "      <th>445</th>\n",
       "      <td>445</td>\n",
       "      <td>Flat 7\\nStephanie lake\\nMorrisside\\nHP8 8LH, C...</td>\n",
       "      <td>50.76306</td>\n",
       "      <td>None</td>\n",
       "      <td>Cowes</td>\n",
       "      <td>CO-473A9FBB</td>\n",
       "      <td>94</td>\n",
       "      <td>2008-06-08</td>\n",
       "      <td>Super Store</td>\n",
       "      <td>-1.29772</td>\n",
       "      <td>GB</td>\n",
       "      <td>Europe</td>\n",
       "    </tr>\n",
       "    <tr>\n",
       "      <th>446</th>\n",
       "      <td>446</td>\n",
       "      <td>Täschestraße 25\\n39039 Nördlingen, Kirchlengern</td>\n",
       "      <td>52.2</td>\n",
       "      <td>None</td>\n",
       "      <td>Kirchlengern</td>\n",
       "      <td>KI-78096E8C</td>\n",
       "      <td>61</td>\n",
       "      <td>2005-05-12</td>\n",
       "      <td>Super Store</td>\n",
       "      <td>8.63333</td>\n",
       "      <td>DE</td>\n",
       "      <td>Europe</td>\n",
       "    </tr>\n",
       "    <tr>\n",
       "      <th>448</th>\n",
       "      <td>448</td>\n",
       "      <td>Studio 8\\nMoss mall\\nWest Linda\\nM0E 6XR, High...</td>\n",
       "      <td>51.62907</td>\n",
       "      <td>None</td>\n",
       "      <td>High Wycombe</td>\n",
       "      <td>HI-EEA7AE62</td>\n",
       "      <td>33</td>\n",
       "      <td>1998-05-14</td>\n",
       "      <td>Local</td>\n",
       "      <td>-0.74934</td>\n",
       "      <td>GB</td>\n",
       "      <td>Europe</td>\n",
       "    </tr>\n",
       "    <tr>\n",
       "      <th>449</th>\n",
       "      <td>449</td>\n",
       "      <td>Baumplatz 6\\n80114 Kötzting, Bretten</td>\n",
       "      <td>49.03685</td>\n",
       "      <td>None</td>\n",
       "      <td>Bretten</td>\n",
       "      <td>BR-662EC74C</td>\n",
       "      <td>35</td>\n",
       "      <td>2020-10-17</td>\n",
       "      <td>Local</td>\n",
       "      <td>8.70745</td>\n",
       "      <td>DE</td>\n",
       "      <td>Europe</td>\n",
       "    </tr>\n",
       "    <tr>\n",
       "      <th>450</th>\n",
       "      <td>450</td>\n",
       "      <td>Gotthilf-Rose-Straße 7/3\\n45457 Feuchtwangen, ...</td>\n",
       "      <td>50.64336</td>\n",
       "      <td>None</td>\n",
       "      <td>Bad Honnef</td>\n",
       "      <td>BA-B4AED588</td>\n",
       "      <td>36</td>\n",
       "      <td>2001-05-12</td>\n",
       "      <td>Local</td>\n",
       "      <td>7.2278</td>\n",
       "      <td>DE</td>\n",
       "      <td>eeEurope</td>\n",
       "    </tr>\n",
       "  </tbody>\n",
       "</table>\n",
       "<p>440 rows × 12 columns</p>\n",
       "</div>"
      ],
      "text/plain": [
       "     index                                            address longitude   lat  \\\n",
       "0        1  Flat 72W\\nSally isle\\nEast Deantown\\nE7B 8EB, ...  51.62907  None   \n",
       "1        2        Heckerstraße 4/5\\n50491 Säckingen, Landshut  48.52961  None   \n",
       "2        3  5 Harrison tunnel\\nSouth Lydia\\nWC9 2BE, Westbury     51.26  None   \n",
       "3        4  Studio 6\\nStephen landing\\nSouth Simon\\nB77 2W...   53.0233  None   \n",
       "4        5  Flat 92u\\nChristian harbors\\nPort Charlotte\\nN...  53.38333  None   \n",
       "..     ...                                                ...       ...   ...   \n",
       "445    445  Flat 7\\nStephanie lake\\nMorrisside\\nHP8 8LH, C...  50.76306  None   \n",
       "446    446    Täschestraße 25\\n39039 Nördlingen, Kirchlengern      52.2  None   \n",
       "448    448  Studio 8\\nMoss mall\\nWest Linda\\nM0E 6XR, High...  51.62907  None   \n",
       "449    449               Baumplatz 6\\n80114 Kötzting, Bretten  49.03685  None   \n",
       "450    450  Gotthilf-Rose-Straße 7/3\\n45457 Feuchtwangen, ...  50.64336  None   \n",
       "\n",
       "         locality   store_code staff_numbers opening_date   store_type  \\\n",
       "0    High Wycombe  HI-9B97EE4E            34   1996-10-25        Local   \n",
       "1        Landshut  LA-0772C7B9            92   2013-04-12  Super Store   \n",
       "2        Westbury  WE-1DE82CEE            69   2014-01-02  Super Store   \n",
       "3          Belper  BE-18074576            35   2019-09-09        Local   \n",
       "4    Gainsborough  GA-CAD01AC2            36   1995-05-15        Local   \n",
       "..            ...          ...           ...          ...          ...   \n",
       "445         Cowes  CO-473A9FBB            94   2008-06-08  Super Store   \n",
       "446  Kirchlengern  KI-78096E8C            61   2005-05-12  Super Store   \n",
       "448  High Wycombe  HI-EEA7AE62            33   1998-05-14        Local   \n",
       "449       Bretten  BR-662EC74C            35   2020-10-17        Local   \n",
       "450    Bad Honnef  BA-B4AED588            36   2001-05-12        Local   \n",
       "\n",
       "     latitude country_code continent  \n",
       "0    -0.74934           GB    Europe  \n",
       "1    12.16179           DE    Europe  \n",
       "2     -2.1875           GB    Europe  \n",
       "3    -1.48119           GB    Europe  \n",
       "4    -0.76667           GB    Europe  \n",
       "..        ...          ...       ...  \n",
       "445  -1.29772           GB    Europe  \n",
       "446   8.63333           DE    Europe  \n",
       "448  -0.74934           GB    Europe  \n",
       "449   8.70745           DE    Europe  \n",
       "450    7.2278           DE  eeEurope  \n",
       "\n",
       "[440 rows x 12 columns]"
      ]
     },
     "metadata": {},
     "output_type": "display_data"
    }
   ],
   "source": [
    "# Get the indices of rows to be removed\n",
    "rows_to_remove_indices = legacy_store_details_df_lat_notnull.index\n",
    "\n",
    "# Drop the rows from the original DataFrame\n",
    "legacy_store_details_df_filtered = legacy_store_details_df.drop(index=rows_to_remove_indices)\n",
    "\n",
    "# Display the filtered DataFrame\n",
    "print(\"Filtered DataFrame with rows removed:\\n\")\n",
    "display(legacy_store_details_df_filtered)\n"
   ]
  },
  {
   "cell_type": "code",
   "execution_count": 958,
   "metadata": {},
   "outputs": [
    {
     "data": {
      "text/plain": [
       "<Axes: >"
      ]
     },
     "execution_count": 958,
     "metadata": {},
     "output_type": "execute_result"
    },
    {
     "data": {
      "image/png": "[encoded data removed]",
      "text/plain": [
       "<Figure size 2500x1000 with 2 Axes>"
      ]
     },
     "metadata": {},
     "output_type": "display_data"
    }
   ],
   "source": [
    "# Visualising Missing Data\n",
    "import missingno as msno\n",
    "\n",
    "msno.matrix(legacy_store_details_df_filtered)"
   ]
  },
  {
   "cell_type": "code",
   "execution_count": 959,
   "metadata": {},
   "outputs": [
    {
     "name": "stdout",
     "output_type": "stream",
     "text": [
      "DataFrame after dropping 'lat' column:\n",
      "\n"
     ]
    },
    {
     "data": {
      "text/html": [
       "<div>\n",
       "<style scoped>\n",
       "    .dataframe tbody tr th:only-of-type {\n",
       "        vertical-align: middle;\n",
       "    }\n",
       "\n",
       "    .dataframe tbody tr th {\n",
       "        vertical-align: top;\n",
       "    }\n",
       "\n",
       "    .dataframe thead th {\n",
       "        text-align: right;\n",
       "    }\n",
       "</style>\n",
       "<table border=\"1\" class=\"dataframe\">\n",
       "  <thead>\n",
       "    <tr style=\"text-align: right;\">\n",
       "      <th></th>\n",
       "      <th>index</th>\n",
       "      <th>address</th>\n",
       "      <th>longitude</th>\n",
       "      <th>locality</th>\n",
       "      <th>store_code</th>\n",
       "      <th>staff_numbers</th>\n",
       "      <th>opening_date</th>\n",
       "      <th>store_type</th>\n",
       "      <th>latitude</th>\n",
       "      <th>country_code</th>\n",
       "      <th>continent</th>\n",
       "    </tr>\n",
       "  </thead>\n",
       "  <tbody>\n",
       "    <tr>\n",
       "      <th>0</th>\n",
       "      <td>1</td>\n",
       "      <td>Flat 72W\\nSally isle\\nEast Deantown\\nE7B 8EB, ...</td>\n",
       "      <td>51.62907</td>\n",
       "      <td>High Wycombe</td>\n",
       "      <td>HI-9B97EE4E</td>\n",
       "      <td>34</td>\n",
       "      <td>1996-10-25</td>\n",
       "      <td>Local</td>\n",
       "      <td>-0.74934</td>\n",
       "      <td>GB</td>\n",
       "      <td>Europe</td>\n",
       "    </tr>\n",
       "    <tr>\n",
       "      <th>1</th>\n",
       "      <td>2</td>\n",
       "      <td>Heckerstraße 4/5\\n50491 Säckingen, Landshut</td>\n",
       "      <td>48.52961</td>\n",
       "      <td>Landshut</td>\n",
       "      <td>LA-0772C7B9</td>\n",
       "      <td>92</td>\n",
       "      <td>2013-04-12</td>\n",
       "      <td>Super Store</td>\n",
       "      <td>12.16179</td>\n",
       "      <td>DE</td>\n",
       "      <td>Europe</td>\n",
       "    </tr>\n",
       "    <tr>\n",
       "      <th>2</th>\n",
       "      <td>3</td>\n",
       "      <td>5 Harrison tunnel\\nSouth Lydia\\nWC9 2BE, Westbury</td>\n",
       "      <td>51.26</td>\n",
       "      <td>Westbury</td>\n",
       "      <td>WE-1DE82CEE</td>\n",
       "      <td>69</td>\n",
       "      <td>2014-01-02</td>\n",
       "      <td>Super Store</td>\n",
       "      <td>-2.1875</td>\n",
       "      <td>GB</td>\n",
       "      <td>Europe</td>\n",
       "    </tr>\n",
       "    <tr>\n",
       "      <th>3</th>\n",
       "      <td>4</td>\n",
       "      <td>Studio 6\\nStephen landing\\nSouth Simon\\nB77 2W...</td>\n",
       "      <td>53.0233</td>\n",
       "      <td>Belper</td>\n",
       "      <td>BE-18074576</td>\n",
       "      <td>35</td>\n",
       "      <td>2019-09-09</td>\n",
       "      <td>Local</td>\n",
       "      <td>-1.48119</td>\n",
       "      <td>GB</td>\n",
       "      <td>Europe</td>\n",
       "    </tr>\n",
       "    <tr>\n",
       "      <th>4</th>\n",
       "      <td>5</td>\n",
       "      <td>Flat 92u\\nChristian harbors\\nPort Charlotte\\nN...</td>\n",
       "      <td>53.38333</td>\n",
       "      <td>Gainsborough</td>\n",
       "      <td>GA-CAD01AC2</td>\n",
       "      <td>36</td>\n",
       "      <td>1995-05-15</td>\n",
       "      <td>Local</td>\n",
       "      <td>-0.76667</td>\n",
       "      <td>GB</td>\n",
       "      <td>Europe</td>\n",
       "    </tr>\n",
       "    <tr>\n",
       "      <th>...</th>\n",
       "      <td>...</td>\n",
       "      <td>...</td>\n",
       "      <td>...</td>\n",
       "      <td>...</td>\n",
       "      <td>...</td>\n",
       "      <td>...</td>\n",
       "      <td>...</td>\n",
       "      <td>...</td>\n",
       "      <td>...</td>\n",
       "      <td>...</td>\n",
       "      <td>...</td>\n",
       "    </tr>\n",
       "    <tr>\n",
       "      <th>445</th>\n",
       "      <td>445</td>\n",
       "      <td>Flat 7\\nStephanie lake\\nMorrisside\\nHP8 8LH, C...</td>\n",
       "      <td>50.76306</td>\n",
       "      <td>Cowes</td>\n",
       "      <td>CO-473A9FBB</td>\n",
       "      <td>94</td>\n",
       "      <td>2008-06-08</td>\n",
       "      <td>Super Store</td>\n",
       "      <td>-1.29772</td>\n",
       "      <td>GB</td>\n",
       "      <td>Europe</td>\n",
       "    </tr>\n",
       "    <tr>\n",
       "      <th>446</th>\n",
       "      <td>446</td>\n",
       "      <td>Täschestraße 25\\n39039 Nördlingen, Kirchlengern</td>\n",
       "      <td>52.2</td>\n",
       "      <td>Kirchlengern</td>\n",
       "      <td>KI-78096E8C</td>\n",
       "      <td>61</td>\n",
       "      <td>2005-05-12</td>\n",
       "      <td>Super Store</td>\n",
       "      <td>8.63333</td>\n",
       "      <td>DE</td>\n",
       "      <td>Europe</td>\n",
       "    </tr>\n",
       "    <tr>\n",
       "      <th>448</th>\n",
       "      <td>448</td>\n",
       "      <td>Studio 8\\nMoss mall\\nWest Linda\\nM0E 6XR, High...</td>\n",
       "      <td>51.62907</td>\n",
       "      <td>High Wycombe</td>\n",
       "      <td>HI-EEA7AE62</td>\n",
       "      <td>33</td>\n",
       "      <td>1998-05-14</td>\n",
       "      <td>Local</td>\n",
       "      <td>-0.74934</td>\n",
       "      <td>GB</td>\n",
       "      <td>Europe</td>\n",
       "    </tr>\n",
       "    <tr>\n",
       "      <th>449</th>\n",
       "      <td>449</td>\n",
       "      <td>Baumplatz 6\\n80114 Kötzting, Bretten</td>\n",
       "      <td>49.03685</td>\n",
       "      <td>Bretten</td>\n",
       "      <td>BR-662EC74C</td>\n",
       "      <td>35</td>\n",
       "      <td>2020-10-17</td>\n",
       "      <td>Local</td>\n",
       "      <td>8.70745</td>\n",
       "      <td>DE</td>\n",
       "      <td>Europe</td>\n",
       "    </tr>\n",
       "    <tr>\n",
       "      <th>450</th>\n",
       "      <td>450</td>\n",
       "      <td>Gotthilf-Rose-Straße 7/3\\n45457 Feuchtwangen, ...</td>\n",
       "      <td>50.64336</td>\n",
       "      <td>Bad Honnef</td>\n",
       "      <td>BA-B4AED588</td>\n",
       "      <td>36</td>\n",
       "      <td>2001-05-12</td>\n",
       "      <td>Local</td>\n",
       "      <td>7.2278</td>\n",
       "      <td>DE</td>\n",
       "      <td>eeEurope</td>\n",
       "    </tr>\n",
       "  </tbody>\n",
       "</table>\n",
       "<p>440 rows × 11 columns</p>\n",
       "</div>"
      ],
      "text/plain": [
       "     index                                            address longitude  \\\n",
       "0        1  Flat 72W\\nSally isle\\nEast Deantown\\nE7B 8EB, ...  51.62907   \n",
       "1        2        Heckerstraße 4/5\\n50491 Säckingen, Landshut  48.52961   \n",
       "2        3  5 Harrison tunnel\\nSouth Lydia\\nWC9 2BE, Westbury     51.26   \n",
       "3        4  Studio 6\\nStephen landing\\nSouth Simon\\nB77 2W...   53.0233   \n",
       "4        5  Flat 92u\\nChristian harbors\\nPort Charlotte\\nN...  53.38333   \n",
       "..     ...                                                ...       ...   \n",
       "445    445  Flat 7\\nStephanie lake\\nMorrisside\\nHP8 8LH, C...  50.76306   \n",
       "446    446    Täschestraße 25\\n39039 Nördlingen, Kirchlengern      52.2   \n",
       "448    448  Studio 8\\nMoss mall\\nWest Linda\\nM0E 6XR, High...  51.62907   \n",
       "449    449               Baumplatz 6\\n80114 Kötzting, Bretten  49.03685   \n",
       "450    450  Gotthilf-Rose-Straße 7/3\\n45457 Feuchtwangen, ...  50.64336   \n",
       "\n",
       "         locality   store_code staff_numbers opening_date   store_type  \\\n",
       "0    High Wycombe  HI-9B97EE4E            34   1996-10-25        Local   \n",
       "1        Landshut  LA-0772C7B9            92   2013-04-12  Super Store   \n",
       "2        Westbury  WE-1DE82CEE            69   2014-01-02  Super Store   \n",
       "3          Belper  BE-18074576            35   2019-09-09        Local   \n",
       "4    Gainsborough  GA-CAD01AC2            36   1995-05-15        Local   \n",
       "..            ...          ...           ...          ...          ...   \n",
       "445         Cowes  CO-473A9FBB            94   2008-06-08  Super Store   \n",
       "446  Kirchlengern  KI-78096E8C            61   2005-05-12  Super Store   \n",
       "448  High Wycombe  HI-EEA7AE62            33   1998-05-14        Local   \n",
       "449       Bretten  BR-662EC74C            35   2020-10-17        Local   \n",
       "450    Bad Honnef  BA-B4AED588            36   2001-05-12        Local   \n",
       "\n",
       "     latitude country_code continent  \n",
       "0    -0.74934           GB    Europe  \n",
       "1    12.16179           DE    Europe  \n",
       "2     -2.1875           GB    Europe  \n",
       "3    -1.48119           GB    Europe  \n",
       "4    -0.76667           GB    Europe  \n",
       "..        ...          ...       ...  \n",
       "445  -1.29772           GB    Europe  \n",
       "446   8.63333           DE    Europe  \n",
       "448  -0.74934           GB    Europe  \n",
       "449   8.70745           DE    Europe  \n",
       "450    7.2278           DE  eeEurope  \n",
       "\n",
       "[440 rows x 11 columns]"
      ]
     },
     "metadata": {},
     "output_type": "display_data"
    }
   ],
   "source": [
    "# the 'lat' column\n",
    "legacy_store_details_df_filtered.drop('lat', axis=1, inplace=True)\n",
    "\n",
    "# Display the DataFrame after dropping the column\n",
    "print(\"DataFrame after dropping 'lat' column:\\n\")\n",
    "display(legacy_store_details_df_filtered)\n"
   ]
  },
  {
   "cell_type": "code",
   "execution_count": 960,
   "metadata": {},
   "outputs": [
    {
     "data": {
      "text/plain": [
       "<Axes: >"
      ]
     },
     "execution_count": 960,
     "metadata": {},
     "output_type": "execute_result"
    },
    {
     "data": {
      "image/png": "[encoded data removed]",
      "text/plain": [
       "<Figure size 2500x1000 with 2 Axes>"
      ]
     },
     "metadata": {},
     "output_type": "display_data"
    }
   ],
   "source": [
    "# Plot a missingno matrix of the dataframe\n",
    "msno.matrix(legacy_store_details_df_filtered)"
   ]
  },
  {
   "cell_type": "code",
   "execution_count": 961,
   "metadata": {},
   "outputs": [
    {
     "name": "stdout",
     "output_type": "stream",
     "text": [
      "<class 'pandas.core.frame.DataFrame'>\n",
      "Index: 440 entries, 0 to 450\n",
      "Data columns (total 11 columns):\n",
      " #   Column         Non-Null Count  Dtype \n",
      "---  ------         --------------  ----- \n",
      " 0   index          440 non-null    int64 \n",
      " 1   address        440 non-null    object\n",
      " 2   longitude      440 non-null    object\n",
      " 3   locality       440 non-null    object\n",
      " 4   store_code     440 non-null    object\n",
      " 5   staff_numbers  440 non-null    object\n",
      " 6   opening_date   440 non-null    object\n",
      " 7   store_type     440 non-null    object\n",
      " 8   latitude       440 non-null    object\n",
      " 9   country_code   440 non-null    object\n",
      " 10  continent      440 non-null    object\n",
      "dtypes: int64(1), object(10)\n",
      "memory usage: 41.2+ KB\n"
     ]
    }
   ],
   "source": [
    "legacy_store_details_df_filtered.info()"
   ]
  },
  {
   "cell_type": "markdown",
   "metadata": {},
   "source": [
    "# checking of index"
   ]
  },
  {
   "cell_type": "code",
   "execution_count": 962,
   "metadata": {},
   "outputs": [
    {
     "name": "stdout",
     "output_type": "stream",
     "text": [
      "list of unique values for 'index'\n",
      "[  1   2   3   4   5   6   7   8   9  10  11  12  13  14  15  16  17  18\n",
      "  19  20  21  22  23  24  25  26  27  28  29  30  31  32  33  34  35  36\n",
      "  37  38  39  40  41  42  43  44  45  46  47  48  49  50  51  52  53  54\n",
      "  55  56  57  58  59  60  61  62  64  65  66  67  68  69  70  71  72  73\n",
      "  74  75  76  77  78  79  80  81  82  83  84  85  86  87  88  89  90  91\n",
      "  92  93  94  95  96  97  98  99 100 101 102 103 104 105 106 107 108 109\n",
      " 110 111 112 113 114 115 116 117 118 119 120 121 122 123 124 125 126 127\n",
      " 128 129 130 131 132 133 134 135 136 137 138 139 140 141 142 143 144 145\n",
      " 146 147 148 149 150 151 152 153 154 155 156 157 158 159 160 161 162 163\n",
      " 164 165 166 167 168 169 170 171 173 174 175 176 177 178 179 180 181 182\n",
      " 183 184 185 186 187 188 189 190 191 192 193 194 195 196 197 198 199 200\n",
      " 201 202 203 204 205 206 207 208 209 210 211 212 213 214 215 216 218 219\n",
      " 220 221 222 223 224 225 226 227 228 229 230 232 233 234 235 236 237 238\n",
      " 239 240 241 242 243 244 245 246 247 248 249 250 251 252 253 254 255 256\n",
      " 257 258 259 260 261 262 263 264 265 266 267 268 269 270 271 272 273 274\n",
      " 275 276 277 278 279 280 281 282 283 284 285 286 287 288 289 290 291 292\n",
      " 293 294 295 296 297 298 299 300 301 302 303 304 305 306 307 308 309 310\n",
      " 311 312 313 314 315 316 317 318 319 320 321 322 323 324 325 326 327 328\n",
      " 329 330 331 332 334 335 336 337 338 339 340 341 342 343 344 345 346 347\n",
      " 348 349 350 351 352 353 354 355 356 357 358 359 360 361 362 363 364 365\n",
      " 366 367 368 369 370 371 372 373 374 375 376 377 378 379 380 382 383 384\n",
      " 385 386 387 388 389 390 391 392 393 394 395 396 397 398 399 400 401 402\n",
      " 403 404 406 407 408 409 410 411 412 413 415 416 417 418 419 420 421 422\n",
      " 423 424 425 426 427 428 429 430 431 432 433 434 435 436 438 439 440 441\n",
      " 442 443 444 445 446 448 449 450]\n"
     ]
    }
   ],
   "source": [
    "print(\"list of unique values for 'index'\")\n",
    "print((legacy_store_details_df_filtered[\"index\"].unique()))"
   ]
  },
  {
   "cell_type": "code",
   "execution_count": 963,
   "metadata": {},
   "outputs": [
    {
     "name": "stdout",
     "output_type": "stream",
     "text": [
      "count on unique values found in 'index'\n"
     ]
    },
    {
     "data": {
      "text/plain": [
       "440"
      ]
     },
     "execution_count": 963,
     "metadata": {},
     "output_type": "execute_result"
    }
   ],
   "source": [
    "print(\"count on unique values found in 'index'\")\n",
    "\n",
    "legacy_store_details_df_filtered[\"index\"].nunique()\n"
   ]
  },
  {
   "cell_type": "code",
   "execution_count": 964,
   "metadata": {},
   "outputs": [
    {
     "name": "stdout",
     "output_type": "stream",
     "text": [
      "440\n"
     ]
    }
   ],
   "source": [
    "\n",
    "unique_count = legacy_store_details_df_filtered[\"index\"].nunique()\n",
    "print(unique_count)"
   ]
  },
  {
   "cell_type": "markdown",
   "metadata": {},
   "source": [
    "# Checking of staff numbers"
   ]
  },
  {
   "cell_type": "code",
   "execution_count": 965,
   "metadata": {},
   "outputs": [
    {
     "data": {
      "text/html": [
       "<div>\n",
       "<style scoped>\n",
       "    .dataframe tbody tr th:only-of-type {\n",
       "        vertical-align: middle;\n",
       "    }\n",
       "\n",
       "    .dataframe tbody tr th {\n",
       "        vertical-align: top;\n",
       "    }\n",
       "\n",
       "    .dataframe thead th {\n",
       "        text-align: right;\n",
       "    }\n",
       "</style>\n",
       "<table border=\"1\" class=\"dataframe\">\n",
       "  <thead>\n",
       "    <tr style=\"text-align: right;\">\n",
       "      <th></th>\n",
       "      <th>index</th>\n",
       "      <th>address</th>\n",
       "      <th>longitude</th>\n",
       "      <th>locality</th>\n",
       "      <th>store_code</th>\n",
       "      <th>staff_numbers</th>\n",
       "      <th>opening_date</th>\n",
       "      <th>store_type</th>\n",
       "      <th>latitude</th>\n",
       "      <th>country_code</th>\n",
       "      <th>continent</th>\n",
       "    </tr>\n",
       "  </thead>\n",
       "  <tbody>\n",
       "    <tr>\n",
       "      <th>30</th>\n",
       "      <td>31</td>\n",
       "      <td>Flat 69\\nSuzanne walk\\nEast Michelle\\nE80 8HS,...</td>\n",
       "      <td>52.68333</td>\n",
       "      <td>East Dereham</td>\n",
       "      <td>EA-24B31935</td>\n",
       "      <td>J78</td>\n",
       "      <td>2012-11-09</td>\n",
       "      <td>Outlet</td>\n",
       "      <td>0.93333</td>\n",
       "      <td>GB</td>\n",
       "      <td>Europe</td>\n",
       "    </tr>\n",
       "    <tr>\n",
       "      <th>179</th>\n",
       "      <td>179</td>\n",
       "      <td>Girschnerweg 163\\n93597 Angermünde, Dahlem</td>\n",
       "      <td>52.4581</td>\n",
       "      <td>Dahlem</td>\n",
       "      <td>DA-ACC520AE</td>\n",
       "      <td>30e</td>\n",
       "      <td>1994-03-07</td>\n",
       "      <td>Local</td>\n",
       "      <td>13.28702</td>\n",
       "      <td>DE</td>\n",
       "      <td>Europe</td>\n",
       "    </tr>\n",
       "    <tr>\n",
       "      <th>248</th>\n",
       "      <td>248</td>\n",
       "      <td>7430 Howe Extensions Suite 299\\nKellyside, WA ...</td>\n",
       "      <td>39.71734</td>\n",
       "      <td>Sicklerville</td>\n",
       "      <td>SI-C489938D</td>\n",
       "      <td>80R</td>\n",
       "      <td>1994-02-28</td>\n",
       "      <td>Outlet</td>\n",
       "      <td>-74.96933</td>\n",
       "      <td>US</td>\n",
       "      <td>America</td>\n",
       "    </tr>\n",
       "    <tr>\n",
       "      <th>341</th>\n",
       "      <td>341</td>\n",
       "      <td>Studio 8\\nLydia groves\\nNorth Hilarymouth\\nIV4...</td>\n",
       "      <td>50.79205</td>\n",
       "      <td>Southsea</td>\n",
       "      <td>SO-B5B9CB3B</td>\n",
       "      <td>A97</td>\n",
       "      <td>2018-05-08</td>\n",
       "      <td>Super Store</td>\n",
       "      <td>-1.08593</td>\n",
       "      <td>GB</td>\n",
       "      <td>Europe</td>\n",
       "    </tr>\n",
       "    <tr>\n",
       "      <th>375</th>\n",
       "      <td>375</td>\n",
       "      <td>Salzstraße 1/9\\n74209 Bad Freienwalde, Charlot...</td>\n",
       "      <td>52.53048</td>\n",
       "      <td>Charlottenburg-Nord</td>\n",
       "      <td>CH-99475026</td>\n",
       "      <td>3n9</td>\n",
       "      <td>1995-03-05</td>\n",
       "      <td>Local</td>\n",
       "      <td>13.29371</td>\n",
       "      <td>DE</td>\n",
       "      <td>Europe</td>\n",
       "    </tr>\n",
       "  </tbody>\n",
       "</table>\n",
       "</div>"
      ],
      "text/plain": [
       "     index                                            address longitude  \\\n",
       "30      31  Flat 69\\nSuzanne walk\\nEast Michelle\\nE80 8HS,...  52.68333   \n",
       "179    179         Girschnerweg 163\\n93597 Angermünde, Dahlem   52.4581   \n",
       "248    248  7430 Howe Extensions Suite 299\\nKellyside, WA ...  39.71734   \n",
       "341    341  Studio 8\\nLydia groves\\nNorth Hilarymouth\\nIV4...  50.79205   \n",
       "375    375  Salzstraße 1/9\\n74209 Bad Freienwalde, Charlot...  52.53048   \n",
       "\n",
       "                locality   store_code staff_numbers opening_date   store_type  \\\n",
       "30          East Dereham  EA-24B31935           J78   2012-11-09       Outlet   \n",
       "179               Dahlem  DA-ACC520AE           30e   1994-03-07        Local   \n",
       "248         Sicklerville  SI-C489938D           80R   1994-02-28       Outlet   \n",
       "341             Southsea  SO-B5B9CB3B           A97   2018-05-08  Super Store   \n",
       "375  Charlottenburg-Nord  CH-99475026           3n9   1995-03-05        Local   \n",
       "\n",
       "      latitude country_code continent  \n",
       "30     0.93333           GB    Europe  \n",
       "179   13.28702           DE    Europe  \n",
       "248  -74.96933           US   America  \n",
       "341   -1.08593           GB    Europe  \n",
       "375   13.29371           DE    Europe  "
      ]
     },
     "metadata": {},
     "output_type": "display_data"
    },
    {
     "name": "stdout",
     "output_type": "stream",
     "text": [
      "<class 'pandas.core.frame.DataFrame'>\n",
      "Index: 5 entries, 30 to 375\n",
      "Data columns (total 11 columns):\n",
      " #   Column         Non-Null Count  Dtype \n",
      "---  ------         --------------  ----- \n",
      " 0   index          5 non-null      int64 \n",
      " 1   address        5 non-null      object\n",
      " 2   longitude      5 non-null      object\n",
      " 3   locality       5 non-null      object\n",
      " 4   store_code     5 non-null      object\n",
      " 5   staff_numbers  5 non-null      object\n",
      " 6   opening_date   5 non-null      object\n",
      " 7   store_type     5 non-null      object\n",
      " 8   latitude       5 non-null      object\n",
      " 9   country_code   5 non-null      object\n",
      " 10  continent      5 non-null      object\n",
      "dtypes: int64(1), object(10)\n",
      "memory usage: 480.0+ bytes\n"
     ]
    },
    {
     "data": {
      "text/plain": [
       "None"
      ]
     },
     "metadata": {},
     "output_type": "display_data"
    }
   ],
   "source": [
    "import pandas as pd\n",
    "import re\n",
    "\n",
    "\n",
    "# Define a regular expression to match integers without any other special characters\n",
    "integer_pattern = re.compile(r'^\\d+$')\n",
    "\n",
    "'''\n",
    "^: Asserts the start of the string.\n",
    "\\d: Matches any digit (0-9).\n",
    "+: Matches one or more occurrences of the preceding element (\\d in this case).\n",
    "$: Asserts the end of the string.\n",
    "'''\n",
    "\n",
    "# Function to filter column based on the regular expression\n",
    "def filter_df_column_for_non_integers(value):\n",
    "    return bool(integer_pattern.match(str(value)))\n",
    "\n",
    "# Apply the non integer filter to the 'staff_numbers' column and negate the condition using ~\n",
    "legacy_store_details_df_sn_excluded = legacy_store_details_df_filtered[~legacy_store_details_df_filtered['staff_numbers'].apply(filter_df_column_for_non_integers)]\n",
    "\n",
    "# Display the result\n",
    "display(legacy_store_details_df_sn_excluded)\n",
    "display(legacy_store_details_df_sn_excluded.info())"
   ]
  },
  {
   "cell_type": "code",
   "execution_count": 966,
   "metadata": {},
   "outputs": [
    {
     "data": {
      "text/html": [
       "<div>\n",
       "<style scoped>\n",
       "    .dataframe tbody tr th:only-of-type {\n",
       "        vertical-align: middle;\n",
       "    }\n",
       "\n",
       "    .dataframe tbody tr th {\n",
       "        vertical-align: top;\n",
       "    }\n",
       "\n",
       "    .dataframe thead th {\n",
       "        text-align: right;\n",
       "    }\n",
       "</style>\n",
       "<table border=\"1\" class=\"dataframe\">\n",
       "  <thead>\n",
       "    <tr style=\"text-align: right;\">\n",
       "      <th></th>\n",
       "      <th>index</th>\n",
       "      <th>address</th>\n",
       "      <th>longitude</th>\n",
       "      <th>locality</th>\n",
       "      <th>store_code</th>\n",
       "      <th>staff_numbers</th>\n",
       "      <th>opening_date</th>\n",
       "      <th>store_type</th>\n",
       "      <th>latitude</th>\n",
       "      <th>country_code</th>\n",
       "      <th>continent</th>\n",
       "    </tr>\n",
       "  </thead>\n",
       "  <tbody>\n",
       "    <tr>\n",
       "      <th>0</th>\n",
       "      <td>1</td>\n",
       "      <td>Flat 72W\\nSally isle\\nEast Deantown\\nE7B 8EB, ...</td>\n",
       "      <td>51.62907</td>\n",
       "      <td>High Wycombe</td>\n",
       "      <td>HI-9B97EE4E</td>\n",
       "      <td>34</td>\n",
       "      <td>1996-10-25</td>\n",
       "      <td>Local</td>\n",
       "      <td>-0.74934</td>\n",
       "      <td>GB</td>\n",
       "      <td>Europe</td>\n",
       "    </tr>\n",
       "    <tr>\n",
       "      <th>1</th>\n",
       "      <td>2</td>\n",
       "      <td>Heckerstraße 4/5\\n50491 Säckingen, Landshut</td>\n",
       "      <td>48.52961</td>\n",
       "      <td>Landshut</td>\n",
       "      <td>LA-0772C7B9</td>\n",
       "      <td>92</td>\n",
       "      <td>2013-04-12</td>\n",
       "      <td>Super Store</td>\n",
       "      <td>12.16179</td>\n",
       "      <td>DE</td>\n",
       "      <td>Europe</td>\n",
       "    </tr>\n",
       "    <tr>\n",
       "      <th>2</th>\n",
       "      <td>3</td>\n",
       "      <td>5 Harrison tunnel\\nSouth Lydia\\nWC9 2BE, Westbury</td>\n",
       "      <td>51.26</td>\n",
       "      <td>Westbury</td>\n",
       "      <td>WE-1DE82CEE</td>\n",
       "      <td>69</td>\n",
       "      <td>2014-01-02</td>\n",
       "      <td>Super Store</td>\n",
       "      <td>-2.1875</td>\n",
       "      <td>GB</td>\n",
       "      <td>Europe</td>\n",
       "    </tr>\n",
       "    <tr>\n",
       "      <th>3</th>\n",
       "      <td>4</td>\n",
       "      <td>Studio 6\\nStephen landing\\nSouth Simon\\nB77 2W...</td>\n",
       "      <td>53.0233</td>\n",
       "      <td>Belper</td>\n",
       "      <td>BE-18074576</td>\n",
       "      <td>35</td>\n",
       "      <td>2019-09-09</td>\n",
       "      <td>Local</td>\n",
       "      <td>-1.48119</td>\n",
       "      <td>GB</td>\n",
       "      <td>Europe</td>\n",
       "    </tr>\n",
       "    <tr>\n",
       "      <th>4</th>\n",
       "      <td>5</td>\n",
       "      <td>Flat 92u\\nChristian harbors\\nPort Charlotte\\nN...</td>\n",
       "      <td>53.38333</td>\n",
       "      <td>Gainsborough</td>\n",
       "      <td>GA-CAD01AC2</td>\n",
       "      <td>36</td>\n",
       "      <td>1995-05-15</td>\n",
       "      <td>Local</td>\n",
       "      <td>-0.76667</td>\n",
       "      <td>GB</td>\n",
       "      <td>Europe</td>\n",
       "    </tr>\n",
       "    <tr>\n",
       "      <th>...</th>\n",
       "      <td>...</td>\n",
       "      <td>...</td>\n",
       "      <td>...</td>\n",
       "      <td>...</td>\n",
       "      <td>...</td>\n",
       "      <td>...</td>\n",
       "      <td>...</td>\n",
       "      <td>...</td>\n",
       "      <td>...</td>\n",
       "      <td>...</td>\n",
       "      <td>...</td>\n",
       "    </tr>\n",
       "    <tr>\n",
       "      <th>445</th>\n",
       "      <td>445</td>\n",
       "      <td>Flat 7\\nStephanie lake\\nMorrisside\\nHP8 8LH, C...</td>\n",
       "      <td>50.76306</td>\n",
       "      <td>Cowes</td>\n",
       "      <td>CO-473A9FBB</td>\n",
       "      <td>94</td>\n",
       "      <td>2008-06-08</td>\n",
       "      <td>Super Store</td>\n",
       "      <td>-1.29772</td>\n",
       "      <td>GB</td>\n",
       "      <td>Europe</td>\n",
       "    </tr>\n",
       "    <tr>\n",
       "      <th>446</th>\n",
       "      <td>446</td>\n",
       "      <td>Täschestraße 25\\n39039 Nördlingen, Kirchlengern</td>\n",
       "      <td>52.2</td>\n",
       "      <td>Kirchlengern</td>\n",
       "      <td>KI-78096E8C</td>\n",
       "      <td>61</td>\n",
       "      <td>2005-05-12</td>\n",
       "      <td>Super Store</td>\n",
       "      <td>8.63333</td>\n",
       "      <td>DE</td>\n",
       "      <td>Europe</td>\n",
       "    </tr>\n",
       "    <tr>\n",
       "      <th>448</th>\n",
       "      <td>448</td>\n",
       "      <td>Studio 8\\nMoss mall\\nWest Linda\\nM0E 6XR, High...</td>\n",
       "      <td>51.62907</td>\n",
       "      <td>High Wycombe</td>\n",
       "      <td>HI-EEA7AE62</td>\n",
       "      <td>33</td>\n",
       "      <td>1998-05-14</td>\n",
       "      <td>Local</td>\n",
       "      <td>-0.74934</td>\n",
       "      <td>GB</td>\n",
       "      <td>Europe</td>\n",
       "    </tr>\n",
       "    <tr>\n",
       "      <th>449</th>\n",
       "      <td>449</td>\n",
       "      <td>Baumplatz 6\\n80114 Kötzting, Bretten</td>\n",
       "      <td>49.03685</td>\n",
       "      <td>Bretten</td>\n",
       "      <td>BR-662EC74C</td>\n",
       "      <td>35</td>\n",
       "      <td>2020-10-17</td>\n",
       "      <td>Local</td>\n",
       "      <td>8.70745</td>\n",
       "      <td>DE</td>\n",
       "      <td>Europe</td>\n",
       "    </tr>\n",
       "    <tr>\n",
       "      <th>450</th>\n",
       "      <td>450</td>\n",
       "      <td>Gotthilf-Rose-Straße 7/3\\n45457 Feuchtwangen, ...</td>\n",
       "      <td>50.64336</td>\n",
       "      <td>Bad Honnef</td>\n",
       "      <td>BA-B4AED588</td>\n",
       "      <td>36</td>\n",
       "      <td>2001-05-12</td>\n",
       "      <td>Local</td>\n",
       "      <td>7.2278</td>\n",
       "      <td>DE</td>\n",
       "      <td>eeEurope</td>\n",
       "    </tr>\n",
       "  </tbody>\n",
       "</table>\n",
       "<p>435 rows × 11 columns</p>\n",
       "</div>"
      ],
      "text/plain": [
       "     index                                            address longitude  \\\n",
       "0        1  Flat 72W\\nSally isle\\nEast Deantown\\nE7B 8EB, ...  51.62907   \n",
       "1        2        Heckerstraße 4/5\\n50491 Säckingen, Landshut  48.52961   \n",
       "2        3  5 Harrison tunnel\\nSouth Lydia\\nWC9 2BE, Westbury     51.26   \n",
       "3        4  Studio 6\\nStephen landing\\nSouth Simon\\nB77 2W...   53.0233   \n",
       "4        5  Flat 92u\\nChristian harbors\\nPort Charlotte\\nN...  53.38333   \n",
       "..     ...                                                ...       ...   \n",
       "445    445  Flat 7\\nStephanie lake\\nMorrisside\\nHP8 8LH, C...  50.76306   \n",
       "446    446    Täschestraße 25\\n39039 Nördlingen, Kirchlengern      52.2   \n",
       "448    448  Studio 8\\nMoss mall\\nWest Linda\\nM0E 6XR, High...  51.62907   \n",
       "449    449               Baumplatz 6\\n80114 Kötzting, Bretten  49.03685   \n",
       "450    450  Gotthilf-Rose-Straße 7/3\\n45457 Feuchtwangen, ...  50.64336   \n",
       "\n",
       "         locality   store_code staff_numbers opening_date   store_type  \\\n",
       "0    High Wycombe  HI-9B97EE4E            34   1996-10-25        Local   \n",
       "1        Landshut  LA-0772C7B9            92   2013-04-12  Super Store   \n",
       "2        Westbury  WE-1DE82CEE            69   2014-01-02  Super Store   \n",
       "3          Belper  BE-18074576            35   2019-09-09        Local   \n",
       "4    Gainsborough  GA-CAD01AC2            36   1995-05-15        Local   \n",
       "..            ...          ...           ...          ...          ...   \n",
       "445         Cowes  CO-473A9FBB            94   2008-06-08  Super Store   \n",
       "446  Kirchlengern  KI-78096E8C            61   2005-05-12  Super Store   \n",
       "448  High Wycombe  HI-EEA7AE62            33   1998-05-14        Local   \n",
       "449       Bretten  BR-662EC74C            35   2020-10-17        Local   \n",
       "450    Bad Honnef  BA-B4AED588            36   2001-05-12        Local   \n",
       "\n",
       "     latitude country_code continent  \n",
       "0    -0.74934           GB    Europe  \n",
       "1    12.16179           DE    Europe  \n",
       "2     -2.1875           GB    Europe  \n",
       "3    -1.48119           GB    Europe  \n",
       "4    -0.76667           GB    Europe  \n",
       "..        ...          ...       ...  \n",
       "445  -1.29772           GB    Europe  \n",
       "446   8.63333           DE    Europe  \n",
       "448  -0.74934           GB    Europe  \n",
       "449   8.70745           DE    Europe  \n",
       "450    7.2278           DE  eeEurope  \n",
       "\n",
       "[435 rows x 11 columns]"
      ]
     },
     "metadata": {},
     "output_type": "display_data"
    }
   ],
   "source": [
    "# Now apply the non integer filter to the 'staff_numbers' column \n",
    "legacy_store_details_df_sn_included = legacy_store_details_df_filtered[legacy_store_details_df_filtered['staff_numbers'].apply(filter_df_column_for_non_integers)]\n",
    "\n",
    "# Display the result\n",
    "display(legacy_store_details_df_sn_included)"
   ]
  },
  {
   "cell_type": "code",
   "execution_count": 967,
   "metadata": {},
   "outputs": [],
   "source": [
    "# import pandas as pd\n",
    "# import re\n",
    "# import numpy as np\n",
    "\n",
    "\n",
    "# print(\"legacy_store_details_df[\\\"staff_numbers\\\"] unique contents before cleaning:\\n\")\n",
    "# unique_items_in_staff_numbers = sorted(legacy_store_details_df[\"staff_numbers\"].unique())\n",
    "# print(unique_items_in_staff_numbers, \"\\n\")\n",
    "# print(\"Unique items in staff numbers:\\n\")\n",
    "# print(len(unique_items_in_staff_numbers), \"\\n\")\n"
   ]
  },
  {
   "cell_type": "code",
   "execution_count": 968,
   "metadata": {},
   "outputs": [],
   "source": [
    "# import pandas as pd\n",
    "# import re\n",
    "# import numpy as np\n",
    "\n",
    "\n",
    "# print(\"legacy_store_details_df[\\\"staff_numbers\\\"] unique contents after cleaning:\\n\")\n",
    "# unique_items_in_staff_numbers = sorted(legacy_store_details_df[\"staff_numbers\"].unique())\n",
    "# print(unique_items_in_staff_numbers, \"\\n\")\n",
    "# print(\"Unique items in staff numbers:\\n\")\n",
    "# print(len(unique_items_in_staff_numbers), \"\\n\")\n",
    "# display(legacy_store_details_df.info())\n"
   ]
  },
  {
   "cell_type": "code",
   "execution_count": 969,
   "metadata": {},
   "outputs": [
    {
     "name": "stdout",
     "output_type": "stream",
     "text": [
      "legacy_store_details_df_filtered[\"staff_numbers\"] unique contents after cleaning:\n",
      "\n",
      "[4, 5, 6, 7, 8, 20, 21, 22, 23, 24, 25, 26, 27, 28, 29, 30, 31, 32, 33, 34, 35, 36, 37, 38, 39, 40, 41, 48, 50, 51, 52, 53, 56, 57, 58, 59, 60, 61, 62, 63, 66, 67, 68, 69, 70, 71, 72, 73, 74, 75, 76, 77, 78, 80, 81, 82, 83, 84, 85, 86, 87, 89, 90, 92, 93, 94, 96, 97, 98, 99, 100, 101, 102, 103, 106, 107, 108, 109, 110, 111, 112, 113, 114, 117, 118, 119, 120, 122, 124, 127, 128, 129, 130, 131, 132, 133, 134, 135, 137, 138, 139] \n",
      "\n",
      "Number of unique items in staff numbers:\n",
      "\n",
      "101 \n",
      "\n",
      "<class 'pandas.core.frame.DataFrame'>\n",
      "Index: 440 entries, 0 to 450\n",
      "Data columns (total 11 columns):\n",
      " #   Column         Non-Null Count  Dtype \n",
      "---  ------         --------------  ----- \n",
      " 0   index          440 non-null    int64 \n",
      " 1   address        440 non-null    object\n",
      " 2   longitude      440 non-null    object\n",
      " 3   locality       440 non-null    object\n",
      " 4   store_code     440 non-null    object\n",
      " 5   staff_numbers  440 non-null    int64 \n",
      " 6   opening_date   440 non-null    object\n",
      " 7   store_type     440 non-null    object\n",
      " 8   latitude       440 non-null    object\n",
      " 9   country_code   440 non-null    object\n",
      " 10  continent      440 non-null    object\n",
      "dtypes: int64(2), object(9)\n",
      "memory usage: 41.2+ KB\n"
     ]
    },
    {
     "data": {
      "text/plain": [
       "None"
      ]
     },
     "metadata": {},
     "output_type": "display_data"
    }
   ],
   "source": [
    "def clean_staff_numbers(value):\n",
    "    # Extract only numeric part and convert to int\n",
    "    numeric_part = ''.join(filter(str.isdigit, value))\n",
    "    return int(numeric_part)\n",
    "\n",
    "# Apply the cleaning function to the 'staff_numbers' column\n",
    "legacy_store_details_df_filtered['staff_numbers'] = legacy_store_details_df_filtered['staff_numbers'].apply(clean_staff_numbers)\n",
    "\n",
    "# Display the cleaned DataFrame\n",
    "print(\"legacy_store_details_df_filtered[\\\"staff_numbers\\\"] unique contents after cleaning:\\n\")\n",
    "unique_items_in_staff_numbers = sorted(legacy_store_details_df_filtered[\"staff_numbers\"].unique())\n",
    "print(unique_items_in_staff_numbers, \"\\n\")\n",
    "print(\"Number of unique items in staff numbers:\\n\")\n",
    "print(len(unique_items_in_staff_numbers), \"\\n\")\n",
    "display(legacy_store_details_df_filtered.info())"
   ]
  },
  {
   "cell_type": "code",
   "execution_count": 970,
   "metadata": {},
   "outputs": [],
   "source": [
    "# # Suppose you want to select rows where 'column_name' has values in the list 'key_values'\n",
    "# key_values = ['78', '30', '80', '97', '39']\n",
    "# selected_rows = legacy_store_details_df[legacy_store_details_df[\"staff_numbers\"].isin(key_values)]\n",
    "\n",
    "# # Display the selected rows\n",
    "# display(selected_rows)\n",
    "\n"
   ]
  },
  {
   "cell_type": "code",
   "execution_count": 971,
   "metadata": {},
   "outputs": [
    {
     "data": {
      "text/plain": [
       "<Axes: >"
      ]
     },
     "execution_count": 971,
     "metadata": {},
     "output_type": "execute_result"
    },
    {
     "data": {
      "image/png": "[encoded data removed]",
      "text/plain": [
       "<Figure size 2500x1000 with 2 Axes>"
      ]
     },
     "metadata": {},
     "output_type": "display_data"
    }
   ],
   "source": [
    "# Plot a missingno matrix of the dataframe\n",
    "msno.matrix(legacy_store_details_df_filtered)"
   ]
  },
  {
   "cell_type": "markdown",
   "metadata": {},
   "source": [
    "# Check store_code"
   ]
  },
  {
   "cell_type": "code",
   "execution_count": 972,
   "metadata": {},
   "outputs": [
    {
     "name": "stdout",
     "output_type": "stream",
     "text": [
      "Show only unique entries in legacy_store_details_df_filtered[\"store_code\"]:\n",
      "\n",
      "['HI-9B97EE4E' 'LA-0772C7B9' 'WE-1DE82CEE' 'BE-18074576' 'GA-CAD01AC2'\n",
      " 'RU-C603E990' 'ST-229D997E' 'KA-FA7ED3B8' 'HA-974352FE' 'RU-9F1136B4'\n",
      " 'SI-ECD52CD9' 'DE-585399CF' 'CR-792AA8BB' 'HA-39A446E2' 'LA-9B0D9277'\n",
      " 'NE-1D8B1D0C' 'LY-4C3D5D6C' 'CH-6A561423' 'BA-898BDED3' 'EA-77ECA680'\n",
      " 'PO-38790FAE' 'BU-251A0E5A' 'EH-91356030' 'AB-917B715E' 'SU-0B4C9A5F'\n",
      " 'IN-157E1191' 'GA-DA8EEA4A' 'LA-2B59A825' 'WE-31C8B335' 'LA-F1042C48'\n",
      " 'EA-24B31935' 'EA-7965E06D' 'PE-040B15C3' 'EH-DB8676C1' 'AL-91D3A03C'\n",
      " 'HE-E39F4BC6' 'PO-47A01287' 'LA-D78C5F3F' 'ME-31958763' 'AR-5E72668B'\n",
      " 'CO-CB3D8C89' 'CL-5C7C3198' 'BO-17E7B6CE' 'CH-619E036C' 'BR-BC499EDD'\n",
      " 'NE-E50207AD' 'BE-8C0CF738' 'NE-374D3983' 'SU-95D20AE9' 'ME-FB62E459'\n",
      " 'KA-653E783F' 'MA-F0E23355' 'OS-70B2CD28' 'KI-A53AF10A' 'LE-63F3D33B'\n",
      " 'VE-93DA8430' 'HI-BAD4DD1C' 'RU-1994A94D' 'LE-84C48B9F' 'SC-4928418D'\n",
      " 'EP-105C3FB5' 'CH-7771B336' 'LO-AB6B6DF8' 'BU-44F16401' 'RU-9DF20437'\n",
      " 'EH-DB65F258' 'SO-6D328417' 'PO-EB96293A' 'WA-34998EB8' 'EX-2C210EBF'\n",
      " 'CH-164A23FB' 'GA-BA05E5A8' 'CH-A44B48E6' 'TH-D62B06B7' 'LA-6AAC1779'\n",
      " 'MO-E8CFF8FE' 'LO-D54E72B5' 'EA-BE6D0CF8' 'BE-F4596696' 'WE-5B0343D9'\n",
      " 'SC-8724E112' 'SE-F428A035' 'SU-40E3321A' 'EX-9ED6711E' 'BU-550D8325'\n",
      " 'LA-9F489A77' 'RA-583F0CF9' 'NE-01250B4B' 'CH-7C155EA7' 'ST-4D2E1D55'\n",
      " 'AR-2D9D5CD3' 'MI-20EE1BFA' 'ST-119B11EA' 'BU-89E4DEC5' 'VE-B81F9500'\n",
      " 'WE-DC3933D4' 'CL-0FB1065C' 'PF-D90B564A' 'BE-028A2748' 'SO-6D546AD2'\n",
      " 'HI-BED70096' 'WA-FF3389AF' 'CH-7E92F288' 'FR-C04291C3' 'ST-B754F535'\n",
      " 'AR-E8FDEB2B' 'LY-FC3B1157' 'BE-09F94471' 'GA-400CC35C' 'WI-56B02C82'\n",
      " 'HI-F2784D72' 'ME-D9ECD7DF' 'LE-14B7245B' 'RU-AE12736B' 'LA-DE474D42'\n",
      " 'KA-9D87BC15' 'CH-DCCDE05E' 'CH-FBB32B94' 'ST-10F19C97' 'NE-C83B8B22'\n",
      " 'SE-8DF6557B' 'SU-346D5CF2' 'BU-784362E0' 'AR-0C5116E4' 'OB-7A4A9012'\n",
      " 'RA-2A22B217' 'WE-605028E4' 'PF-1D7B0646' 'LA-77BE2ADA' 'ZE-BBF02AEA'\n",
      " 'VI-BCBBC21A' 'WI-37616D0E' 'RH-F3E200B7' 'BU-19BB50F6' 'MA-316BDC6E'\n",
      " 'CL-C183BE4B' 'WA-F4396DF8' 'MA-0D207813' 'PO-99029708' 'GA-190B3F6D'\n",
      " 'BU-5B54171E' 'ME-9940FF73' 'CL-DA5365DF' 'SU-5F78B30A' 'LY-89B9F675'\n",
      " 'HE-2908B53E' 'AR-D3FDDD1D' 'SI-66F97423' 'PF-BADFAEDC' 'NE-EE2A190D'\n",
      " 'SE-596EAA50' 'RA-C25EE56A' 'EH-BB9AECF5' 'PF-F95902BC' 'CR-6B885B5E'\n",
      " 'HA-1BAE9B71' 'ME-B363FDAA' 'TR-4E1AF636' 'VI-43751A71' 'DA-D9DC550B'\n",
      " 'LA-347073D1' 'VI-9A93E3E2' 'CH-6D105C69' 'ST-06E21C4A' 'FR-0FA7D921'\n",
      " 'CL-361E75EC' 'WA-905645E6' 'LY-73842BE8' 'HA-B6953307' 'BE-F9462A80'\n",
      " 'ST-3C93FBF2' 'MA-20E6EB37' 'HI-F27C7A84' 'TH-D94B2E76' 'LO-3DD01CA8'\n",
      " 'BA-8BA66AA0' 'DA-ACC520AE' 'BA-3A37248A' 'IN-8A98027C' 'CH-42F9D8D8'\n",
      " 'AR-F938FB8E' 'ZE-EA9C82AA' 'EX-41AC3888' 'CH-E1344D81' 'GR-18E26E0C'\n",
      " 'VI-B13ACF87' 'EH-945D8F25' 'BU-3FC2A064' 'ME-C1AF27C3' 'PE-52B1E131'\n",
      " 'RU-BFF916C5' 'LA-BC0455E1' 'BE-9A378A7F' 'LA-C1E143DE' 'NI-D757F308'\n",
      " 'HA-859769AF' 'WA-0E6E657C' 'ST-1DAA85E6' 'WI-1BEEB9CA' 'HA-41E65DD9'\n",
      " 'JE-3AF1D134' 'KI-967D1E81' 'BA-B0933185' 'FA-6A7ABBAD' 'BU-3020DF6C'\n",
      " 'FR-91D11D69' 'ST-32641EC1' 'SC-ADA59883' 'GA-2252ED9A' 'WE-298C66F0'\n",
      " 'PO-3A1A12CD' 'CO-EAEDFFF3' 'GA-846D92B4' 'WE-54DE559C' 'PE-60C328DB'\n",
      " 'BL-8387506C' 'OB-B57D2016' 'RE-4D07B5F2' 'HO-85D2BA5B' 'VE-EE7A1F48'\n",
      " 'RH-AB6C3782' 'AB-316DE4BA' 'LA-F0652295' 'EA-6B5D31D8' 'BE-2DE7E6FD'\n",
      " 'HO-978C59DC' 'KI-AF3A421C' 'CH-C9AB9518' 'RU-514020AC' 'WI-5CDC1053'\n",
      " 'MI-D57825AA' 'WI-293A03C1' 'GR-84BD26D4' 'TH-B6A0AB51' 'SU-203C8474'\n",
      " 'EX-A3F2DB7C' 'AL-9E1A5529' 'CL-DA786EF6' 'AS-D26C759B' 'FA-0A1B14FB'\n",
      " 'HI-FD1137FA' 'CL-7BF16887' 'PE-360EA944' 'SI-C489938D' 'LA-7A9AA65C'\n",
      " 'AB-4ABD6D51' 'RA-5F41ED85' 'BE-7C142381' 'BR-FB62A5BA' 'OS-EE0CC48A'\n",
      " 'VI-682A89FF' 'GA-5957F561' 'PO-4AF8FC4D' 'SE-68A67454' 'RA-412FE889'\n",
      " 'KI-81D6FEBD' 'WE-41EFA2D6' 'LE-1438EF01' 'SI-3E5F4AD9' 'PF-F54C3265'\n",
      " 'PO-D4D326B4' 'SE-09EAF854' 'BE-DAD46DCD' 'BE-BC3E4F9A' 'WE-55D0E7FF'\n",
      " 'ST-8D1A43F1' 'VE-1050754E' 'CH-86DFF57D' 'GR-6D292223' 'HI-D59BBEEC'\n",
      " 'CH-8A74708A' 'GR-30543E4C' 'GR-664E0CB3' 'KA-249967D9' 'EX-B1AACC7D'\n",
      " 'BL-04FD6EF3' 'SU-B415327A' 'WA-0A35C594' 'DE-504A9BFE' 'AR-CB0D95D8'\n",
      " 'RE-FAF57EF7' 'AB-337AEBA7' 'PE-8BF5FE22' 'BU-0FB4CF87' 'ME-6529390A'\n",
      " 'NE-2B35DCBD' 'BU-90D457E0' 'LA-55069B69' 'CH-DEF208AA' 'BR-CACF7508'\n",
      " 'GR-911A7DFC' 'BL-9A86B74D' 'BA-99F54BD0' 'TR-658557DD' 'BL-D6CF153F'\n",
      " 'AR-2284FD32' 'GR-63F021A1' 'EA-EB4F2E1B' 'GI-718674C0' 'CH-7638016B'\n",
      " 'GA-D570038A' 'HO-16A376B0' 'AB-30E0C17F' 'NI-AB0FECD7' 'SE-C44E6951'\n",
      " 'CO-308FF73B' 'EX-B4EE25D8' 'SE-E21DDC72' 'TH-142AE777' 'CA-70469742'\n",
      " 'NE-6046DE65' 'LU-439557A9' 'SU-163D2755' 'VI-8EBC5471' 'BU-834779E4'\n",
      " 'ST-6590521C' 'HO-CE40B554' 'LO-8E1CA9E3' 'SU-ABF4F9A1' 'CO-9A576872'\n",
      " 'AL-EE8984F0' 'AL-FB5FAE9B' 'EA-EC2DAADE' 'ST-D14ED89D' 'LO-C4AB23C1'\n",
      " 'OB-4B85CD4E' 'BU-79F72A64' 'EP-E66BE479' 'WA-58021322' 'KO-7E39C57F'\n",
      " 'HI-AED3C6CD' 'AB-D665986A' 'BR-B7C294A7' 'LY-120579E6' 'GR-250FBD0C'\n",
      " 'SO-B5B9CB3B' 'LA-6D1FE061' 'BR-09D8DE69' 'WE-C5C34475' 'IN-827175EE'\n",
      " 'VE-38B76FFE' 'OS-4BF93680' 'WE-69BFEA46' 'HA-FC4E6AFF' 'EX-A01E0020'\n",
      " 'HU-57B095A2' 'CH-01DEFD68' 'RU-9D16C525' 'SC-FFDD5A57' 'KI-DD9663C2'\n",
      " 'EX-B3F5CFB1' 'IR-C8DAAB31' 'WE-A6C131B0' 'OB-FDC2CF69' 'BA-25629F8E'\n",
      " 'HI-7B43DCA9' 'HE-84E62AB9' 'RU-DA6DCDA7' 'IN-E47115F0' 'BA-91C512D2'\n",
      " 'JA-49A2D7F5' 'IN-C4060B7D' 'CH-6ADEBD99' 'BU-B5B6F452' 'SE-531CB6EE'\n",
      " 'SU-EFC31DF9' 'ST-76D54DCB' 'HE-A49D28DF' 'LA-0E85631B' 'CH-99475026'\n",
      " 'PF-4FB7B30C' 'AL-34ABF27F' 'LO-74DBE049' 'LO-EC0C9189' 'BE-C5C7E600'\n",
      " 'PE-F9CF2B74' 'AS-373D10B2' 'RH-450F1A1B' 'GR-61A03D84' 'AB-D04AA29C'\n",
      " 'WE-0E145AF9' 'BR-0DCD7EE0' 'TH-B8F42840' 'GR-16C93F4D' 'BL-190ABD7D'\n",
      " 'RU-798BB83A' 'HA-10EEDC1D' 'AB-FCFAB1A9' 'HE-8818F573' 'IN-CC1993CF'\n",
      " 'LY-D37CAF45' 'RE-75445D60' 'CO-3971C69C' 'NE-D1A20330' 'LA-A12C3D8F'\n",
      " 'BA-C0C7FDBE' 'LO-F33AC948' 'PO-E636D18D' 'LE-1E8CCAFA' 'SC-4AE031F4'\n",
      " 'LO-ED733BA2' 'FR-A86E698A' 'KI-107167CD' 'BE-7D0EF647' 'PE-086FA5EE'\n",
      " 'PE-78E2B585' 'AR-EE57502B' 'EX-FA379F57' 'GR-9049A708' 'WA-ED4B495E'\n",
      " 'TR-8CD56339' 'CO-D819CC5E' 'EX-82831D93' 'WE-FF0F6BA4' 'EP-6E0918AF'\n",
      " 'WE-B278D336' 'BU-FB96B095' 'KO-975B107F' 'EX-2E8DF595' 'HA-CCBCBF87'\n",
      " 'AR-ADA61B10' 'RU-F0666E4B' 'WA-A34BF06C' 'KI-137ED849' 'BE-6F48991F'\n",
      " 'CH-C98AC168' 'DE-12392F66' 'BA-41B2EB4B' 'WI-1EA140B1' 'CH-01D85C8D'\n",
      " 'VI-68DB8362' 'RH-80D609C9' 'AB-D5ABF437' 'BE-B069E157' 'WA-A41DA979'\n",
      " 'CO-473A9FBB' 'KI-78096E8C' 'HI-EEA7AE62' 'BR-662EC74C' 'BA-B4AED588'] \n",
      "\n",
      "Number of unique items in legacy_store_details_df_filtered[\"store_code\"].\n"
     ]
    },
    {
     "data": {
      "text/plain": [
       "440"
      ]
     },
     "metadata": {},
     "output_type": "display_data"
    },
    {
     "name": "stdout",
     "output_type": "stream",
     "text": [
      "<class 'pandas.core.frame.DataFrame'>\n",
      "Index: 440 entries, 0 to 450\n",
      "Data columns (total 11 columns):\n",
      " #   Column         Non-Null Count  Dtype \n",
      "---  ------         --------------  ----- \n",
      " 0   index          440 non-null    int64 \n",
      " 1   address        440 non-null    object\n",
      " 2   longitude      440 non-null    object\n",
      " 3   locality       440 non-null    object\n",
      " 4   store_code     440 non-null    object\n",
      " 5   staff_numbers  440 non-null    int64 \n",
      " 6   opening_date   440 non-null    object\n",
      " 7   store_type     440 non-null    object\n",
      " 8   latitude       440 non-null    object\n",
      " 9   country_code   440 non-null    object\n",
      " 10  continent      440 non-null    object\n",
      "dtypes: int64(2), object(9)\n",
      "memory usage: 41.2+ KB\n"
     ]
    },
    {
     "data": {
      "text/plain": [
       "None"
      ]
     },
     "metadata": {},
     "output_type": "display_data"
    }
   ],
   "source": [
    "print(\"Show only unique entries in legacy_store_details_df_filtered[\\\"store_code\\\"]:\\n\")\n",
    "print(legacy_store_details_df_filtered[\"store_code\"].unique(), \"\\n\")\n",
    "print(\"Number of unique items in legacy_store_details_df_filtered[\\\"store_code\\\"].\")\n",
    "display(legacy_store_details_df_filtered[\"store_code\"].nunique())\n",
    "display(legacy_store_details_df_filtered.info())"
   ]
  },
  {
   "cell_type": "code",
   "execution_count": 973,
   "metadata": {},
   "outputs": [
    {
     "data": {
      "application/vnd.plotly.v1+json": {
       "config": {
        "plotlyServerURL": "https://plot.ly"
       },
       "data": [
        {
         "alignmentgroup": "True",
         "bingroup": "x",
         "hovertemplate": "store_code_length=%{x}<br>count=%{y}<extra></extra>",
         "legendgroup": "",
         "marker": {
          "color": "#636efa",
          "pattern": {
           "shape": ""
          }
         },
         "name": "",
         "offsetgroup": "",
         "orientation": "v",
         "showlegend": false,
         "type": "histogram",
         "x": [
          11,
          11,
          11,
          11,
          11,
          11,
          11,
          11,
          11,
          11,
          11,
          11,
          11,
          11,
          11,
          11,
          11,
          11,
          11,
          11,
          11,
          11,
          11,
          11,
          11,
          11,
          11,
          11,
          11,
          11,
          11,
          11,
          11,
          11,
          11,
          11,
          11,
          11,
          11,
          11,
          11,
          11,
          11,
          11,
          11,
          11,
          11,
          11,
          11,
          11,
          11,
          11,
          11,
          11,
          11,
          11,
          11,
          11,
          11,
          11,
          11,
          11,
          11,
          11,
          11,
          11,
          11,
          11,
          11,
          11,
          11,
          11,
          11,
          11,
          11,
          11,
          11,
          11,
          11,
          11,
          11,
          11,
          11,
          11,
          11,
          11,
          11,
          11,
          11,
          11,
          11,
          11,
          11,
          11,
          11,
          11,
          11,
          11,
          11,
          11,
          11,
          11,
          11,
          11,
          11,
          11,
          11,
          11,
          11,
          11,
          11,
          11,
          11,
          11,
          11,
          11,
          11,
          11,
          11,
          11,
          11,
          11,
          11,
          11,
          11,
          11,
          11,
          11,
          11,
          11,
          11,
          11,
          11,
          11,
          11,
          11,
          11,
          11,
          11,
          11,
          11,
          11,
          11,
          11,
          11,
          11,
          11,
          11,
          11,
          11,
          11,
          11,
          11,
          11,
          11,
          11,
          11,
          11,
          11,
          11,
          11,
          11,
          11,
          11,
          11,
          11,
          11,
          11,
          11,
          11,
          11,
          11,
          11,
          11,
          11,
          11,
          11,
          11,
          11,
          11,
          11,
          11,
          11,
          11,
          11,
          11,
          11,
          11,
          11,
          11,
          11,
          11,
          11,
          11,
          11,
          11,
          11,
          11,
          11,
          11,
          11,
          11,
          11,
          11,
          11,
          11,
          11,
          11,
          11,
          11,
          11,
          11,
          11,
          11,
          11,
          11,
          11,
          11,
          11,
          11,
          11,
          11,
          11,
          11,
          11,
          11,
          11,
          11,
          11,
          11,
          11,
          11,
          11,
          11,
          11,
          11,
          11,
          11,
          11,
          11,
          11,
          11,
          11,
          11,
          11,
          11,
          11,
          11,
          11,
          11,
          11,
          11,
          11,
          11,
          11,
          11,
          11,
          11,
          11,
          11,
          11,
          11,
          11,
          11,
          11,
          11,
          11,
          11,
          11,
          11,
          11,
          11,
          11,
          11,
          11,
          11,
          11,
          11,
          11,
          11,
          11,
          11,
          11,
          11,
          11,
          11,
          11,
          11,
          11,
          11,
          11,
          11,
          11,
          11,
          11,
          11,
          11,
          11,
          11,
          11,
          11,
          11,
          11,
          11,
          11,
          11,
          11,
          11,
          11,
          11,
          11,
          11,
          11,
          11,
          11,
          11,
          11,
          11,
          11,
          11,
          11,
          11,
          11,
          11,
          11,
          11,
          11,
          11,
          11,
          11,
          11,
          11,
          11,
          11,
          11,
          11,
          11,
          11,
          11,
          11,
          11,
          11,
          11,
          11,
          11,
          11,
          11,
          11,
          11,
          11,
          11,
          11,
          11,
          11,
          11,
          11,
          11,
          11,
          11,
          11,
          11,
          11,
          11,
          11,
          11,
          11,
          11,
          11,
          11,
          11,
          11,
          11,
          11,
          11,
          11,
          11,
          11,
          11,
          11,
          11,
          11,
          11,
          11,
          11,
          11,
          11,
          11,
          11,
          11,
          11,
          11,
          11,
          11,
          11,
          11,
          11,
          11,
          11,
          11,
          11,
          11,
          11,
          11,
          11,
          11,
          11,
          11,
          11,
          11,
          11,
          11,
          11,
          11,
          11,
          11,
          11,
          11,
          11,
          11,
          11,
          11,
          11,
          11,
          11,
          11,
          11,
          11,
          11,
          11,
          11,
          11,
          11,
          11,
          11,
          11,
          11,
          11,
          11,
          11,
          11
         ],
         "xaxis": "x",
         "yaxis": "y"
        }
       ],
       "layout": {
        "barmode": "relative",
        "legend": {
         "tracegroupgap": 0
        },
        "margin": {
         "t": 60
        },
        "template": {
         "data": {
          "bar": [
           {
            "error_x": {
             "color": "#2a3f5f"
            },
            "error_y": {
             "color": "#2a3f5f"
            },
            "marker": {
             "line": {
              "color": "#E5ECF6",
              "width": 0.5
             },
             "pattern": {
              "fillmode": "overlay",
              "size": 10,
              "solidity": 0.2
             }
            },
            "type": "bar"
           }
          ],
          "barpolar": [
           {
            "marker": {
             "line": {
              "color": "#E5ECF6",
              "width": 0.5
             },
             "pattern": {
              "fillmode": "overlay",
              "size": 10,
              "solidity": 0.2
             }
            },
            "type": "barpolar"
           }
          ],
          "carpet": [
           {
            "aaxis": {
             "endlinecolor": "#2a3f5f",
             "gridcolor": "white",
             "linecolor": "white",
             "minorgridcolor": "white",
             "startlinecolor": "#2a3f5f"
            },
            "baxis": {
             "endlinecolor": "#2a3f5f",
             "gridcolor": "white",
             "linecolor": "white",
             "minorgridcolor": "white",
             "startlinecolor": "#2a3f5f"
            },
            "type": "carpet"
           }
          ],
          "choropleth": [
           {
            "colorbar": {
             "outlinewidth": 0,
             "ticks": ""
            },
            "type": "choropleth"
           }
          ],
          "contour": [
           {
            "colorbar": {
             "outlinewidth": 0,
             "ticks": ""
            },
            "colorscale": [
             [
              0,
              "#0d0887"
             ],
             [
              0.1111111111111111,
              "#46039f"
             ],
             [
              0.2222222222222222,
              "#7201a8"
             ],
             [
              0.3333333333333333,
              "#9c179e"
             ],
             [
              0.4444444444444444,
              "#bd3786"
             ],
             [
              0.5555555555555556,
              "#d8576b"
             ],
             [
              0.6666666666666666,
              "#ed7953"
             ],
             [
              0.7777777777777778,
              "#fb9f3a"
             ],
             [
              0.8888888888888888,
              "#fdca26"
             ],
             [
              1,
              "#f0f921"
             ]
            ],
            "type": "contour"
           }
          ],
          "contourcarpet": [
           {
            "colorbar": {
             "outlinewidth": 0,
             "ticks": ""
            },
            "type": "contourcarpet"
           }
          ],
          "heatmap": [
           {
            "colorbar": {
             "outlinewidth": 0,
             "ticks": ""
            },
            "colorscale": [
             [
              0,
              "#0d0887"
             ],
             [
              0.1111111111111111,
              "#46039f"
             ],
             [
              0.2222222222222222,
              "#7201a8"
             ],
             [
              0.3333333333333333,
              "#9c179e"
             ],
             [
              0.4444444444444444,
              "#bd3786"
             ],
             [
              0.5555555555555556,
              "#d8576b"
             ],
             [
              0.6666666666666666,
              "#ed7953"
             ],
             [
              0.7777777777777778,
              "#fb9f3a"
             ],
             [
              0.8888888888888888,
              "#fdca26"
             ],
             [
              1,
              "#f0f921"
             ]
            ],
            "type": "heatmap"
           }
          ],
          "heatmapgl": [
           {
            "colorbar": {
             "outlinewidth": 0,
             "ticks": ""
            },
            "colorscale": [
             [
              0,
              "#0d0887"
             ],
             [
              0.1111111111111111,
              "#46039f"
             ],
             [
              0.2222222222222222,
              "#7201a8"
             ],
             [
              0.3333333333333333,
              "#9c179e"
             ],
             [
              0.4444444444444444,
              "#bd3786"
             ],
             [
              0.5555555555555556,
              "#d8576b"
             ],
             [
              0.6666666666666666,
              "#ed7953"
             ],
             [
              0.7777777777777778,
              "#fb9f3a"
             ],
             [
              0.8888888888888888,
              "#fdca26"
             ],
             [
              1,
              "#f0f921"
             ]
            ],
            "type": "heatmapgl"
           }
          ],
          "histogram": [
           {
            "marker": {
             "pattern": {
              "fillmode": "overlay",
              "size": 10,
              "solidity": 0.2
             }
            },
            "type": "histogram"
           }
          ],
          "histogram2d": [
           {
            "colorbar": {
             "outlinewidth": 0,
             "ticks": ""
            },
            "colorscale": [
             [
              0,
              "#0d0887"
             ],
             [
              0.1111111111111111,
              "#46039f"
             ],
             [
              0.2222222222222222,
              "#7201a8"
             ],
             [
              0.3333333333333333,
              "#9c179e"
             ],
             [
              0.4444444444444444,
              "#bd3786"
             ],
             [
              0.5555555555555556,
              "#d8576b"
             ],
             [
              0.6666666666666666,
              "#ed7953"
             ],
             [
              0.7777777777777778,
              "#fb9f3a"
             ],
             [
              0.8888888888888888,
              "#fdca26"
             ],
             [
              1,
              "#f0f921"
             ]
            ],
            "type": "histogram2d"
           }
          ],
          "histogram2dcontour": [
           {
            "colorbar": {
             "outlinewidth": 0,
             "ticks": ""
            },
            "colorscale": [
             [
              0,
              "#0d0887"
             ],
             [
              0.1111111111111111,
              "#46039f"
             ],
             [
              0.2222222222222222,
              "#7201a8"
             ],
             [
              0.3333333333333333,
              "#9c179e"
             ],
             [
              0.4444444444444444,
              "#bd3786"
             ],
             [
              0.5555555555555556,
              "#d8576b"
             ],
             [
              0.6666666666666666,
              "#ed7953"
             ],
             [
              0.7777777777777778,
              "#fb9f3a"
             ],
             [
              0.8888888888888888,
              "#fdca26"
             ],
             [
              1,
              "#f0f921"
             ]
            ],
            "type": "histogram2dcontour"
           }
          ],
          "mesh3d": [
           {
            "colorbar": {
             "outlinewidth": 0,
             "ticks": ""
            },
            "type": "mesh3d"
           }
          ],
          "parcoords": [
           {
            "line": {
             "colorbar": {
              "outlinewidth": 0,
              "ticks": ""
             }
            },
            "type": "parcoords"
           }
          ],
          "pie": [
           {
            "automargin": true,
            "type": "pie"
           }
          ],
          "scatter": [
           {
            "fillpattern": {
             "fillmode": "overlay",
             "size": 10,
             "solidity": 0.2
            },
            "type": "scatter"
           }
          ],
          "scatter3d": [
           {
            "line": {
             "colorbar": {
              "outlinewidth": 0,
              "ticks": ""
             }
            },
            "marker": {
             "colorbar": {
              "outlinewidth": 0,
              "ticks": ""
             }
            },
            "type": "scatter3d"
           }
          ],
          "scattercarpet": [
           {
            "marker": {
             "colorbar": {
              "outlinewidth": 0,
              "ticks": ""
             }
            },
            "type": "scattercarpet"
           }
          ],
          "scattergeo": [
           {
            "marker": {
             "colorbar": {
              "outlinewidth": 0,
              "ticks": ""
             }
            },
            "type": "scattergeo"
           }
          ],
          "scattergl": [
           {
            "marker": {
             "colorbar": {
              "outlinewidth": 0,
              "ticks": ""
             }
            },
            "type": "scattergl"
           }
          ],
          "scattermapbox": [
           {
            "marker": {
             "colorbar": {
              "outlinewidth": 0,
              "ticks": ""
             }
            },
            "type": "scattermapbox"
           }
          ],
          "scatterpolar": [
           {
            "marker": {
             "colorbar": {
              "outlinewidth": 0,
              "ticks": ""
             }
            },
            "type": "scatterpolar"
           }
          ],
          "scatterpolargl": [
           {
            "marker": {
             "colorbar": {
              "outlinewidth": 0,
              "ticks": ""
             }
            },
            "type": "scatterpolargl"
           }
          ],
          "scatterternary": [
           {
            "marker": {
             "colorbar": {
              "outlinewidth": 0,
              "ticks": ""
             }
            },
            "type": "scatterternary"
           }
          ],
          "surface": [
           {
            "colorbar": {
             "outlinewidth": 0,
             "ticks": ""
            },
            "colorscale": [
             [
              0,
              "#0d0887"
             ],
             [
              0.1111111111111111,
              "#46039f"
             ],
             [
              0.2222222222222222,
              "#7201a8"
             ],
             [
              0.3333333333333333,
              "#9c179e"
             ],
             [
              0.4444444444444444,
              "#bd3786"
             ],
             [
              0.5555555555555556,
              "#d8576b"
             ],
             [
              0.6666666666666666,
              "#ed7953"
             ],
             [
              0.7777777777777778,
              "#fb9f3a"
             ],
             [
              0.8888888888888888,
              "#fdca26"
             ],
             [
              1,
              "#f0f921"
             ]
            ],
            "type": "surface"
           }
          ],
          "table": [
           {
            "cells": {
             "fill": {
              "color": "#EBF0F8"
             },
             "line": {
              "color": "white"
             }
            },
            "header": {
             "fill": {
              "color": "#C8D4E3"
             },
             "line": {
              "color": "white"
             }
            },
            "type": "table"
           }
          ]
         },
         "layout": {
          "annotationdefaults": {
           "arrowcolor": "#2a3f5f",
           "arrowhead": 0,
           "arrowwidth": 1
          },
          "autotypenumbers": "strict",
          "coloraxis": {
           "colorbar": {
            "outlinewidth": 0,
            "ticks": ""
           }
          },
          "colorscale": {
           "diverging": [
            [
             0,
             "#8e0152"
            ],
            [
             0.1,
             "#c51b7d"
            ],
            [
             0.2,
             "#de77ae"
            ],
            [
             0.3,
             "#f1b6da"
            ],
            [
             0.4,
             "#fde0ef"
            ],
            [
             0.5,
             "#f7f7f7"
            ],
            [
             0.6,
             "#e6f5d0"
            ],
            [
             0.7,
             "#b8e186"
            ],
            [
             0.8,
             "#7fbc41"
            ],
            [
             0.9,
             "#4d9221"
            ],
            [
             1,
             "#276419"
            ]
           ],
           "sequential": [
            [
             0,
             "#0d0887"
            ],
            [
             0.1111111111111111,
             "#46039f"
            ],
            [
             0.2222222222222222,
             "#7201a8"
            ],
            [
             0.3333333333333333,
             "#9c179e"
            ],
            [
             0.4444444444444444,
             "#bd3786"
            ],
            [
             0.5555555555555556,
             "#d8576b"
            ],
            [
             0.6666666666666666,
             "#ed7953"
            ],
            [
             0.7777777777777778,
             "#fb9f3a"
            ],
            [
             0.8888888888888888,
             "#fdca26"
            ],
            [
             1,
             "#f0f921"
            ]
           ],
           "sequentialminus": [
            [
             0,
             "#0d0887"
            ],
            [
             0.1111111111111111,
             "#46039f"
            ],
            [
             0.2222222222222222,
             "#7201a8"
            ],
            [
             0.3333333333333333,
             "#9c179e"
            ],
            [
             0.4444444444444444,
             "#bd3786"
            ],
            [
             0.5555555555555556,
             "#d8576b"
            ],
            [
             0.6666666666666666,
             "#ed7953"
            ],
            [
             0.7777777777777778,
             "#fb9f3a"
            ],
            [
             0.8888888888888888,
             "#fdca26"
            ],
            [
             1,
             "#f0f921"
            ]
           ]
          },
          "colorway": [
           "#636efa",
           "#EF553B",
           "#00cc96",
           "#ab63fa",
           "#FFA15A",
           "#19d3f3",
           "#FF6692",
           "#B6E880",
           "#FF97FF",
           "#FECB52"
          ],
          "font": {
           "color": "#2a3f5f"
          },
          "geo": {
           "bgcolor": "white",
           "lakecolor": "white",
           "landcolor": "#E5ECF6",
           "showlakes": true,
           "showland": true,
           "subunitcolor": "white"
          },
          "hoverlabel": {
           "align": "left"
          },
          "hovermode": "closest",
          "mapbox": {
           "style": "light"
          },
          "paper_bgcolor": "white",
          "plot_bgcolor": "#E5ECF6",
          "polar": {
           "angularaxis": {
            "gridcolor": "white",
            "linecolor": "white",
            "ticks": ""
           },
           "bgcolor": "#E5ECF6",
           "radialaxis": {
            "gridcolor": "white",
            "linecolor": "white",
            "ticks": ""
           }
          },
          "scene": {
           "xaxis": {
            "backgroundcolor": "#E5ECF6",
            "gridcolor": "white",
            "gridwidth": 2,
            "linecolor": "white",
            "showbackground": true,
            "ticks": "",
            "zerolinecolor": "white"
           },
           "yaxis": {
            "backgroundcolor": "#E5ECF6",
            "gridcolor": "white",
            "gridwidth": 2,
            "linecolor": "white",
            "showbackground": true,
            "ticks": "",
            "zerolinecolor": "white"
           },
           "zaxis": {
            "backgroundcolor": "#E5ECF6",
            "gridcolor": "white",
            "gridwidth": 2,
            "linecolor": "white",
            "showbackground": true,
            "ticks": "",
            "zerolinecolor": "white"
           }
          },
          "shapedefaults": {
           "line": {
            "color": "#2a3f5f"
           }
          },
          "ternary": {
           "aaxis": {
            "gridcolor": "white",
            "linecolor": "white",
            "ticks": ""
           },
           "baxis": {
            "gridcolor": "white",
            "linecolor": "white",
            "ticks": ""
           },
           "bgcolor": "#E5ECF6",
           "caxis": {
            "gridcolor": "white",
            "linecolor": "white",
            "ticks": ""
           }
          },
          "title": {
           "x": 0.05
          },
          "xaxis": {
           "automargin": true,
           "gridcolor": "white",
           "linecolor": "white",
           "ticks": "",
           "title": {
            "standoff": 15
           },
           "zerolinecolor": "white",
           "zerolinewidth": 2
          },
          "yaxis": {
           "automargin": true,
           "gridcolor": "white",
           "linecolor": "white",
           "ticks": "",
           "title": {
            "standoff": 15
           },
           "zerolinecolor": "white",
           "zerolinewidth": 2
          }
         }
        },
        "xaxis": {
         "anchor": "y",
         "domain": [
          0,
          1
         ],
         "title": {
          "text": "store_code_length"
         }
        },
        "yaxis": {
         "anchor": "x",
         "domain": [
          0,
          1
         ],
         "title": {
          "text": "count"
         }
        }
       }
      }
     },
     "metadata": {},
     "output_type": "display_data"
    }
   ],
   "source": [
    "import plotly.express as px\n",
    "\n",
    "# Assuming 'orders_table_df2' is your DataFrame\n",
    "legacy_store_details_df_filtered['store_code_length'] = legacy_store_details_df_filtered['store_code'].astype(str).apply(len)\n",
    "\n",
    "store_code_length = px.histogram(legacy_store_details_df_filtered, 'store_code_length')\n",
    "store_code_length.show()\n"
   ]
  },
  {
   "cell_type": "code",
   "execution_count": 974,
   "metadata": {},
   "outputs": [
    {
     "data": {
      "text/html": [
       "<div>\n",
       "<style scoped>\n",
       "    .dataframe tbody tr th:only-of-type {\n",
       "        vertical-align: middle;\n",
       "    }\n",
       "\n",
       "    .dataframe tbody tr th {\n",
       "        vertical-align: top;\n",
       "    }\n",
       "\n",
       "    .dataframe thead th {\n",
       "        text-align: right;\n",
       "    }\n",
       "</style>\n",
       "<table border=\"1\" class=\"dataframe\">\n",
       "  <thead>\n",
       "    <tr style=\"text-align: right;\">\n",
       "      <th></th>\n",
       "      <th>index</th>\n",
       "      <th>address</th>\n",
       "      <th>longitude</th>\n",
       "      <th>locality</th>\n",
       "      <th>store_code</th>\n",
       "      <th>staff_numbers</th>\n",
       "      <th>opening_date</th>\n",
       "      <th>store_type</th>\n",
       "      <th>latitude</th>\n",
       "      <th>country_code</th>\n",
       "      <th>continent</th>\n",
       "      <th>store_code_length</th>\n",
       "    </tr>\n",
       "  </thead>\n",
       "  <tbody>\n",
       "    <tr>\n",
       "      <th>0</th>\n",
       "      <td>1</td>\n",
       "      <td>Flat 72W\\nSally isle\\nEast Deantown\\nE7B 8EB, ...</td>\n",
       "      <td>51.62907</td>\n",
       "      <td>High Wycombe</td>\n",
       "      <td>HI-9B97EE4E</td>\n",
       "      <td>34</td>\n",
       "      <td>1996-10-25</td>\n",
       "      <td>Local</td>\n",
       "      <td>-0.74934</td>\n",
       "      <td>GB</td>\n",
       "      <td>Europe</td>\n",
       "      <td>11</td>\n",
       "    </tr>\n",
       "    <tr>\n",
       "      <th>1</th>\n",
       "      <td>2</td>\n",
       "      <td>Heckerstraße 4/5\\n50491 Säckingen, Landshut</td>\n",
       "      <td>48.52961</td>\n",
       "      <td>Landshut</td>\n",
       "      <td>LA-0772C7B9</td>\n",
       "      <td>92</td>\n",
       "      <td>2013-04-12</td>\n",
       "      <td>Super Store</td>\n",
       "      <td>12.16179</td>\n",
       "      <td>DE</td>\n",
       "      <td>Europe</td>\n",
       "      <td>11</td>\n",
       "    </tr>\n",
       "    <tr>\n",
       "      <th>2</th>\n",
       "      <td>3</td>\n",
       "      <td>5 Harrison tunnel\\nSouth Lydia\\nWC9 2BE, Westbury</td>\n",
       "      <td>51.26</td>\n",
       "      <td>Westbury</td>\n",
       "      <td>WE-1DE82CEE</td>\n",
       "      <td>69</td>\n",
       "      <td>2014-01-02</td>\n",
       "      <td>Super Store</td>\n",
       "      <td>-2.1875</td>\n",
       "      <td>GB</td>\n",
       "      <td>Europe</td>\n",
       "      <td>11</td>\n",
       "    </tr>\n",
       "    <tr>\n",
       "      <th>3</th>\n",
       "      <td>4</td>\n",
       "      <td>Studio 6\\nStephen landing\\nSouth Simon\\nB77 2W...</td>\n",
       "      <td>53.0233</td>\n",
       "      <td>Belper</td>\n",
       "      <td>BE-18074576</td>\n",
       "      <td>35</td>\n",
       "      <td>2019-09-09</td>\n",
       "      <td>Local</td>\n",
       "      <td>-1.48119</td>\n",
       "      <td>GB</td>\n",
       "      <td>Europe</td>\n",
       "      <td>11</td>\n",
       "    </tr>\n",
       "    <tr>\n",
       "      <th>4</th>\n",
       "      <td>5</td>\n",
       "      <td>Flat 92u\\nChristian harbors\\nPort Charlotte\\nN...</td>\n",
       "      <td>53.38333</td>\n",
       "      <td>Gainsborough</td>\n",
       "      <td>GA-CAD01AC2</td>\n",
       "      <td>36</td>\n",
       "      <td>1995-05-15</td>\n",
       "      <td>Local</td>\n",
       "      <td>-0.76667</td>\n",
       "      <td>GB</td>\n",
       "      <td>Europe</td>\n",
       "      <td>11</td>\n",
       "    </tr>\n",
       "    <tr>\n",
       "      <th>...</th>\n",
       "      <td>...</td>\n",
       "      <td>...</td>\n",
       "      <td>...</td>\n",
       "      <td>...</td>\n",
       "      <td>...</td>\n",
       "      <td>...</td>\n",
       "      <td>...</td>\n",
       "      <td>...</td>\n",
       "      <td>...</td>\n",
       "      <td>...</td>\n",
       "      <td>...</td>\n",
       "      <td>...</td>\n",
       "    </tr>\n",
       "    <tr>\n",
       "      <th>445</th>\n",
       "      <td>445</td>\n",
       "      <td>Flat 7\\nStephanie lake\\nMorrisside\\nHP8 8LH, C...</td>\n",
       "      <td>50.76306</td>\n",
       "      <td>Cowes</td>\n",
       "      <td>CO-473A9FBB</td>\n",
       "      <td>94</td>\n",
       "      <td>2008-06-08</td>\n",
       "      <td>Super Store</td>\n",
       "      <td>-1.29772</td>\n",
       "      <td>GB</td>\n",
       "      <td>Europe</td>\n",
       "      <td>11</td>\n",
       "    </tr>\n",
       "    <tr>\n",
       "      <th>446</th>\n",
       "      <td>446</td>\n",
       "      <td>Täschestraße 25\\n39039 Nördlingen, Kirchlengern</td>\n",
       "      <td>52.2</td>\n",
       "      <td>Kirchlengern</td>\n",
       "      <td>KI-78096E8C</td>\n",
       "      <td>61</td>\n",
       "      <td>2005-05-12</td>\n",
       "      <td>Super Store</td>\n",
       "      <td>8.63333</td>\n",
       "      <td>DE</td>\n",
       "      <td>Europe</td>\n",
       "      <td>11</td>\n",
       "    </tr>\n",
       "    <tr>\n",
       "      <th>448</th>\n",
       "      <td>448</td>\n",
       "      <td>Studio 8\\nMoss mall\\nWest Linda\\nM0E 6XR, High...</td>\n",
       "      <td>51.62907</td>\n",
       "      <td>High Wycombe</td>\n",
       "      <td>HI-EEA7AE62</td>\n",
       "      <td>33</td>\n",
       "      <td>1998-05-14</td>\n",
       "      <td>Local</td>\n",
       "      <td>-0.74934</td>\n",
       "      <td>GB</td>\n",
       "      <td>Europe</td>\n",
       "      <td>11</td>\n",
       "    </tr>\n",
       "    <tr>\n",
       "      <th>449</th>\n",
       "      <td>449</td>\n",
       "      <td>Baumplatz 6\\n80114 Kötzting, Bretten</td>\n",
       "      <td>49.03685</td>\n",
       "      <td>Bretten</td>\n",
       "      <td>BR-662EC74C</td>\n",
       "      <td>35</td>\n",
       "      <td>2020-10-17</td>\n",
       "      <td>Local</td>\n",
       "      <td>8.70745</td>\n",
       "      <td>DE</td>\n",
       "      <td>Europe</td>\n",
       "      <td>11</td>\n",
       "    </tr>\n",
       "    <tr>\n",
       "      <th>450</th>\n",
       "      <td>450</td>\n",
       "      <td>Gotthilf-Rose-Straße 7/3\\n45457 Feuchtwangen, ...</td>\n",
       "      <td>50.64336</td>\n",
       "      <td>Bad Honnef</td>\n",
       "      <td>BA-B4AED588</td>\n",
       "      <td>36</td>\n",
       "      <td>2001-05-12</td>\n",
       "      <td>Local</td>\n",
       "      <td>7.2278</td>\n",
       "      <td>DE</td>\n",
       "      <td>eeEurope</td>\n",
       "      <td>11</td>\n",
       "    </tr>\n",
       "  </tbody>\n",
       "</table>\n",
       "<p>440 rows × 12 columns</p>\n",
       "</div>"
      ],
      "text/plain": [
       "     index                                            address longitude  \\\n",
       "0        1  Flat 72W\\nSally isle\\nEast Deantown\\nE7B 8EB, ...  51.62907   \n",
       "1        2        Heckerstraße 4/5\\n50491 Säckingen, Landshut  48.52961   \n",
       "2        3  5 Harrison tunnel\\nSouth Lydia\\nWC9 2BE, Westbury     51.26   \n",
       "3        4  Studio 6\\nStephen landing\\nSouth Simon\\nB77 2W...   53.0233   \n",
       "4        5  Flat 92u\\nChristian harbors\\nPort Charlotte\\nN...  53.38333   \n",
       "..     ...                                                ...       ...   \n",
       "445    445  Flat 7\\nStephanie lake\\nMorrisside\\nHP8 8LH, C...  50.76306   \n",
       "446    446    Täschestraße 25\\n39039 Nördlingen, Kirchlengern      52.2   \n",
       "448    448  Studio 8\\nMoss mall\\nWest Linda\\nM0E 6XR, High...  51.62907   \n",
       "449    449               Baumplatz 6\\n80114 Kötzting, Bretten  49.03685   \n",
       "450    450  Gotthilf-Rose-Straße 7/3\\n45457 Feuchtwangen, ...  50.64336   \n",
       "\n",
       "         locality   store_code  staff_numbers opening_date   store_type  \\\n",
       "0    High Wycombe  HI-9B97EE4E             34   1996-10-25        Local   \n",
       "1        Landshut  LA-0772C7B9             92   2013-04-12  Super Store   \n",
       "2        Westbury  WE-1DE82CEE             69   2014-01-02  Super Store   \n",
       "3          Belper  BE-18074576             35   2019-09-09        Local   \n",
       "4    Gainsborough  GA-CAD01AC2             36   1995-05-15        Local   \n",
       "..            ...          ...            ...          ...          ...   \n",
       "445         Cowes  CO-473A9FBB             94   2008-06-08  Super Store   \n",
       "446  Kirchlengern  KI-78096E8C             61   2005-05-12  Super Store   \n",
       "448  High Wycombe  HI-EEA7AE62             33   1998-05-14        Local   \n",
       "449       Bretten  BR-662EC74C             35   2020-10-17        Local   \n",
       "450    Bad Honnef  BA-B4AED588             36   2001-05-12        Local   \n",
       "\n",
       "     latitude country_code continent  store_code_length  \n",
       "0    -0.74934           GB    Europe                 11  \n",
       "1    12.16179           DE    Europe                 11  \n",
       "2     -2.1875           GB    Europe                 11  \n",
       "3    -1.48119           GB    Europe                 11  \n",
       "4    -0.76667           GB    Europe                 11  \n",
       "..        ...          ...       ...                ...  \n",
       "445  -1.29772           GB    Europe                 11  \n",
       "446   8.63333           DE    Europe                 11  \n",
       "448  -0.74934           GB    Europe                 11  \n",
       "449   8.70745           DE    Europe                 11  \n",
       "450    7.2278           DE  eeEurope                 11  \n",
       "\n",
       "[440 rows x 12 columns]"
      ]
     },
     "metadata": {},
     "output_type": "display_data"
    }
   ],
   "source": [
    "display(legacy_store_details_df_filtered)"
   ]
  },
  {
   "cell_type": "code",
   "execution_count": 975,
   "metadata": {},
   "outputs": [
    {
     "name": "stdout",
     "output_type": "stream",
     "text": [
      "Unique values in legacy_store_details_df_filtered[\"store_code_length\"]: [11]\n"
     ]
    }
   ],
   "source": [
    "print(\"Unique values in legacy_store_details_df_filtered[\\\"store_code_length\\\"]:\", np.sort(legacy_store_details_df_filtered[\"store_code_length\"].unique()))"
   ]
  },
  {
   "cell_type": "markdown",
   "metadata": {},
   "source": [
    "# Check continent"
   ]
  },
  {
   "cell_type": "code",
   "execution_count": 976,
   "metadata": {},
   "outputs": [
    {
     "name": "stdout",
     "output_type": "stream",
     "text": [
      "Show only unique entries in legacy_store_details_df_filtered[\"continent\"]:\n",
      "\n",
      "['Europe' 'America' 'eeEurope' 'eeAmerica'] \n",
      "\n",
      "Number of unique items in legacy_store_details_df_filtered[\"continent\"].\n"
     ]
    },
    {
     "data": {
      "text/plain": [
       "4"
      ]
     },
     "metadata": {},
     "output_type": "display_data"
    },
    {
     "name": "stdout",
     "output_type": "stream",
     "text": [
      "<class 'pandas.core.frame.DataFrame'>\n",
      "Index: 440 entries, 0 to 450\n",
      "Data columns (total 12 columns):\n",
      " #   Column             Non-Null Count  Dtype \n",
      "---  ------             --------------  ----- \n",
      " 0   index              440 non-null    int64 \n",
      " 1   address            440 non-null    object\n",
      " 2   longitude          440 non-null    object\n",
      " 3   locality           440 non-null    object\n",
      " 4   store_code         440 non-null    object\n",
      " 5   staff_numbers      440 non-null    int64 \n",
      " 6   opening_date       440 non-null    object\n",
      " 7   store_type         440 non-null    object\n",
      " 8   latitude           440 non-null    object\n",
      " 9   country_code       440 non-null    object\n",
      " 10  continent          440 non-null    object\n",
      " 11  store_code_length  440 non-null    int64 \n",
      "dtypes: int64(3), object(9)\n",
      "memory usage: 44.7+ KB\n"
     ]
    },
    {
     "data": {
      "text/plain": [
       "None"
      ]
     },
     "metadata": {},
     "output_type": "display_data"
    }
   ],
   "source": [
    "print(\"Show only unique entries in legacy_store_details_df_filtered[\\\"continent\\\"]:\\n\")\n",
    "print(legacy_store_details_df_filtered[\"continent\"].unique(), \"\\n\")\n",
    "print(\"Number of unique items in legacy_store_details_df_filtered[\\\"continent\\\"].\")\n",
    "display(legacy_store_details_df_filtered[\"continent\"].nunique())\n",
    "display(legacy_store_details_df_filtered.info())"
   ]
  },
  {
   "cell_type": "code",
   "execution_count": 977,
   "metadata": {},
   "outputs": [
    {
     "name": "stdout",
     "output_type": "stream",
     "text": [
      "continent\n",
      "Europe     406\n",
      "America     34\n",
      "Name: count, dtype: int64\n"
     ]
    }
   ],
   "source": [
    "legacy_store_details_df_filtered['continent'] = legacy_store_details_df_filtered['continent'].replace({'eeEurope': 'Europe', 'eeAmerica': 'America'})\n",
    "legacy_store_details_df_continent_check = legacy_store_details_df_filtered['continent']\n",
    "print(legacy_store_details_df_continent_check.value_counts())\n"
   ]
  },
  {
   "cell_type": "markdown",
   "metadata": {},
   "source": [
    "# Check store_type"
   ]
  },
  {
   "cell_type": "code",
   "execution_count": 978,
   "metadata": {},
   "outputs": [
    {
     "name": "stdout",
     "output_type": "stream",
     "text": [
      "Show only unique entries in legacy_store_details_df_filtered[\"store_type\"]:\n",
      "\n",
      "['Local' 'Super Store' 'Mall Kiosk' 'Outlet'] \n",
      "\n",
      "Number of unique items in legacy_store_details_df_filtered[\"store_type\"].\n"
     ]
    },
    {
     "data": {
      "text/plain": [
       "4"
      ]
     },
     "metadata": {},
     "output_type": "display_data"
    },
    {
     "name": "stdout",
     "output_type": "stream",
     "text": [
      "<class 'pandas.core.frame.DataFrame'>\n",
      "Index: 440 entries, 0 to 450\n",
      "Data columns (total 12 columns):\n",
      " #   Column             Non-Null Count  Dtype \n",
      "---  ------             --------------  ----- \n",
      " 0   index              440 non-null    int64 \n",
      " 1   address            440 non-null    object\n",
      " 2   longitude          440 non-null    object\n",
      " 3   locality           440 non-null    object\n",
      " 4   store_code         440 non-null    object\n",
      " 5   staff_numbers      440 non-null    int64 \n",
      " 6   opening_date       440 non-null    object\n",
      " 7   store_type         440 non-null    object\n",
      " 8   latitude           440 non-null    object\n",
      " 9   country_code       440 non-null    object\n",
      " 10  continent          440 non-null    object\n",
      " 11  store_code_length  440 non-null    int64 \n",
      "dtypes: int64(3), object(9)\n",
      "memory usage: 44.7+ KB\n"
     ]
    },
    {
     "data": {
      "text/plain": [
       "None"
      ]
     },
     "metadata": {},
     "output_type": "display_data"
    }
   ],
   "source": [
    "print(\"Show only unique entries in legacy_store_details_df_filtered[\\\"store_type\\\"]:\\n\")\n",
    "print(legacy_store_details_df_filtered[\"store_type\"].unique(), \"\\n\")\n",
    "print(\"Number of unique items in legacy_store_details_df_filtered[\\\"store_type\\\"].\")\n",
    "display(legacy_store_details_df_filtered[\"store_type\"].nunique())\n",
    "display(legacy_store_details_df_filtered.info())"
   ]
  },
  {
   "cell_type": "markdown",
   "metadata": {},
   "source": [
    "# Check opening_date"
   ]
  },
  {
   "cell_type": "code",
   "execution_count": 979,
   "metadata": {},
   "outputs": [
    {
     "name": "stdout",
     "output_type": "stream",
     "text": [
      "Show only unique entries in legacy_store_details_df_filtered[\"opening_date\"]:\n",
      "\n",
      "['1996-10-25' '2013-04-12' '2014-01-02' '2019-09-09' '1995-05-15'\n",
      " '2001-01-04' '2000-06-01' '2022-09-05' '2004-09-11' 'October 2012 08'\n",
      " 'July 2015 14' '2014-10-11' '2018-04-05' '1994-03-08' '2020-06-05'\n",
      " '2004-05-02' '2016-02-12' '2008-01-21' '2022-08-01' '1994-08-12'\n",
      " '2010-10-19' '2013-08-05' '2017-12-12' '2002-06-18' '2007-06-24'\n",
      " '2017-11-04' '2008-07-08' '1998-12-23' '2011-03-11' '2010-08-25'\n",
      " '2012-11-09' '2016-10-07' '2018-08-15' '1996-10-02' '2018-06-18'\n",
      " '1995-06-04' '1994-10-18' '2002-07-21' '2013-12-23' '2006-10-04'\n",
      " '1999-07-17' '1998-12-19' '2019-07-28' '2017-10-21' '2020-05-13'\n",
      " '2019-12-24' '2002-04-03' '2009-08-07' '2004-05-23' '2001-07-11'\n",
      " '1998-07-07' '2011-07-07' '2007-02-04' '1993-10-13' '2006-06-16'\n",
      " '2006-02-23' '2019-09-08' '1993-09-03' '2002-01-18' '2009-04-14'\n",
      " '2014-07-16' '2012-05-15' '2006-01-13' '2019-01-11' '1994-05-26'\n",
      " '2015-02-16' '2002-03-30' '2003-04-19' '2017-04-15' '1997-01-16'\n",
      " '2017-10-11' '2012-08-16' '1998-12-12' '1996-04-19' '2001-08-01'\n",
      " '2004-12-19' '1998-12-20' '1999-11-14' '2008-02-04' '2009-08-19'\n",
      " '2002-09-30' '2012-05-10' '2010-03-16' '1999-12-10' '2018-02-18'\n",
      " '2011-05-02' '2010-03-15' '2021-03-12' '2011-03-27' '2005-04-28'\n",
      " '2000-12-29' '2006-07-07' '2022/01/20' '2017-01-09' '2000-07-10'\n",
      " '1997-08-29' '2021-04-17' '1997-12-01' '2005-10-31' '2011-09-25'\n",
      " '1994-11-01' '2001-02-16' '2003-08-08' '2012-02-15' '2021-06-26'\n",
      " '2010-07-15' '1993-05-06' '2012-09-15' '2021-06-16' '1999-11-05'\n",
      " '2008-02-27' '2019-07-12' '2022-08-31' '2008-03-27' '2019-08-07'\n",
      " '2010-07-23' '2013-11-17' '2011-06-18' '2001-11-28' '2014-07-03'\n",
      " '2020 February 01' '2021-02-27' '2015-12-13' '2008-09-01' '1996-06-05'\n",
      " '2007-02-03' '1993-09-28' '1995-11-07' '2002-08-16' '2002-07-30'\n",
      " '2014-09-03' '2000-08-19' '2006-07-26' '2007-02-28' '2011-11-06'\n",
      " '1993-11-24' '1995-12-30' '2006-10-18' '2003-04-07' '1997-02-07'\n",
      " 'May 2003 27' '2005-08-01' '2006-02-20' '1994-08-09' '2021-02-20'\n",
      " '2019-12-08' '2008-03-08' '2014-05-24' '2015-02-12' '1994-09-10'\n",
      " '2005-01-04' '2006-05-22' '2018-05-26' '2001-11-11' '2006-06-15'\n",
      " '2005-12-23' '2022-06-21' '2003-11-19' '1998-04-22' '2013-04-29'\n",
      " '2004-01-27' '2008-03-31' '2012-03-15' '2001-05-20' '2010-08-09'\n",
      " '2012-11-28' '1993-10-02' '2019-01-16' '2014-08-19' '2004-09-13'\n",
      " '2007-07-21' '2015-01-08' '2021-06-20' '2006-02-03' '1994-03-07'\n",
      " '2011-11-27' '1993-03-17' '2005-04-26' '2015-02-13' '2001-02-19'\n",
      " '2010-07-19' '1997-07-01' '1999-11-19' '2000-08-02' '2000-06-28'\n",
      " '2016 November 25' '2001-03-08' '2012-05-02' '2001-05-23' '2005-08-05'\n",
      " '2015-02-03' '2006-10-03' '1997-05-01' '2019-09-04' '2013-06-04'\n",
      " '2014-09-17' '2021-01-12' '2019-11-23' '2015-10-02' '2013-03-30'\n",
      " '2007-12-15' '2008/12/07' '2020-08-22' '2007-12-21' '1996-10-26'\n",
      " '2017-05-21' '2009-11-19' '1998-02-27' '2000-06-23' '2008-03-20'\n",
      " '1995-04-22' '2016-10-31' '2013-10-25' '2021-05-19' '2014-05-21'\n",
      " '2003-04-04' '2016-02-06' '2010-05-21' '2015-02-19' '1993-11-21'\n",
      " '2018-02-13' '1994-09-16' '2013-11-19' '2014-04-07' '2006-05-04'\n",
      " '2006-08-23' '2015-03-20' '2018-10-03' '2000-02-12' '2011-11-25'\n",
      " '2003-11-06' '2021-08-05' '2007-09-05' '2014-07-28' '2022-07-29'\n",
      " 'October 2006 04' '2004-12-07' '1994-10-17' '1997-03-15' '2018-03-09'\n",
      " '1995-06-06' '1994-02-28' '1994-12-02' '1994-08-19' '2017-12-27'\n",
      " '2008-11-15' '2004-12-30' '2015-05-11' '1998-12-18' '2019-09-13'\n",
      " '1999-03-30' '2004-08-13' '2009-07-22' '2001-01-12' '2019-04-27'\n",
      " '1995-01-20' '2010-10-27' '2006-07-08' '2005-06-07' '2013-11-04'\n",
      " '1995-01-21' '2002-11-07' '1998-05-02' '2018-04-26' '2007-09-03'\n",
      " '1997-10-26' '2018-02-26' '2017-06-19' '1995-04-29' '1999-11-24'\n",
      " '2011-08-15' '1999-01-12' '2005-04-07' '2002-11-22' '2011-02-19'\n",
      " '2013-05-04' '2003-01-06' '2013-07-13' '1998-07-18' '2008-02-14'\n",
      " '2003-04-23' '2005-06-13' '2011-08-20' '2004-11-17' '2001 May 04'\n",
      " '2022-02-25' '2000-02-15' '2010-02-02' '1993-01-26' '2016-05-16'\n",
      " '2016-04-29' '2004-03-15' '2018-11-29' '2020-02-22' '2000-09-20'\n",
      " '2005-01-10' '2000-06-27' '1996-05-18' '2022-06-18' '2003-05-17'\n",
      " '2022-10-12' '1993-04-19' '2019-01-06' '2007-05-27' '2017-09-04'\n",
      " '2007-05-05' '2012-09-22' '1996-06-01' '2012-08-18' '2012-10-07'\n",
      " '2004-01-23' '2017-11-17' '1996-02-04' '2019-12-18' '1996-09-18'\n",
      " '2001-05-18' '2015-03-06' '2003-10-16' '2005-03-26' '2010-11-15'\n",
      " '1998-09-29' '2015-08-31' '1996-10-22' '2011-09-24' '1996-10-15'\n",
      " '2011-02-08' '1995-02-26' '2012-06-21' '2018-02-08' '1998-05-05'\n",
      " '1994 November 24' '2018-05-08' '2017-10-24' '1999-01-02' '1994-01-29'\n",
      " '2010-06-06' '2006-07-18' '2020-11-13' '2009-07-26' '2017-06-01'\n",
      " '1998-01-22' '1998-04-01' '1998-09-11' '1999-09-18' '1997-03-25'\n",
      " '1996-07-09' '2002-05-14' '1997-09-15' '2015-07-05' '2021-08-11'\n",
      " '2009-09-20' '2001-04-20' '2000-12-28' '1995-08-26' '2007-10-04'\n",
      " '1994-12-04' '1999-05-16' '2005-11-08' 'February 2009 28' '1994-10-11'\n",
      " '2017-06-12' '2001-07-27' '2010-07-26' '1995-03-05' '2001-05-10'\n",
      " '1997-01-30' '2019-07-19' '2018-10-21' '1993-08-16' '2006-06-18'\n",
      " '1997-09-17' '1994-10-19' '2002-07-23' '2019-01-04' '2006-01-20'\n",
      " '2018-03-30' '2005-03-13' '2022-04-05' '1996-05-30' '2004-02-13'\n",
      " 'March 2015 02' '2005-07-20' '1993-08-03' '2021-06-15' '2013-05-08'\n",
      " '2004-10-11' '2017-01-10' '2003-12-11' '2012-03-06' '2003-11-05'\n",
      " '2010-10-18' '2017-10-26' '1996-12-11' '2016-03-16' '2002-11-18'\n",
      " '1993-06-29' '2018-04-10' '2003-08-05' '2011-12-12' '1996-12-01'\n",
      " '2014-01-13' '2001-09-05' '2004-02-09' '2010-02-06' '2017-09-10'\n",
      " '2010-04-06' '2022-02-23' '1997-11-14' '2021-11-24' '2017-05-28'\n",
      " '1998-08-05' '2001-06-06' '2006-10-09' '2016-03-20' '2003-05-01'\n",
      " '1994-12-27' '2021-02-28' '1996-10-16' '2022-07-16' '1996-11-16'\n",
      " '2005-09-01' '2022-08-20' '2017-01-14' '2020-12-15' '2019-10-30'\n",
      " '2014-06-04' '2008-06-08' '2005-05-12' '1998-05-14' '2020-10-17'\n",
      " '2001-05-12'] \n",
      "\n",
      "Number of unique items in legacy_store_details_df_filtered[\"opening_date\"].\n"
     ]
    },
    {
     "data": {
      "text/plain": [
       "431"
      ]
     },
     "metadata": {},
     "output_type": "display_data"
    },
    {
     "name": "stdout",
     "output_type": "stream",
     "text": [
      "<class 'pandas.core.frame.DataFrame'>\n",
      "Index: 440 entries, 0 to 450\n",
      "Data columns (total 12 columns):\n",
      " #   Column             Non-Null Count  Dtype \n",
      "---  ------             --------------  ----- \n",
      " 0   index              440 non-null    int64 \n",
      " 1   address            440 non-null    object\n",
      " 2   longitude          440 non-null    object\n",
      " 3   locality           440 non-null    object\n",
      " 4   store_code         440 non-null    object\n",
      " 5   staff_numbers      440 non-null    int64 \n",
      " 6   opening_date       440 non-null    object\n",
      " 7   store_type         440 non-null    object\n",
      " 8   latitude           440 non-null    object\n",
      " 9   country_code       440 non-null    object\n",
      " 10  continent          440 non-null    object\n",
      " 11  store_code_length  440 non-null    int64 \n",
      "dtypes: int64(3), object(9)\n",
      "memory usage: 44.7+ KB\n"
     ]
    },
    {
     "data": {
      "text/plain": [
       "None"
      ]
     },
     "metadata": {},
     "output_type": "display_data"
    }
   ],
   "source": [
    "print(\"Show only unique entries in legacy_store_details_df_filtered[\\\"opening_date\\\"]:\\n\")\n",
    "print(legacy_store_details_df_filtered[\"opening_date\"].unique(), \"\\n\")\n",
    "print(\"Number of unique items in legacy_store_details_df_filtered[\\\"opening_date\\\"].\")\n",
    "display(legacy_store_details_df_filtered[\"opening_date\"].nunique())\n",
    "display(legacy_store_details_df_filtered.info())"
   ]
  },
  {
   "cell_type": "markdown",
   "metadata": {},
   "source": [
    "# Check for duplicate rows"
   ]
  },
  {
   "cell_type": "code",
   "execution_count": 980,
   "metadata": {},
   "outputs": [
    {
     "name": "stdout",
     "output_type": "stream",
     "text": [
      "Empty DataFrame\n",
      "Columns: [index, address, longitude, lat, locality, store_code, staff_numbers, opening_date, store_type, latitude, country_code, continent]\n",
      "Index: []\n"
     ]
    }
   ],
   "source": [
    "duplicates = legacy_store_details_df.duplicated()\n",
    "print(legacy_store_details_df[duplicates])"
   ]
  }
 ],
 "metadata": {
  "kernelspec": {
   "display_name": "mrdc_env",
   "language": "python",
   "name": "python3"
  },
  "language_info": {
   "codemirror_mode": {
    "name": "ipython",
    "version": 3
   },
   "file_extension": ".py",
   "mimetype": "text/x-python",
   "name": "python",
   "nbconvert_exporter": "python",
   "pygments_lexer": "ipython3",
   "version": "3.11.5"
  }
 },
 "nbformat": 4,
 "nbformat_minor": 5
}
