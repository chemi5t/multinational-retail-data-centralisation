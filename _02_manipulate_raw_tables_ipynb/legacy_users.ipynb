{
 "cells": [
  {
   "cell_type": "code",
   "execution_count": null,
   "id": "dae2deb5",
   "metadata": {},
   "outputs": [],
   "source": [
    "import pandas as pd\n",
    "from _06_multinational_retail_data_centralisation.database_utils import DatabaseConnector as dc\n",
    "\n",
    "api_connector = dc()\n",
    "credentials = api_connector.read_db_creds('db_creds.yaml')\n",
    "engine, _ = api_connector.init_db_engine(credentials)\n",
    "# Import data from 'legacy_users' table into DataFrame\n",
    "legacy_users_df = pd.read_sql('legacy_users', engine)\n",
    "# Display the DataFrame\n",
    "legacy_users_df"
   ]
  }
 ],
 "metadata": {},
 "nbformat": 4,
 "nbformat_minor": 5
}
