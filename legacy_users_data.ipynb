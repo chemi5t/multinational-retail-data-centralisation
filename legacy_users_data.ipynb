{
 "cells": [
  {
   "cell_type": "code",
   "execution_count": null,
   "id": "886de42b",
   "metadata": {},
   "outputs": [],
   "source": [
    "import pandas as pd\n",
    "from database_utils import DatabaseConnector as dc\n",
    "\n",
    "database_connector = dc()\n",
    "credentials = database_connector.read_db_creds('db_creds.yaml')\n",
    "engine, _ = database_connector.init_db_engine(credentials)\n",
    "\n",
    "# Import data from 'legacy_users' table into DataFrame\n",
    "legacy_users_df = pd.read_sql('legacy_users', engine)\n",
    "\n",
    "# Display the DataFrame\n",
    "legacy_users_df"
   ]
  }
 ],
 "metadata": {},
 "nbformat": 4,
 "nbformat_minor": 5
}
