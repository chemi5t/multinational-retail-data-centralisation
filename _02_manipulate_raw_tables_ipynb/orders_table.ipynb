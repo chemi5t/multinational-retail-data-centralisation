{
 "cells": [
  {
   "cell_type": "code",
   "execution_count": null,
   "id": "b83fe7c6",
   "metadata": {},
   "outputs": [],
   "source": [
    "import pandas as pd\n",
    "from _06_multinational_retail_data_centralisation.database_utils import DatabaseConnector as dc\n",
    "\n",
    "database_connector = dc()\n",
    "credentials = database_connector.read_db_creds('db_creds.yaml')\n",
    "engine, _ = database_connector.init_db_engine(credentials)\n",
    "# Import data from 'orders_table' table into DataFrame\n",
    "orders_table_df = pd.read_sql('orders_table', engine)\n",
    "# Display the DataFrame\n",
    "orders_table_df"
   ]
  }
 ],
 "metadata": {},
 "nbformat": 4,
 "nbformat_minor": 5
}
