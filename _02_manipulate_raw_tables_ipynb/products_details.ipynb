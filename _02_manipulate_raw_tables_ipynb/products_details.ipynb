{
 "cells": [
  {
   "cell_type": "code",
   "execution_count": null,
   "id": "07e5da16",
   "metadata": {},
   "outputs": [],
   "source": [
    "import pandas as pd\n",
    "# Import data from 'products_details.csv' into DataFrame.\n",
    "\n",
    "table_name = 'products_details'\n",
    "csv_file_path = 'products_details.csv'\n",
    "products_details_df = pd.read_csv(csv_file_path, index_col=0)\n",
    "# Display the DataFrame\n",
    "display(products_details_df)"
   ]
  }
 ],
 "metadata": {},
 "nbformat": 4,
 "nbformat_minor": 5
}
