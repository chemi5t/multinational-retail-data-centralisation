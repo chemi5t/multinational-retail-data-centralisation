{
 "cells": [
  {
   "cell_type": "code",
   "execution_count": 2,
   "metadata": {},
   "outputs": [],
   "source": [
    "from database_utils import DatabaseConnector\n",
    "from data_extraction import DataExtractor\n",
    "# from data_cleaning import DataCleaning\n",
    "import pandas as pd\n",
    "    \n",
    "\n"
   ]
  },
  {
   "cell_type": "code",
   "execution_count": null,
   "metadata": {},
   "outputs": [],
   "source": [
    "import yaml # to read .yaml. Help with read_db_creds\n",
    "from sqlalchemy import create_engine # this ORM will transform the python objects into SQL tables\n",
    "\n",
    "# Step 1: Specify the correct file path\n",
    "file_path = 'db_creds.yaml'\n",
    "\n",
    "with open(file_path, 'r') as file:\n",
    "    credentials = yaml.safe_load(file)\n",
    "\n",
    "print(credentials)"
   ]
  },
  {
   "cell_type": "code",
   "execution_count": null,
   "metadata": {},
   "outputs": [],
   "source": [
    "    @staticmethod\n",
    "    def init_db_engine(credentials):\n",
    "        engine = create_engine(f\"{credentials['RDS_DATABASE_TYPE']}{credentials['RDS_DBAPI']}://{credentials['RDS_USER']}:{credentials['RDS_PASSWORD']}@{credentials['RDS_HOST']}:{credentials['RDS_PORT']}/{credentials['RDS_DATABASE']}\")\n",
    "        return engine\n",
    "\n"
   ]
  },
  {
   "cell_type": "code",
   "execution_count": null,
   "metadata": {},
   "outputs": [],
   "source": [
    "# Step 1: Specify the correct file path\n",
    "file_path = 'db_creds.yaml'\n",
    "\n",
    "# Step 2: Read credentials\n",
    "credentials = DatabaseConnector.read_db_creds(file_path)\n",
    "\n",
    "# Step 3: Initialise database engine\n",
    "engine = DatabaseConnector.init_db_engine(credentials)"
   ]
  },
  {
   "cell_type": "code",
   "execution_count": 3,
   "metadata": {},
   "outputs": [
    {
     "ename": "NameError",
     "evalue": "name 'engine' is not defined",
     "output_type": "error",
     "traceback": [
      "\u001b[1;31m---------------------------------------------------------------------------\u001b[0m",
      "\u001b[1;31mNameError\u001b[0m                                 Traceback (most recent call last)",
      "\u001b[1;32mc:\\Users\\chemi\\AiCore_Projects\\multinational-retail-data-centralisation946\\test.ipynb Cell 5\u001b[0m line \u001b[0;36m2\n\u001b[0;32m      <a href='vscode-notebook-cell:/c%3A/Users/chemi/AiCore_Projects/multinational-retail-data-centralisation946/test.ipynb#W3sZmlsZQ%3D%3D?line=0'>1</a>\u001b[0m data_extractor \u001b[39m=\u001b[39m DataExtractor()\n\u001b[1;32m----> <a href='vscode-notebook-cell:/c%3A/Users/chemi/AiCore_Projects/multinational-retail-data-centralisation946/test.ipynb#W3sZmlsZQ%3D%3D?line=1'>2</a>\u001b[0m tables \u001b[39m=\u001b[39m data_extractor\u001b[39m.\u001b[39mlist_db_tables(engine)\n\u001b[0;32m      <a href='vscode-notebook-cell:/c%3A/Users/chemi/AiCore_Projects/multinational-retail-data-centralisation946/test.ipynb#W3sZmlsZQ%3D%3D?line=2'>3</a>\u001b[0m \u001b[39mprint\u001b[39m(\u001b[39m\"\u001b[39m\u001b[39mAvailable Tables:\u001b[39m\u001b[39m\"\u001b[39m, tables)\n\u001b[0;32m      <a href='vscode-notebook-cell:/c%3A/Users/chemi/AiCore_Projects/multinational-retail-data-centralisation946/test.ipynb#W3sZmlsZQ%3D%3D?line=3'>4</a>\u001b[0m \u001b[39mprint\u001b[39m(\u001b[39mtype\u001b[39m(tables))\n",
      "\u001b[1;31mNameError\u001b[0m: name 'engine' is not defined"
     ]
    }
   ],
   "source": []
  },
  {
   "cell_type": "code",
   "execution_count": null,
   "metadata": {},
   "outputs": [],
   "source": []
  }
 ],
 "metadata": {
  "kernelspec": {
   "display_name": "mrdc_env",
   "language": "python",
   "name": "python3"
  },
  "language_info": {
   "codemirror_mode": {
    "name": "ipython",
    "version": 3
   },
   "file_extension": ".py",
   "mimetype": "text/x-python",
   "name": "python",
   "nbconvert_exporter": "python",
   "pygments_lexer": "ipython3",
   "version": "3.11.5"
  }
 },
 "nbformat": 4,
 "nbformat_minor": 2
}
