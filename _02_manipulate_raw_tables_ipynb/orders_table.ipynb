{
 "cells": [
  {
   "cell_type": "code",
   "execution_count": null,
   "id": "9ee8545c",
   "metadata": {},
   "outputs": [],
   "source": [
    "import pandas as pd\n",
    "import sys\n",
    "sys.path.append('C:\\\\Users\\\\chemi\\\\AiCore_Projects\\\\multinational-retail-data-centralisation')\n",
    "sys.path.append(r'c:\\Users\\chemi\\AiCore_Projects\\multinational-retail-data-centralisation')\n",
    "from _06_multinational_retail_data_centralisation.database_utils import DatabaseConnector as dc\n",
    "\n",
    "api_connector = dc()\n",
    "credentials = api_connector.read_db_creds('..\\db_creds.yaml')\n",
    "engine, _ = api_connector.init_db_engine(credentials)\n",
    "# Import data from 'orders_table' table into DataFrame\n",
    "orders_table_df = pd.read_sql('orders_table', engine)\n",
    "# Display the DataFrame\n",
    "orders_table_df"
   ]
  }
 ],
 "metadata": {},
 "nbformat": 4,
 "nbformat_minor": 5
}
