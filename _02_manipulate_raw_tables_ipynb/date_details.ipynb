{
 "cells": [
  {
   "cell_type": "code",
   "execution_count": null,
   "id": "6492f628",
   "metadata": {},
   "outputs": [],
   "source": [
    "import pandas as pd\n",
    "\n",
    "# Import data from '_01_raw_tables_csv\\date_details.csv' into DataFrame.\n",
    "table_name = 'date_details'\n",
    "csv_file_path = '_01_raw_tables_csv\\date_details.csv'\n",
    "date_details_df = pd.read_csv(csv_file_path, index_col=0)\n",
    "# Display the DataFrame\n",
    "display(date_details_df)"
   ]
  }
 ],
 "metadata": {},
 "nbformat": 4,
 "nbformat_minor": 5
}
